{
 "cells": [
  {
   "cell_type": "code",
   "execution_count": 1,
   "id": "9202f321-70e1-44da-a1ff-81ecff00674b",
   "metadata": {},
   "outputs": [
    {
     "name": "stdout",
     "output_type": "stream",
     "text": [
      "C:\\Users\\Vaibhav\\anaconda3\\envs\\EDU\\python.exe\n",
      "C:\\Users\\Vaibhav\\anaconda3\\python.exe\n",
      "C:\\Python313\\python.exe\n",
      "C:\\Users\\Vaibhav\\AppData\\Local\\Microsoft\\WindowsApps\\python.exe\n"
     ]
    }
   ],
   "source": [
    "#Confirms that your Jupyter notebook is correctly using the EDU conda environmen\n",
    "!where python"
   ]
  },
  {
   "cell_type": "code",
   "execution_count": 2,
   "id": "e51604ea-cf6f-443f-a45e-26c499258086",
   "metadata": {},
   "outputs": [
    {
     "name": "stdout",
     "output_type": "stream",
     "text": [
      "Requirement already satisfied: ultralytics in c:\\users\\vaibhav\\anaconda3\\envs\\edu\\lib\\site-packages (8.3.170)\n",
      "Requirement already satisfied: opencv-python in c:\\users\\vaibhav\\anaconda3\\envs\\edu\\lib\\site-packages (4.12.0.88)\n",
      "Requirement already satisfied: matplotlib in c:\\users\\vaibhav\\anaconda3\\envs\\edu\\lib\\site-packages (3.10.3)\n",
      "Requirement already satisfied: numpy>=1.23.0 in c:\\users\\vaibhav\\anaconda3\\envs\\edu\\lib\\site-packages (from ultralytics) (2.1.2)\n",
      "Requirement already satisfied: pillow>=7.1.2 in c:\\users\\vaibhav\\anaconda3\\envs\\edu\\lib\\site-packages (from ultralytics) (11.0.0)\n",
      "Requirement already satisfied: pyyaml>=5.3.1 in c:\\users\\vaibhav\\anaconda3\\envs\\edu\\lib\\site-packages (from ultralytics) (6.0.2)\n",
      "Requirement already satisfied: requests>=2.23.0 in c:\\users\\vaibhav\\anaconda3\\envs\\edu\\lib\\site-packages (from ultralytics) (2.32.4)\n",
      "Requirement already satisfied: scipy>=1.4.1 in c:\\users\\vaibhav\\anaconda3\\envs\\edu\\lib\\site-packages (from ultralytics) (1.15.3)\n",
      "Requirement already satisfied: torch>=1.8.0 in c:\\users\\vaibhav\\anaconda3\\envs\\edu\\lib\\site-packages (from ultralytics) (2.7.1+cu118)\n",
      "Requirement already satisfied: torchvision>=0.9.0 in c:\\users\\vaibhav\\anaconda3\\envs\\edu\\lib\\site-packages (from ultralytics) (0.22.1+cu118)\n",
      "Requirement already satisfied: tqdm>=4.64.0 in c:\\users\\vaibhav\\anaconda3\\envs\\edu\\lib\\site-packages (from ultralytics) (4.67.1)\n",
      "Requirement already satisfied: psutil in c:\\users\\vaibhav\\anaconda3\\envs\\edu\\lib\\site-packages (from ultralytics) (5.9.0)\n",
      "Requirement already satisfied: py-cpuinfo in c:\\users\\vaibhav\\anaconda3\\envs\\edu\\lib\\site-packages (from ultralytics) (9.0.0)\n",
      "Requirement already satisfied: pandas>=1.1.4 in c:\\users\\vaibhav\\anaconda3\\envs\\edu\\lib\\site-packages (from ultralytics) (2.3.1)\n",
      "Requirement already satisfied: ultralytics-thop>=2.0.0 in c:\\users\\vaibhav\\anaconda3\\envs\\edu\\lib\\site-packages (from ultralytics) (2.0.14)\n",
      "Requirement already satisfied: contourpy>=1.0.1 in c:\\users\\vaibhav\\anaconda3\\envs\\edu\\lib\\site-packages (from matplotlib) (1.3.2)\n",
      "Requirement already satisfied: cycler>=0.10 in c:\\users\\vaibhav\\anaconda3\\envs\\edu\\lib\\site-packages (from matplotlib) (0.12.1)\n",
      "Requirement already satisfied: fonttools>=4.22.0 in c:\\users\\vaibhav\\anaconda3\\envs\\edu\\lib\\site-packages (from matplotlib) (4.59.0)\n",
      "Requirement already satisfied: kiwisolver>=1.3.1 in c:\\users\\vaibhav\\anaconda3\\envs\\edu\\lib\\site-packages (from matplotlib) (1.4.8)\n",
      "Requirement already satisfied: packaging>=20.0 in c:\\users\\vaibhav\\anaconda3\\envs\\edu\\lib\\site-packages (from matplotlib) (25.0)\n",
      "Requirement already satisfied: pyparsing>=2.3.1 in c:\\users\\vaibhav\\anaconda3\\envs\\edu\\lib\\site-packages (from matplotlib) (3.2.3)\n",
      "Requirement already satisfied: python-dateutil>=2.7 in c:\\users\\vaibhav\\anaconda3\\envs\\edu\\lib\\site-packages (from matplotlib) (2.9.0.post0)\n",
      "Requirement already satisfied: pytz>=2020.1 in c:\\users\\vaibhav\\anaconda3\\envs\\edu\\lib\\site-packages (from pandas>=1.1.4->ultralytics) (2025.2)\n",
      "Requirement already satisfied: tzdata>=2022.7 in c:\\users\\vaibhav\\anaconda3\\envs\\edu\\lib\\site-packages (from pandas>=1.1.4->ultralytics) (2025.2)\n",
      "Requirement already satisfied: six>=1.5 in c:\\users\\vaibhav\\anaconda3\\envs\\edu\\lib\\site-packages (from python-dateutil>=2.7->matplotlib) (1.17.0)\n",
      "Requirement already satisfied: charset_normalizer<4,>=2 in c:\\users\\vaibhav\\anaconda3\\envs\\edu\\lib\\site-packages (from requests>=2.23.0->ultralytics) (3.3.2)\n",
      "Requirement already satisfied: idna<4,>=2.5 in c:\\users\\vaibhav\\anaconda3\\envs\\edu\\lib\\site-packages (from requests>=2.23.0->ultralytics) (3.10)\n",
      "Requirement already satisfied: urllib3<3,>=1.21.1 in c:\\users\\vaibhav\\anaconda3\\envs\\edu\\lib\\site-packages (from requests>=2.23.0->ultralytics) (2.5.0)\n",
      "Requirement already satisfied: certifi>=2017.4.17 in c:\\users\\vaibhav\\anaconda3\\envs\\edu\\lib\\site-packages (from requests>=2.23.0->ultralytics) (2025.7.14)\n",
      "Requirement already satisfied: filelock in c:\\users\\vaibhav\\anaconda3\\envs\\edu\\lib\\site-packages (from torch>=1.8.0->ultralytics) (3.13.1)\n",
      "Requirement already satisfied: typing-extensions>=4.10.0 in c:\\users\\vaibhav\\anaconda3\\envs\\edu\\lib\\site-packages (from torch>=1.8.0->ultralytics) (4.12.2)\n",
      "Requirement already satisfied: sympy>=1.13.3 in c:\\users\\vaibhav\\anaconda3\\envs\\edu\\lib\\site-packages (from torch>=1.8.0->ultralytics) (1.13.3)\n",
      "Requirement already satisfied: networkx in c:\\users\\vaibhav\\anaconda3\\envs\\edu\\lib\\site-packages (from torch>=1.8.0->ultralytics) (3.3)\n",
      "Requirement already satisfied: jinja2 in c:\\users\\vaibhav\\anaconda3\\envs\\edu\\lib\\site-packages (from torch>=1.8.0->ultralytics) (3.1.4)\n",
      "Requirement already satisfied: fsspec in c:\\users\\vaibhav\\anaconda3\\envs\\edu\\lib\\site-packages (from torch>=1.8.0->ultralytics) (2024.6.1)\n",
      "Requirement already satisfied: mpmath<1.4,>=1.1.0 in c:\\users\\vaibhav\\anaconda3\\envs\\edu\\lib\\site-packages (from sympy>=1.13.3->torch>=1.8.0->ultralytics) (1.3.0)\n",
      "Requirement already satisfied: colorama in c:\\users\\vaibhav\\anaconda3\\envs\\edu\\lib\\site-packages (from tqdm>=4.64.0->ultralytics) (0.4.6)\n",
      "Requirement already satisfied: MarkupSafe>=2.0 in c:\\users\\vaibhav\\anaconda3\\envs\\edu\\lib\\site-packages (from jinja2->torch>=1.8.0->ultralytics) (2.1.5)\n"
     ]
    }
   ],
   "source": [
    "#Installing Dependencies\n",
    "!pip install ultralytics opencv-python matplotlib"
   ]
  },
  {
   "cell_type": "code",
   "execution_count": 3,
   "id": "6143f23d-32f2-41eb-8955-d733836ea963",
   "metadata": {},
   "outputs": [
    {
     "name": "stderr",
     "output_type": "stream",
     "text": [
      "C:\\Users\\Vaibhav\\anaconda3\\envs\\EDU\\lib\\site-packages\\requests\\__init__.py:86: RequestsDependencyWarning: Unable to find acceptable character detection dependency (chardet or charset_normalizer).\n",
      "  warnings.warn(\n"
     ]
    },
    {
     "name": "stdout",
     "output_type": "stream",
     "text": [
      "\n",
      "Downloading https://ultralytics.com/images/bus.jpg to 'bus.jpg'...\n"
     ]
    },
    {
     "name": "stderr",
     "output_type": "stream",
     "text": [
      "100%|██████████| 134k/134k [00:00<00:00, 10.6MB/s]\n"
     ]
    },
    {
     "name": "stdout",
     "output_type": "stream",
     "text": [
      "image 1/1 C:\\Users\\Vaibhav\\Downloads\\HackWithDelhi2.0\\bus.jpg: 640x480 4 persons, 1 bus, 1 stop sign, 67.4ms\n",
      "Speed: 2.5ms preprocess, 67.4ms inference, 67.9ms postprocess per image at shape (1, 3, 640, 480)\n",
      "Results saved to \u001b[1mruns\\detect\\predict\u001b[0m\n"
     ]
    }
   ],
   "source": [
    "# ✅ Run YOLOv8 prediction on a sample image to verify installation\n",
    "from ultralytics import YOLO\n",
    "\n",
    "model = YOLO(\"yolov8n.pt\")  # Load the pretrained nano model (smallest and fastest)\n",
    "results = model.predict(source=\"https://ultralytics.com/images/bus.jpg\", save=True)\n",
    "\n",
    "# Output will be saved in the folder: runs/detect/predict\n"
   ]
  },
  {
   "cell_type": "code",
   "execution_count": 4,
   "id": "0605b60a-1a7e-4e14-a48a-d99462d51aec",
   "metadata": {},
   "outputs": [
    {
     "name": "stdout",
     "output_type": "stream",
     "text": [
      "GPU Available: True\n",
      "GPU Name: NVIDIA GeForce RTX 4050 Laptop GPU\n"
     ]
    }
   ],
   "source": [
    "# ✅ Check if GPU is available for training (using PyTorch)\n",
    "import torch\n",
    "print(\"GPU Available:\", torch.cuda.is_available())\n",
    "print(\"GPU Name:\", torch.cuda.get_device_name(0))\n"
   ]
  },
  {
   "cell_type": "code",
   "execution_count": 5,
   "id": "243739e1-b7c4-4e0d-a411-971fb63faf0b",
   "metadata": {},
   "outputs": [
    {
     "name": "stdout",
     "output_type": "stream",
     "text": [
      "Downloading https://github.com/ultralytics/assets/releases/download/v8.3.0/yolov8m.pt to 'yolov8m.pt'...\n"
     ]
    },
    {
     "name": "stderr",
     "output_type": "stream",
     "text": [
      "100%|██████████| 49.7M/49.7M [00:02<00:00, 20.1MB/s]\n"
     ]
    },
    {
     "name": "stdout",
     "output_type": "stream",
     "text": [
      "Ultralytics 8.3.170  Python-3.10.18 torch-2.7.1+cu118 CUDA:0 (NVIDIA GeForce RTX 4050 Laptop GPU, 6140MiB)\n",
      "\u001b[34m\u001b[1mengine\\trainer: \u001b[0magnostic_nms=False, amp=True, augment=False, auto_augment=randaugment, batch=16, bgr=0.0, box=7.5, cache=False, cfg=None, classes=None, close_mosaic=10, cls=0.5, conf=None, copy_paste=0.0, copy_paste_mode=flip, cos_lr=False, cutmix=0.0, data=yolo_params.yaml, degrees=0.0, deterministic=True, device=0, dfl=1.5, dnn=False, dropout=0.0, dynamic=False, embed=None, epochs=50, erasing=0.4, exist_ok=False, fliplr=0.5, flipud=0.0, format=torchscript, fraction=1.0, freeze=None, half=False, hsv_h=0.015, hsv_s=0.7, hsv_v=0.4, imgsz=640, int8=False, iou=0.7, keras=False, kobj=1.0, line_width=None, lr0=0.01, lrf=0.01, mask_ratio=4, max_det=300, mixup=0.0, mode=train, model=yolov8m.pt, momentum=0.937, mosaic=1.0, multi_scale=False, name=train, nbs=64, nms=False, opset=None, optimize=False, optimizer=auto, overlap_mask=True, patience=100, perspective=0.0, plots=True, pose=12.0, pretrained=True, profile=False, project=None, rect=False, resume=False, retina_masks=False, save=True, save_conf=False, save_crop=False, save_dir=runs\\detect\\train, save_frames=False, save_json=False, save_period=-1, save_txt=False, scale=0.5, seed=0, shear=0.0, show=False, show_boxes=True, show_conf=True, show_labels=True, simplify=True, single_cls=False, source=None, split=val, stream_buffer=False, task=detect, time=None, tracker=botsort.yaml, translate=0.1, val=True, verbose=True, vid_stride=1, visualize=False, warmup_bias_lr=0.1, warmup_epochs=3.0, warmup_momentum=0.8, weight_decay=0.0005, workers=8, workspace=None\n",
      "Overriding model.yaml nc=80 with nc=3\n",
      "\n",
      "                   from  n    params  module                                       arguments                     \n",
      "  0                  -1  1      1392  ultralytics.nn.modules.conv.Conv             [3, 48, 3, 2]                 \n",
      "  1                  -1  1     41664  ultralytics.nn.modules.conv.Conv             [48, 96, 3, 2]                \n",
      "  2                  -1  2    111360  ultralytics.nn.modules.block.C2f             [96, 96, 2, True]             \n",
      "  3                  -1  1    166272  ultralytics.nn.modules.conv.Conv             [96, 192, 3, 2]               \n",
      "  4                  -1  4    813312  ultralytics.nn.modules.block.C2f             [192, 192, 4, True]           \n",
      "  5                  -1  1    664320  ultralytics.nn.modules.conv.Conv             [192, 384, 3, 2]              \n",
      "  6                  -1  4   3248640  ultralytics.nn.modules.block.C2f             [384, 384, 4, True]           \n",
      "  7                  -1  1   1991808  ultralytics.nn.modules.conv.Conv             [384, 576, 3, 2]              \n",
      "  8                  -1  2   3985920  ultralytics.nn.modules.block.C2f             [576, 576, 2, True]           \n",
      "  9                  -1  1    831168  ultralytics.nn.modules.block.SPPF            [576, 576, 5]                 \n",
      " 10                  -1  1         0  torch.nn.modules.upsampling.Upsample         [None, 2, 'nearest']          \n",
      " 11             [-1, 6]  1         0  ultralytics.nn.modules.conv.Concat           [1]                           \n",
      " 12                  -1  2   1993728  ultralytics.nn.modules.block.C2f             [960, 384, 2]                 \n",
      " 13                  -1  1         0  torch.nn.modules.upsampling.Upsample         [None, 2, 'nearest']          \n",
      " 14             [-1, 4]  1         0  ultralytics.nn.modules.conv.Concat           [1]                           \n",
      " 15                  -1  2    517632  ultralytics.nn.modules.block.C2f             [576, 192, 2]                 \n",
      " 16                  -1  1    332160  ultralytics.nn.modules.conv.Conv             [192, 192, 3, 2]              \n",
      " 17            [-1, 12]  1         0  ultralytics.nn.modules.conv.Concat           [1]                           \n",
      " 18                  -1  2   1846272  ultralytics.nn.modules.block.C2f             [576, 384, 2]                 \n",
      " 19                  -1  1   1327872  ultralytics.nn.modules.conv.Conv             [384, 384, 3, 2]              \n",
      " 20             [-1, 9]  1         0  ultralytics.nn.modules.conv.Concat           [1]                           \n",
      " 21                  -1  2   4207104  ultralytics.nn.modules.block.C2f             [960, 576, 2]                 \n",
      " 22        [15, 18, 21]  1   3777433  ultralytics.nn.modules.head.Detect           [3, [192, 384, 576]]          \n",
      "Model summary: 169 layers, 25,858,057 parameters, 25,858,041 gradients, 79.1 GFLOPs\n",
      "\n",
      "Transferred 469/475 items from pretrained weights\n",
      "Freezing layer 'model.22.dfl.conv.weight'\n",
      "\u001b[34m\u001b[1mAMP: \u001b[0mrunning Automatic Mixed Precision (AMP) checks...\n",
      "Downloading https://github.com/ultralytics/assets/releases/download/v8.3.0/yolo11n.pt to 'yolo11n.pt'...\n"
     ]
    },
    {
     "name": "stderr",
     "output_type": "stream",
     "text": [
      "100%|██████████| 5.35M/5.35M [00:00<00:00, 31.5MB/s]\n"
     ]
    },
    {
     "name": "stdout",
     "output_type": "stream",
     "text": [
      "\u001b[34m\u001b[1mAMP: \u001b[0mchecks passed \n",
      "\u001b[34m\u001b[1mtrain: \u001b[0mFast image access  (ping: 0.20.0 ms, read: 181.321.1 MB/s, size: 2900.0 KB)\n"
     ]
    },
    {
     "name": "stderr",
     "output_type": "stream",
     "text": [
      "\u001b[34m\u001b[1mtrain: \u001b[0mScanning C:\\Users\\Vaibhav\\Downloads\\HackWithDelhi2.0\\data\\train\\labels.cache... 846 images, 5 backgrounds, 0 corrupt: 100%|██████████| 846/846 [00:00<?, ?it/s]\n"
     ]
    },
    {
     "name": "stdout",
     "output_type": "stream",
     "text": [
      "\u001b[34m\u001b[1mval: \u001b[0mFast image access  (ping: 0.30.1 ms, read: 508.0347.2 MB/s, size: 3015.9 KB)\n"
     ]
    },
    {
     "name": "stderr",
     "output_type": "stream",
     "text": [
      "\u001b[34m\u001b[1mval: \u001b[0mScanning C:\\Users\\Vaibhav\\Downloads\\HackWithDelhi2.0\\data\\val\\labels.cache... 154 images, 0 backgrounds, 0 corrupt: 100%|██████████| 154/154 [00:00<?, ?it/s]\n"
     ]
    },
    {
     "name": "stdout",
     "output_type": "stream",
     "text": [
      "Plotting labels to runs\\detect\\train\\labels.jpg... \n",
      "\u001b[34m\u001b[1moptimizer:\u001b[0m 'optimizer=auto' found, ignoring 'lr0=0.01' and 'momentum=0.937' and determining best 'optimizer', 'lr0' and 'momentum' automatically... \n",
      "\u001b[34m\u001b[1moptimizer:\u001b[0m AdamW(lr=0.001429, momentum=0.9) with parameter groups 77 weight(decay=0.0), 84 weight(decay=0.0005), 83 bias(decay=0.0)\n",
      "Image sizes 640 train, 640 val\n",
      "Using 8 dataloader workers\n",
      "Logging results to \u001b[1mruns\\detect\\train\u001b[0m\n",
      "Starting training for 50 epochs...\n",
      "\n",
      "      Epoch    GPU_mem   box_loss   cls_loss   dfl_loss  Instances       Size\n"
     ]
    },
    {
     "name": "stderr",
     "output_type": "stream",
     "text": [
      "       1/50      6.31G     0.8367      2.047      1.144         32        640: 100%|██████████| 53/53 [01:36<00:00,  1.83s/it]\n",
      "                 Class     Images  Instances      Box(P          R      mAP50  mAP50-95): 100%|██████████| 5/5 [00:01<00:00,  3.08it/s]"
     ]
    },
    {
     "name": "stdout",
     "output_type": "stream",
     "text": [
      "                   all        154        206      0.698      0.677      0.692      0.506\n"
     ]
    },
    {
     "name": "stderr",
     "output_type": "stream",
     "text": [
      "\n"
     ]
    },
    {
     "name": "stdout",
     "output_type": "stream",
     "text": [
      "\n",
      "      Epoch    GPU_mem   box_loss   cls_loss   dfl_loss  Instances       Size\n"
     ]
    },
    {
     "name": "stderr",
     "output_type": "stream",
     "text": [
      "       2/50      6.66G     0.9952      1.181      1.211         47        640: 100%|██████████| 53/53 [03:40<00:00,  4.15s/it]\n",
      "                 Class     Images  Instances      Box(P          R      mAP50  mAP50-95): 100%|██████████| 5/5 [00:01<00:00,  3.26it/s]"
     ]
    },
    {
     "name": "stdout",
     "output_type": "stream",
     "text": [
      "                   all        154        206      0.543      0.603      0.549      0.369\n"
     ]
    },
    {
     "name": "stderr",
     "output_type": "stream",
     "text": [
      "\n"
     ]
    },
    {
     "name": "stdout",
     "output_type": "stream",
     "text": [
      "\n",
      "      Epoch    GPU_mem   box_loss   cls_loss   dfl_loss  Instances       Size\n"
     ]
    },
    {
     "name": "stderr",
     "output_type": "stream",
     "text": [
      "       3/50      6.63G      1.107      1.171      1.283         30        640: 100%|██████████| 53/53 [04:04<00:00,  4.61s/it]\n",
      "                 Class     Images  Instances      Box(P          R      mAP50  mAP50-95): 100%|██████████| 5/5 [00:06<00:00,  1.22s/it]"
     ]
    },
    {
     "name": "stdout",
     "output_type": "stream",
     "text": [
      "                   all        154        206      0.505       0.54      0.531      0.356\n"
     ]
    },
    {
     "name": "stderr",
     "output_type": "stream",
     "text": [
      "\n"
     ]
    },
    {
     "name": "stdout",
     "output_type": "stream",
     "text": [
      "\n",
      "      Epoch    GPU_mem   box_loss   cls_loss   dfl_loss  Instances       Size\n"
     ]
    },
    {
     "name": "stderr",
     "output_type": "stream",
     "text": [
      "       4/50      6.29G      1.138      1.179      1.299         30        640: 100%|██████████| 53/53 [03:17<00:00,  3.72s/it]\n",
      "                 Class     Images  Instances      Box(P          R      mAP50  mAP50-95): 100%|██████████| 5/5 [00:01<00:00,  3.34it/s]"
     ]
    },
    {
     "name": "stdout",
     "output_type": "stream",
     "text": [
      "                   all        154        206      0.501      0.385      0.345      0.198\n"
     ]
    },
    {
     "name": "stderr",
     "output_type": "stream",
     "text": [
      "\n"
     ]
    },
    {
     "name": "stdout",
     "output_type": "stream",
     "text": [
      "\n",
      "      Epoch    GPU_mem   box_loss   cls_loss   dfl_loss  Instances       Size\n"
     ]
    },
    {
     "name": "stderr",
     "output_type": "stream",
     "text": [
      "       5/50      6.28G      1.101      1.057      1.276         34        640: 100%|██████████| 53/53 [02:48<00:00,  3.18s/it]\n",
      "                 Class     Images  Instances      Box(P          R      mAP50  mAP50-95): 100%|██████████| 5/5 [00:01<00:00,  3.29it/s]"
     ]
    },
    {
     "name": "stdout",
     "output_type": "stream",
     "text": [
      "                   all        154        206      0.767      0.682      0.715      0.505\n"
     ]
    },
    {
     "name": "stderr",
     "output_type": "stream",
     "text": [
      "\n"
     ]
    },
    {
     "name": "stdout",
     "output_type": "stream",
     "text": [
      "\n",
      "      Epoch    GPU_mem   box_loss   cls_loss   dfl_loss  Instances       Size\n"
     ]
    },
    {
     "name": "stderr",
     "output_type": "stream",
     "text": [
      "       6/50      6.63G      1.045     0.9747      1.238         30        640: 100%|██████████| 53/53 [04:51<00:00,  5.50s/it]\n",
      "                 Class     Images  Instances      Box(P          R      mAP50  mAP50-95): 100%|██████████| 5/5 [00:03<00:00,  1.26it/s]"
     ]
    },
    {
     "name": "stdout",
     "output_type": "stream",
     "text": [
      "                   all        154        206      0.829      0.706      0.798      0.601\n"
     ]
    },
    {
     "name": "stderr",
     "output_type": "stream",
     "text": [
      "\n"
     ]
    },
    {
     "name": "stdout",
     "output_type": "stream",
     "text": [
      "\n",
      "      Epoch    GPU_mem   box_loss   cls_loss   dfl_loss  Instances       Size\n"
     ]
    },
    {
     "name": "stderr",
     "output_type": "stream",
     "text": [
      "       7/50      6.71G      1.028     0.9733      1.247         39        640: 100%|██████████| 53/53 [03:45<00:00,  4.26s/it]\n",
      "                 Class     Images  Instances      Box(P          R      mAP50  mAP50-95): 100%|██████████| 5/5 [00:04<00:00,  1.10it/s]"
     ]
    },
    {
     "name": "stdout",
     "output_type": "stream",
     "text": [
      "                   all        154        206      0.907      0.678      0.754       0.57\n"
     ]
    },
    {
     "name": "stderr",
     "output_type": "stream",
     "text": [
      "\n"
     ]
    },
    {
     "name": "stdout",
     "output_type": "stream",
     "text": [
      "\n",
      "      Epoch    GPU_mem   box_loss   cls_loss   dfl_loss  Instances       Size\n"
     ]
    },
    {
     "name": "stderr",
     "output_type": "stream",
     "text": [
      "       8/50      6.29G     0.9345     0.8678      1.183         37        640: 100%|██████████| 53/53 [04:01<00:00,  4.56s/it]\n",
      "                 Class     Images  Instances      Box(P          R      mAP50  mAP50-95): 100%|██████████| 5/5 [00:06<00:00,  1.23s/it]"
     ]
    },
    {
     "name": "stdout",
     "output_type": "stream",
     "text": [
      "                   all        154        206      0.807      0.725      0.816       0.63\n"
     ]
    },
    {
     "name": "stderr",
     "output_type": "stream",
     "text": [
      "\n"
     ]
    },
    {
     "name": "stdout",
     "output_type": "stream",
     "text": [
      "\n",
      "      Epoch    GPU_mem   box_loss   cls_loss   dfl_loss  Instances       Size\n"
     ]
    },
    {
     "name": "stderr",
     "output_type": "stream",
     "text": [
      "       9/50       6.6G      0.937     0.8234      1.177         41        640: 100%|██████████| 53/53 [02:36<00:00,  2.96s/it]\n",
      "                 Class     Images  Instances      Box(P          R      mAP50  mAP50-95): 100%|██████████| 5/5 [00:01<00:00,  3.43it/s]"
     ]
    },
    {
     "name": "stdout",
     "output_type": "stream",
     "text": [
      "                   all        154        206       0.79      0.623      0.708      0.537\n"
     ]
    },
    {
     "name": "stderr",
     "output_type": "stream",
     "text": [
      "\n"
     ]
    },
    {
     "name": "stdout",
     "output_type": "stream",
     "text": [
      "\n",
      "      Epoch    GPU_mem   box_loss   cls_loss   dfl_loss  Instances       Size\n"
     ]
    },
    {
     "name": "stderr",
     "output_type": "stream",
     "text": [
      "      10/50      6.64G     0.9163     0.7859       1.17         37        640: 100%|██████████| 53/53 [04:36<00:00,  5.22s/it]\n",
      "                 Class     Images  Instances      Box(P          R      mAP50  mAP50-95): 100%|██████████| 5/5 [00:03<00:00,  1.44it/s]"
     ]
    },
    {
     "name": "stdout",
     "output_type": "stream",
     "text": [
      "                   all        154        206      0.894      0.737      0.808      0.618\n"
     ]
    },
    {
     "name": "stderr",
     "output_type": "stream",
     "text": [
      "\n"
     ]
    },
    {
     "name": "stdout",
     "output_type": "stream",
     "text": [
      "\n",
      "      Epoch    GPU_mem   box_loss   cls_loss   dfl_loss  Instances       Size\n"
     ]
    },
    {
     "name": "stderr",
     "output_type": "stream",
     "text": [
      "      11/50      6.59G     0.8772     0.7581      1.142         31        640: 100%|██████████| 53/53 [01:58<00:00,  2.24s/it]\n",
      "                 Class     Images  Instances      Box(P          R      mAP50  mAP50-95): 100%|██████████| 5/5 [00:02<00:00,  1.96it/s]"
     ]
    },
    {
     "name": "stdout",
     "output_type": "stream",
     "text": [
      "                   all        154        206      0.826      0.661      0.716      0.562\n"
     ]
    },
    {
     "name": "stderr",
     "output_type": "stream",
     "text": [
      "\n"
     ]
    },
    {
     "name": "stdout",
     "output_type": "stream",
     "text": [
      "\n",
      "      Epoch    GPU_mem   box_loss   cls_loss   dfl_loss  Instances       Size\n"
     ]
    },
    {
     "name": "stderr",
     "output_type": "stream",
     "text": [
      "      12/50      6.28G     0.8502     0.7212      1.112         35        640: 100%|██████████| 53/53 [05:01<00:00,  5.69s/it]\n",
      "                 Class     Images  Instances      Box(P          R      mAP50  mAP50-95): 100%|██████████| 5/5 [00:01<00:00,  3.32it/s]"
     ]
    },
    {
     "name": "stdout",
     "output_type": "stream",
     "text": [
      "                   all        154        206      0.923      0.749      0.847      0.683\n"
     ]
    },
    {
     "name": "stderr",
     "output_type": "stream",
     "text": [
      "\n"
     ]
    },
    {
     "name": "stdout",
     "output_type": "stream",
     "text": [
      "\n",
      "      Epoch    GPU_mem   box_loss   cls_loss   dfl_loss  Instances       Size\n"
     ]
    },
    {
     "name": "stderr",
     "output_type": "stream",
     "text": [
      "      13/50      6.29G     0.8112     0.7007      1.097         40        640: 100%|██████████| 53/53 [03:11<00:00,  3.62s/it]\n",
      "                 Class     Images  Instances      Box(P          R      mAP50  mAP50-95): 100%|██████████| 5/5 [00:01<00:00,  3.42it/s]"
     ]
    },
    {
     "name": "stdout",
     "output_type": "stream",
     "text": [
      "                   all        154        206      0.904      0.726      0.829      0.666\n"
     ]
    },
    {
     "name": "stderr",
     "output_type": "stream",
     "text": [
      "\n"
     ]
    },
    {
     "name": "stdout",
     "output_type": "stream",
     "text": [
      "\n",
      "      Epoch    GPU_mem   box_loss   cls_loss   dfl_loss  Instances       Size\n"
     ]
    },
    {
     "name": "stderr",
     "output_type": "stream",
     "text": [
      "      14/50      6.65G     0.7896      0.661      1.072         36        640: 100%|██████████| 53/53 [04:50<00:00,  5.48s/it]\n",
      "                 Class     Images  Instances      Box(P          R      mAP50  mAP50-95): 100%|██████████| 5/5 [00:03<00:00,  1.54it/s]"
     ]
    },
    {
     "name": "stdout",
     "output_type": "stream",
     "text": [
      "                   all        154        206      0.946      0.798      0.895      0.747\n"
     ]
    },
    {
     "name": "stderr",
     "output_type": "stream",
     "text": [
      "\n"
     ]
    },
    {
     "name": "stdout",
     "output_type": "stream",
     "text": [
      "\n",
      "      Epoch    GPU_mem   box_loss   cls_loss   dfl_loss  Instances       Size\n"
     ]
    },
    {
     "name": "stderr",
     "output_type": "stream",
     "text": [
      "      15/50      6.58G      0.804     0.6748      1.097         40        640: 100%|██████████| 53/53 [02:52<00:00,  3.26s/it]\n",
      "                 Class     Images  Instances      Box(P          R      mAP50  mAP50-95): 100%|██████████| 5/5 [00:04<00:00,  1.25it/s]"
     ]
    },
    {
     "name": "stdout",
     "output_type": "stream",
     "text": [
      "                   all        154        206      0.912      0.832      0.873      0.704\n"
     ]
    },
    {
     "name": "stderr",
     "output_type": "stream",
     "text": [
      "\n"
     ]
    },
    {
     "name": "stdout",
     "output_type": "stream",
     "text": [
      "\n",
      "      Epoch    GPU_mem   box_loss   cls_loss   dfl_loss  Instances       Size\n"
     ]
    },
    {
     "name": "stderr",
     "output_type": "stream",
     "text": [
      "      16/50      6.74G     0.7544     0.6288      1.068         33        640: 100%|██████████| 53/53 [03:54<00:00,  4.42s/it]\n",
      "                 Class     Images  Instances      Box(P          R      mAP50  mAP50-95): 100%|██████████| 5/5 [00:03<00:00,  1.54it/s]"
     ]
    },
    {
     "name": "stdout",
     "output_type": "stream",
     "text": [
      "                   all        154        206      0.886      0.832       0.87      0.737\n"
     ]
    },
    {
     "name": "stderr",
     "output_type": "stream",
     "text": [
      "\n"
     ]
    },
    {
     "name": "stdout",
     "output_type": "stream",
     "text": [
      "\n",
      "      Epoch    GPU_mem   box_loss   cls_loss   dfl_loss  Instances       Size\n"
     ]
    },
    {
     "name": "stderr",
     "output_type": "stream",
     "text": [
      "      17/50      6.26G     0.7138     0.6036      1.036         37        640: 100%|██████████| 53/53 [05:12<00:00,  5.89s/it]\n",
      "                 Class     Images  Instances      Box(P          R      mAP50  mAP50-95): 100%|██████████| 5/5 [00:01<00:00,  3.35it/s]"
     ]
    },
    {
     "name": "stdout",
     "output_type": "stream",
     "text": [
      "                   all        154        206      0.916      0.822      0.887      0.754\n"
     ]
    },
    {
     "name": "stderr",
     "output_type": "stream",
     "text": [
      "\n"
     ]
    },
    {
     "name": "stdout",
     "output_type": "stream",
     "text": [
      "\n",
      "      Epoch    GPU_mem   box_loss   cls_loss   dfl_loss  Instances       Size\n"
     ]
    },
    {
     "name": "stderr",
     "output_type": "stream",
     "text": [
      "      18/50      6.64G     0.6806     0.5543      1.019         27        640: 100%|██████████| 53/53 [04:19<00:00,  4.90s/it]\n",
      "                 Class     Images  Instances      Box(P          R      mAP50  mAP50-95): 100%|██████████| 5/5 [00:05<00:00,  1.10s/it]"
     ]
    },
    {
     "name": "stdout",
     "output_type": "stream",
     "text": [
      "                   all        154        206      0.945      0.805      0.898      0.733\n"
     ]
    },
    {
     "name": "stderr",
     "output_type": "stream",
     "text": [
      "\n"
     ]
    },
    {
     "name": "stdout",
     "output_type": "stream",
     "text": [
      "\n",
      "      Epoch    GPU_mem   box_loss   cls_loss   dfl_loss  Instances       Size\n"
     ]
    },
    {
     "name": "stderr",
     "output_type": "stream",
     "text": [
      "      19/50      6.56G     0.6709     0.5646      1.022         41        640: 100%|██████████| 53/53 [02:54<00:00,  3.30s/it]\n",
      "                 Class     Images  Instances      Box(P          R      mAP50  mAP50-95): 100%|██████████| 5/5 [00:03<00:00,  1.49it/s]"
     ]
    },
    {
     "name": "stdout",
     "output_type": "stream",
     "text": [
      "                   all        154        206       0.87      0.794      0.842        0.7\n"
     ]
    },
    {
     "name": "stderr",
     "output_type": "stream",
     "text": [
      "\n"
     ]
    },
    {
     "name": "stdout",
     "output_type": "stream",
     "text": [
      "\n",
      "      Epoch    GPU_mem   box_loss   cls_loss   dfl_loss  Instances       Size\n"
     ]
    },
    {
     "name": "stderr",
     "output_type": "stream",
     "text": [
      "      20/50      6.74G     0.6915     0.5671      1.024         38        640: 100%|██████████| 53/53 [03:38<00:00,  4.12s/it]\n",
      "                 Class     Images  Instances      Box(P          R      mAP50  mAP50-95): 100%|██████████| 5/5 [00:03<00:00,  1.26it/s]"
     ]
    },
    {
     "name": "stdout",
     "output_type": "stream",
     "text": [
      "                   all        154        206      0.957      0.865      0.916      0.795\n"
     ]
    },
    {
     "name": "stderr",
     "output_type": "stream",
     "text": [
      "\n"
     ]
    },
    {
     "name": "stdout",
     "output_type": "stream",
     "text": [
      "\n",
      "      Epoch    GPU_mem   box_loss   cls_loss   dfl_loss  Instances       Size\n"
     ]
    },
    {
     "name": "stderr",
     "output_type": "stream",
     "text": [
      "      21/50      6.29G      0.653     0.5421      1.012         33        640: 100%|██████████| 53/53 [03:24<00:00,  3.86s/it]\n",
      "                 Class     Images  Instances      Box(P          R      mAP50  mAP50-95): 100%|██████████| 5/5 [00:01<00:00,  3.40it/s]"
     ]
    },
    {
     "name": "stdout",
     "output_type": "stream",
     "text": [
      "                   all        154        206      0.966       0.78      0.865      0.713\n"
     ]
    },
    {
     "name": "stderr",
     "output_type": "stream",
     "text": [
      "\n"
     ]
    },
    {
     "name": "stdout",
     "output_type": "stream",
     "text": [
      "\n",
      "      Epoch    GPU_mem   box_loss   cls_loss   dfl_loss  Instances       Size\n"
     ]
    },
    {
     "name": "stderr",
     "output_type": "stream",
     "text": [
      "      22/50      6.64G      0.656     0.5488      1.007         41        640: 100%|██████████| 53/53 [05:05<00:00,  5.76s/it]\n",
      "                 Class     Images  Instances      Box(P          R      mAP50  mAP50-95): 100%|██████████| 5/5 [00:02<00:00,  1.82it/s]"
     ]
    },
    {
     "name": "stdout",
     "output_type": "stream",
     "text": [
      "                   all        154        206      0.969      0.852      0.919      0.779\n"
     ]
    },
    {
     "name": "stderr",
     "output_type": "stream",
     "text": [
      "\n"
     ]
    },
    {
     "name": "stdout",
     "output_type": "stream",
     "text": [
      "\n",
      "      Epoch    GPU_mem   box_loss   cls_loss   dfl_loss  Instances       Size\n"
     ]
    },
    {
     "name": "stderr",
     "output_type": "stream",
     "text": [
      "      23/50      6.56G     0.7003     0.5403      1.038         28        640: 100%|██████████| 53/53 [02:47<00:00,  3.16s/it]\n",
      "                 Class     Images  Instances      Box(P          R      mAP50  mAP50-95): 100%|██████████| 5/5 [00:04<00:00,  1.21it/s]"
     ]
    },
    {
     "name": "stdout",
     "output_type": "stream",
     "text": [
      "                   all        154        206      0.938      0.846      0.903      0.769\n"
     ]
    },
    {
     "name": "stderr",
     "output_type": "stream",
     "text": [
      "\n"
     ]
    },
    {
     "name": "stdout",
     "output_type": "stream",
     "text": [
      "\n",
      "      Epoch    GPU_mem   box_loss   cls_loss   dfl_loss  Instances       Size\n"
     ]
    },
    {
     "name": "stderr",
     "output_type": "stream",
     "text": [
      "      24/50      6.74G     0.6462     0.5416      1.009         37        640: 100%|██████████| 53/53 [02:51<00:00,  3.24s/it]\n",
      "                 Class     Images  Instances      Box(P          R      mAP50  mAP50-95): 100%|██████████| 5/5 [00:06<00:00,  1.22s/it]"
     ]
    },
    {
     "name": "stdout",
     "output_type": "stream",
     "text": [
      "                   all        154        206      0.952      0.871      0.924      0.801\n"
     ]
    },
    {
     "name": "stderr",
     "output_type": "stream",
     "text": [
      "\n"
     ]
    },
    {
     "name": "stdout",
     "output_type": "stream",
     "text": [
      "\n",
      "      Epoch    GPU_mem   box_loss   cls_loss   dfl_loss  Instances       Size\n"
     ]
    },
    {
     "name": "stderr",
     "output_type": "stream",
     "text": [
      "      25/50      6.73G     0.6181     0.4932      0.996         42        640: 100%|██████████| 53/53 [05:01<00:00,  5.69s/it]\n",
      "                 Class     Images  Instances      Box(P          R      mAP50  mAP50-95): 100%|██████████| 5/5 [00:01<00:00,  3.69it/s]"
     ]
    },
    {
     "name": "stdout",
     "output_type": "stream",
     "text": [
      "                   all        154        206      0.966      0.824      0.903      0.768\n"
     ]
    },
    {
     "name": "stderr",
     "output_type": "stream",
     "text": [
      "\n"
     ]
    },
    {
     "name": "stdout",
     "output_type": "stream",
     "text": [
      "\n",
      "      Epoch    GPU_mem   box_loss   cls_loss   dfl_loss  Instances       Size\n"
     ]
    },
    {
     "name": "stderr",
     "output_type": "stream",
     "text": [
      "      26/50      6.65G     0.6181     0.4975      1.002         45        640: 100%|██████████| 53/53 [04:23<00:00,  4.97s/it]\n",
      "                 Class     Images  Instances      Box(P          R      mAP50  mAP50-95): 100%|██████████| 5/5 [00:04<00:00,  1.23it/s]"
     ]
    },
    {
     "name": "stdout",
     "output_type": "stream",
     "text": [
      "                   all        154        206      0.957       0.82      0.899      0.772\n"
     ]
    },
    {
     "name": "stderr",
     "output_type": "stream",
     "text": [
      "\n"
     ]
    },
    {
     "name": "stdout",
     "output_type": "stream",
     "text": [
      "\n",
      "      Epoch    GPU_mem   box_loss   cls_loss   dfl_loss  Instances       Size\n"
     ]
    },
    {
     "name": "stderr",
     "output_type": "stream",
     "text": [
      "      27/50      6.57G     0.6119      0.491     0.9994         37        640: 100%|██████████| 53/53 [02:33<00:00,  2.90s/it]\n",
      "                 Class     Images  Instances      Box(P          R      mAP50  mAP50-95): 100%|██████████| 5/5 [00:02<00:00,  1.92it/s]"
     ]
    },
    {
     "name": "stdout",
     "output_type": "stream",
     "text": [
      "                   all        154        206      0.972      0.869      0.931       0.81\n"
     ]
    },
    {
     "name": "stderr",
     "output_type": "stream",
     "text": [
      "\n"
     ]
    },
    {
     "name": "stdout",
     "output_type": "stream",
     "text": [
      "\n",
      "      Epoch    GPU_mem   box_loss   cls_loss   dfl_loss  Instances       Size\n"
     ]
    },
    {
     "name": "stderr",
     "output_type": "stream",
     "text": [
      "      28/50      6.72G     0.5954     0.4773     0.9832         40        640: 100%|██████████| 53/53 [03:10<00:00,  3.60s/it]\n",
      "                 Class     Images  Instances      Box(P          R      mAP50  mAP50-95): 100%|██████████| 5/5 [00:05<00:00,  1.15s/it]"
     ]
    },
    {
     "name": "stdout",
     "output_type": "stream",
     "text": [
      "                   all        154        206      0.961       0.89      0.924      0.823\n"
     ]
    },
    {
     "name": "stderr",
     "output_type": "stream",
     "text": [
      "\n"
     ]
    },
    {
     "name": "stdout",
     "output_type": "stream",
     "text": [
      "\n",
      "      Epoch    GPU_mem   box_loss   cls_loss   dfl_loss  Instances       Size\n"
     ]
    },
    {
     "name": "stderr",
     "output_type": "stream",
     "text": [
      "      29/50      6.73G     0.5748     0.4698     0.9695         33        640: 100%|██████████| 53/53 [05:54<00:00,  6.70s/it]\n",
      "                 Class     Images  Instances      Box(P          R      mAP50  mAP50-95): 100%|██████████| 5/5 [00:01<00:00,  3.37it/s]"
     ]
    },
    {
     "name": "stdout",
     "output_type": "stream",
     "text": [
      "                   all        154        206      0.951      0.879       0.92      0.805\n"
     ]
    },
    {
     "name": "stderr",
     "output_type": "stream",
     "text": [
      "\n"
     ]
    },
    {
     "name": "stdout",
     "output_type": "stream",
     "text": [
      "\n",
      "      Epoch    GPU_mem   box_loss   cls_loss   dfl_loss  Instances       Size\n"
     ]
    },
    {
     "name": "stderr",
     "output_type": "stream",
     "text": [
      "      30/50      6.64G     0.5414     0.4423     0.9622         35        640: 100%|██████████| 53/53 [04:58<00:00,  5.63s/it]\n",
      "                 Class     Images  Instances      Box(P          R      mAP50  mAP50-95): 100%|██████████| 5/5 [00:02<00:00,  1.89it/s]"
     ]
    },
    {
     "name": "stdout",
     "output_type": "stream",
     "text": [
      "                   all        154        206      0.988      0.885       0.93      0.821\n"
     ]
    },
    {
     "name": "stderr",
     "output_type": "stream",
     "text": [
      "\n"
     ]
    },
    {
     "name": "stdout",
     "output_type": "stream",
     "text": [
      "\n",
      "      Epoch    GPU_mem   box_loss   cls_loss   dfl_loss  Instances       Size\n"
     ]
    },
    {
     "name": "stderr",
     "output_type": "stream",
     "text": [
      "      31/50      6.58G     0.5731     0.4522      0.979         39        640: 100%|██████████| 53/53 [03:06<00:00,  3.52s/it]\n",
      "                 Class     Images  Instances      Box(P          R      mAP50  mAP50-95): 100%|██████████| 5/5 [00:03<00:00,  1.53it/s]"
     ]
    },
    {
     "name": "stdout",
     "output_type": "stream",
     "text": [
      "                   all        154        206      0.975      0.882      0.922      0.819\n"
     ]
    },
    {
     "name": "stderr",
     "output_type": "stream",
     "text": [
      "\n"
     ]
    },
    {
     "name": "stdout",
     "output_type": "stream",
     "text": [
      "\n",
      "      Epoch    GPU_mem   box_loss   cls_loss   dfl_loss  Instances       Size\n"
     ]
    },
    {
     "name": "stderr",
     "output_type": "stream",
     "text": [
      "      32/50      6.75G     0.5595     0.4533     0.9773         30        640: 100%|██████████| 53/53 [04:54<00:00,  5.56s/it]\n",
      "                 Class     Images  Instances      Box(P          R      mAP50  mAP50-95): 100%|██████████| 5/5 [00:05<00:00,  1.17s/it]"
     ]
    },
    {
     "name": "stdout",
     "output_type": "stream",
     "text": [
      "                   all        154        206      0.956      0.883      0.916      0.819\n"
     ]
    },
    {
     "name": "stderr",
     "output_type": "stream",
     "text": [
      "\n"
     ]
    },
    {
     "name": "stdout",
     "output_type": "stream",
     "text": [
      "\n",
      "      Epoch    GPU_mem   box_loss   cls_loss   dfl_loss  Instances       Size\n"
     ]
    },
    {
     "name": "stderr",
     "output_type": "stream",
     "text": [
      "      33/50      6.73G     0.5297     0.4114     0.9622         41        640: 100%|██████████| 53/53 [05:23<00:00,  6.11s/it]\n",
      "                 Class     Images  Instances      Box(P          R      mAP50  mAP50-95): 100%|██████████| 5/5 [00:01<00:00,  3.50it/s]"
     ]
    },
    {
     "name": "stdout",
     "output_type": "stream",
     "text": [
      "                   all        154        206      0.987      0.897      0.933       0.83\n"
     ]
    },
    {
     "name": "stderr",
     "output_type": "stream",
     "text": [
      "\n"
     ]
    },
    {
     "name": "stdout",
     "output_type": "stream",
     "text": [
      "\n",
      "      Epoch    GPU_mem   box_loss   cls_loss   dfl_loss  Instances       Size\n"
     ]
    },
    {
     "name": "stderr",
     "output_type": "stream",
     "text": [
      "      34/50      6.64G     0.5254     0.4043      0.945         26        640: 100%|██████████| 53/53 [04:39<00:00,  5.27s/it]\n",
      "                 Class     Images  Instances      Box(P          R      mAP50  mAP50-95): 100%|██████████| 5/5 [00:02<00:00,  1.88it/s]"
     ]
    },
    {
     "name": "stdout",
     "output_type": "stream",
     "text": [
      "                   all        154        206      0.967      0.903      0.932      0.827\n"
     ]
    },
    {
     "name": "stderr",
     "output_type": "stream",
     "text": [
      "\n"
     ]
    },
    {
     "name": "stdout",
     "output_type": "stream",
     "text": [
      "\n",
      "      Epoch    GPU_mem   box_loss   cls_loss   dfl_loss  Instances       Size\n"
     ]
    },
    {
     "name": "stderr",
     "output_type": "stream",
     "text": [
      "      35/50      6.57G     0.5155     0.4084     0.9491         39        640: 100%|██████████| 53/53 [02:50<00:00,  3.22s/it]\n",
      "                 Class     Images  Instances      Box(P          R      mAP50  mAP50-95): 100%|██████████| 5/5 [00:02<00:00,  1.88it/s]"
     ]
    },
    {
     "name": "stdout",
     "output_type": "stream",
     "text": [
      "                   all        154        206      0.946      0.861      0.926      0.827\n"
     ]
    },
    {
     "name": "stderr",
     "output_type": "stream",
     "text": [
      "\n"
     ]
    },
    {
     "name": "stdout",
     "output_type": "stream",
     "text": [
      "\n",
      "      Epoch    GPU_mem   box_loss   cls_loss   dfl_loss  Instances       Size\n"
     ]
    },
    {
     "name": "stderr",
     "output_type": "stream",
     "text": [
      "      36/50      6.73G     0.5064      0.388     0.9407         32        640: 100%|██████████| 53/53 [03:48<00:00,  4.31s/it]\n",
      "                 Class     Images  Instances      Box(P          R      mAP50  mAP50-95): 100%|██████████| 5/5 [00:02<00:00,  1.80it/s]"
     ]
    },
    {
     "name": "stdout",
     "output_type": "stream",
     "text": [
      "                   all        154        206      0.971      0.898      0.933      0.842\n"
     ]
    },
    {
     "name": "stderr",
     "output_type": "stream",
     "text": [
      "\n"
     ]
    },
    {
     "name": "stdout",
     "output_type": "stream",
     "text": [
      "\n",
      "      Epoch    GPU_mem   box_loss   cls_loss   dfl_loss  Instances       Size\n"
     ]
    },
    {
     "name": "stderr",
     "output_type": "stream",
     "text": [
      "      37/50      6.27G     0.4995     0.3731     0.9511         31        640: 100%|██████████| 53/53 [03:50<00:00,  4.36s/it]\n",
      "                 Class     Images  Instances      Box(P          R      mAP50  mAP50-95): 100%|██████████| 5/5 [00:02<00:00,  2.42it/s]"
     ]
    },
    {
     "name": "stdout",
     "output_type": "stream",
     "text": [
      "                   all        154        206      0.974      0.878       0.93      0.855\n"
     ]
    },
    {
     "name": "stderr",
     "output_type": "stream",
     "text": [
      "\n"
     ]
    },
    {
     "name": "stdout",
     "output_type": "stream",
     "text": [
      "\n",
      "      Epoch    GPU_mem   box_loss   cls_loss   dfl_loss  Instances       Size\n"
     ]
    },
    {
     "name": "stderr",
     "output_type": "stream",
     "text": [
      "      38/50      6.64G     0.5132     0.3883     0.9435         40        640: 100%|██████████| 53/53 [05:05<00:00,  5.77s/it]\n",
      "                 Class     Images  Instances      Box(P          R      mAP50  mAP50-95): 100%|██████████| 5/5 [00:03<00:00,  1.28it/s]"
     ]
    },
    {
     "name": "stdout",
     "output_type": "stream",
     "text": [
      "                   all        154        206       0.98      0.874      0.928      0.831\n"
     ]
    },
    {
     "name": "stderr",
     "output_type": "stream",
     "text": [
      "\n"
     ]
    },
    {
     "name": "stdout",
     "output_type": "stream",
     "text": [
      "\n",
      "      Epoch    GPU_mem   box_loss   cls_loss   dfl_loss  Instances       Size\n"
     ]
    },
    {
     "name": "stderr",
     "output_type": "stream",
     "text": [
      "      39/50      6.56G     0.4919     0.3762     0.9339         38        640: 100%|██████████| 53/53 [02:37<00:00,  2.96s/it]\n",
      "                 Class     Images  Instances      Box(P          R      mAP50  mAP50-95): 100%|██████████| 5/5 [00:05<00:00,  1.14s/it]"
     ]
    },
    {
     "name": "stdout",
     "output_type": "stream",
     "text": [
      "                   all        154        206      0.991      0.897      0.938      0.847\n"
     ]
    },
    {
     "name": "stderr",
     "output_type": "stream",
     "text": [
      "\n"
     ]
    },
    {
     "name": "stdout",
     "output_type": "stream",
     "text": [
      "\n",
      "      Epoch    GPU_mem   box_loss   cls_loss   dfl_loss  Instances       Size\n"
     ]
    },
    {
     "name": "stderr",
     "output_type": "stream",
     "text": [
      "      40/50      6.73G     0.4896      0.367     0.9353         24        640: 100%|██████████| 53/53 [05:22<00:00,  6.09s/it]\n",
      "                 Class     Images  Instances      Box(P          R      mAP50  mAP50-95): 100%|██████████| 5/5 [00:01<00:00,  2.76it/s]"
     ]
    },
    {
     "name": "stdout",
     "output_type": "stream",
     "text": [
      "                   all        154        206      0.955      0.914      0.931      0.845\n"
     ]
    },
    {
     "name": "stderr",
     "output_type": "stream",
     "text": [
      "\n"
     ]
    },
    {
     "name": "stdout",
     "output_type": "stream",
     "text": [
      "Closing dataloader mosaic\n",
      "\n",
      "      Epoch    GPU_mem   box_loss   cls_loss   dfl_loss  Instances       Size\n"
     ]
    },
    {
     "name": "stderr",
     "output_type": "stream",
     "text": [
      "      41/50      6.29G     0.3939      0.305     0.8845         19        640: 100%|██████████| 53/53 [04:31<00:00,  5.13s/it]\n",
      "                 Class     Images  Instances      Box(P          R      mAP50  mAP50-95): 100%|██████████| 5/5 [00:01<00:00,  3.02it/s]"
     ]
    },
    {
     "name": "stdout",
     "output_type": "stream",
     "text": [
      "                   all        154        206      0.981      0.852      0.922      0.838\n"
     ]
    },
    {
     "name": "stderr",
     "output_type": "stream",
     "text": [
      "\n"
     ]
    },
    {
     "name": "stdout",
     "output_type": "stream",
     "text": [
      "\n",
      "      Epoch    GPU_mem   box_loss   cls_loss   dfl_loss  Instances       Size\n"
     ]
    },
    {
     "name": "stderr",
     "output_type": "stream",
     "text": [
      "      42/50      6.65G      0.371     0.2908     0.8731         18        640: 100%|██████████| 53/53 [04:42<00:00,  5.33s/it]\n",
      "                 Class     Images  Instances      Box(P          R      mAP50  mAP50-95): 100%|██████████| 5/5 [00:02<00:00,  2.05it/s]"
     ]
    },
    {
     "name": "stdout",
     "output_type": "stream",
     "text": [
      "                   all        154        206      0.949      0.909      0.942      0.861\n"
     ]
    },
    {
     "name": "stderr",
     "output_type": "stream",
     "text": [
      "\n"
     ]
    },
    {
     "name": "stdout",
     "output_type": "stream",
     "text": [
      "\n",
      "      Epoch    GPU_mem   box_loss   cls_loss   dfl_loss  Instances       Size\n"
     ]
    },
    {
     "name": "stderr",
     "output_type": "stream",
     "text": [
      "      43/50      6.58G     0.3838     0.2962     0.8749         19        640: 100%|██████████| 53/53 [04:08<00:00,  4.70s/it]\n",
      "                 Class     Images  Instances      Box(P          R      mAP50  mAP50-95): 100%|██████████| 5/5 [00:04<00:00,  1.04it/s]"
     ]
    },
    {
     "name": "stdout",
     "output_type": "stream",
     "text": [
      "                   all        154        206      0.979      0.883      0.933      0.856\n"
     ]
    },
    {
     "name": "stderr",
     "output_type": "stream",
     "text": [
      "\n"
     ]
    },
    {
     "name": "stdout",
     "output_type": "stream",
     "text": [
      "\n",
      "      Epoch    GPU_mem   box_loss   cls_loss   dfl_loss  Instances       Size\n"
     ]
    },
    {
     "name": "stderr",
     "output_type": "stream",
     "text": [
      "      44/50      6.74G     0.3538     0.2659     0.8499         17        640: 100%|██████████| 53/53 [04:00<00:00,  4.54s/it]\n",
      "                 Class     Images  Instances      Box(P          R      mAP50  mAP50-95): 100%|██████████| 5/5 [00:06<00:00,  1.23s/it]"
     ]
    },
    {
     "name": "stdout",
     "output_type": "stream",
     "text": [
      "                   all        154        206      0.976      0.891      0.934      0.851\n"
     ]
    },
    {
     "name": "stderr",
     "output_type": "stream",
     "text": [
      "\n"
     ]
    },
    {
     "name": "stdout",
     "output_type": "stream",
     "text": [
      "\n",
      "      Epoch    GPU_mem   box_loss   cls_loss   dfl_loss  Instances       Size\n"
     ]
    },
    {
     "name": "stderr",
     "output_type": "stream",
     "text": [
      "      45/50      6.73G     0.3612     0.2688     0.8505         20        640: 100%|██████████| 53/53 [04:10<00:00,  4.72s/it]\n",
      "                 Class     Images  Instances      Box(P          R      mAP50  mAP50-95): 100%|██████████| 5/5 [00:01<00:00,  3.25it/s]"
     ]
    },
    {
     "name": "stdout",
     "output_type": "stream",
     "text": [
      "                   all        154        206      0.975      0.907      0.934      0.858\n"
     ]
    },
    {
     "name": "stderr",
     "output_type": "stream",
     "text": [
      "\n"
     ]
    },
    {
     "name": "stdout",
     "output_type": "stream",
     "text": [
      "\n",
      "      Epoch    GPU_mem   box_loss   cls_loss   dfl_loss  Instances       Size\n"
     ]
    },
    {
     "name": "stderr",
     "output_type": "stream",
     "text": [
      "      46/50      6.64G     0.3471     0.2602     0.8503         16        640: 100%|██████████| 53/53 [04:53<00:00,  5.54s/it]\n",
      "                 Class     Images  Instances      Box(P          R      mAP50  mAP50-95): 100%|██████████| 5/5 [00:01<00:00,  2.51it/s]"
     ]
    },
    {
     "name": "stdout",
     "output_type": "stream",
     "text": [
      "                   all        154        206      0.987      0.901      0.936      0.861\n"
     ]
    },
    {
     "name": "stderr",
     "output_type": "stream",
     "text": [
      "\n"
     ]
    },
    {
     "name": "stdout",
     "output_type": "stream",
     "text": [
      "\n",
      "      Epoch    GPU_mem   box_loss   cls_loss   dfl_loss  Instances       Size\n"
     ]
    },
    {
     "name": "stderr",
     "output_type": "stream",
     "text": [
      "      47/50      6.57G     0.3379     0.2489     0.8485         18        640: 100%|██████████| 53/53 [02:39<00:00,  3.02s/it]\n",
      "                 Class     Images  Instances      Box(P          R      mAP50  mAP50-95): 100%|██████████| 5/5 [00:02<00:00,  1.85it/s]"
     ]
    },
    {
     "name": "stdout",
     "output_type": "stream",
     "text": [
      "                   all        154        206      0.983      0.899      0.934      0.866\n"
     ]
    },
    {
     "name": "stderr",
     "output_type": "stream",
     "text": [
      "\n"
     ]
    },
    {
     "name": "stdout",
     "output_type": "stream",
     "text": [
      "\n",
      "      Epoch    GPU_mem   box_loss   cls_loss   dfl_loss  Instances       Size\n"
     ]
    },
    {
     "name": "stderr",
     "output_type": "stream",
     "text": [
      "      48/50      6.73G     0.3305     0.2467     0.8465         16        640: 100%|██████████| 53/53 [05:20<00:00,  6.05s/it]\n",
      "                 Class     Images  Instances      Box(P          R      mAP50  mAP50-95): 100%|██████████| 5/5 [00:05<00:00,  1.03s/it]"
     ]
    },
    {
     "name": "stdout",
     "output_type": "stream",
     "text": [
      "                   all        154        206      0.981      0.911      0.942      0.868\n"
     ]
    },
    {
     "name": "stderr",
     "output_type": "stream",
     "text": [
      "\n"
     ]
    },
    {
     "name": "stdout",
     "output_type": "stream",
     "text": [
      "\n",
      "      Epoch    GPU_mem   box_loss   cls_loss   dfl_loss  Instances       Size\n"
     ]
    },
    {
     "name": "stderr",
     "output_type": "stream",
     "text": [
      "      49/50      6.29G     0.3171     0.2356     0.8353         19        640: 100%|██████████| 53/53 [04:10<00:00,  4.73s/it]\n",
      "                 Class     Images  Instances      Box(P          R      mAP50  mAP50-95): 100%|██████████| 5/5 [00:01<00:00,  3.35it/s]"
     ]
    },
    {
     "name": "stdout",
     "output_type": "stream",
     "text": [
      "                   all        154        206      0.982      0.906      0.939      0.873\n"
     ]
    },
    {
     "name": "stderr",
     "output_type": "stream",
     "text": [
      "\n"
     ]
    },
    {
     "name": "stdout",
     "output_type": "stream",
     "text": [
      "\n",
      "      Epoch    GPU_mem   box_loss   cls_loss   dfl_loss  Instances       Size\n"
     ]
    },
    {
     "name": "stderr",
     "output_type": "stream",
     "text": [
      "      50/50      6.65G     0.3144     0.2328     0.8403         21        640: 100%|██████████| 53/53 [05:38<00:00,  6.39s/it]\n",
      "                 Class     Images  Instances      Box(P          R      mAP50  mAP50-95): 100%|██████████| 5/5 [00:02<00:00,  1.76it/s]"
     ]
    },
    {
     "name": "stdout",
     "output_type": "stream",
     "text": [
      "                   all        154        206      0.986      0.898      0.942      0.884\n"
     ]
    },
    {
     "name": "stderr",
     "output_type": "stream",
     "text": [
      "\n"
     ]
    },
    {
     "name": "stdout",
     "output_type": "stream",
     "text": [
      "\n",
      "50 epochs completed in 3.390 hours.\n",
      "Optimizer stripped from runs\\detect\\train\\weights\\last.pt, 52.0MB\n",
      "Optimizer stripped from runs\\detect\\train\\weights\\best.pt, 52.0MB\n",
      "\n",
      "Validating runs\\detect\\train\\weights\\best.pt...\n",
      "Ultralytics 8.3.170  Python-3.10.18 torch-2.7.1+cu118 CUDA:0 (NVIDIA GeForce RTX 4050 Laptop GPU, 6140MiB)\n",
      "Model summary (fused): 92 layers, 25,841,497 parameters, 0 gradients, 78.7 GFLOPs\n"
     ]
    },
    {
     "name": "stderr",
     "output_type": "stream",
     "text": [
      "                 Class     Images  Instances      Box(P          R      mAP50  mAP50-95): 100%|██████████| 5/5 [00:01<00:00,  2.61it/s]\n"
     ]
    },
    {
     "name": "stdout",
     "output_type": "stream",
     "text": [
      "                   all        154        206      0.986      0.898      0.942      0.884\n",
      "      FireExtinguisher         67         67          1      0.936      0.977      0.914\n",
      "               ToolBox         60         60      0.992      0.883      0.948      0.916\n",
      "            OxygenTank         79         79      0.965      0.873      0.901      0.822\n",
      "Speed: 0.4ms preprocess, 6.4ms inference, 0.0ms loss, 1.7ms postprocess per image\n",
      "Results saved to \u001b[1mruns\\detect\\train\u001b[0m\n"
     ]
    },
    {
     "data": {
      "text/plain": [
       "ultralytics.utils.metrics.DetMetrics object with attributes:\n",
       "\n",
       "ap_class_index: array([0, 1, 2])\n",
       "box: ultralytics.utils.metrics.Metric object\n",
       "confusion_matrix: <ultralytics.utils.metrics.ConfusionMatrix object at 0x000001CF8DF5A4A0>\n",
       "curves: ['Precision-Recall(B)', 'F1-Confidence(B)', 'Precision-Confidence(B)', 'Recall-Confidence(B)']\n",
       "curves_results: [[array([          0,    0.001001,    0.002002,    0.003003,    0.004004,    0.005005,    0.006006,    0.007007,    0.008008,    0.009009,     0.01001,    0.011011,    0.012012,    0.013013,    0.014014,    0.015015,    0.016016,    0.017017,    0.018018,    0.019019,     0.02002,    0.021021,    0.022022,    0.023023,\n",
       "          0.024024,    0.025025,    0.026026,    0.027027,    0.028028,    0.029029,     0.03003,    0.031031,    0.032032,    0.033033,    0.034034,    0.035035,    0.036036,    0.037037,    0.038038,    0.039039,     0.04004,    0.041041,    0.042042,    0.043043,    0.044044,    0.045045,    0.046046,    0.047047,\n",
       "          0.048048,    0.049049,     0.05005,    0.051051,    0.052052,    0.053053,    0.054054,    0.055055,    0.056056,    0.057057,    0.058058,    0.059059,     0.06006,    0.061061,    0.062062,    0.063063,    0.064064,    0.065065,    0.066066,    0.067067,    0.068068,    0.069069,     0.07007,    0.071071,\n",
       "          0.072072,    0.073073,    0.074074,    0.075075,    0.076076,    0.077077,    0.078078,    0.079079,     0.08008,    0.081081,    0.082082,    0.083083,    0.084084,    0.085085,    0.086086,    0.087087,    0.088088,    0.089089,     0.09009,    0.091091,    0.092092,    0.093093,    0.094094,    0.095095,\n",
       "          0.096096,    0.097097,    0.098098,    0.099099,      0.1001,      0.1011,      0.1021,      0.1031,      0.1041,     0.10511,     0.10611,     0.10711,     0.10811,     0.10911,     0.11011,     0.11111,     0.11211,     0.11311,     0.11411,     0.11512,     0.11612,     0.11712,     0.11812,     0.11912,\n",
       "           0.12012,     0.12112,     0.12212,     0.12312,     0.12412,     0.12513,     0.12613,     0.12713,     0.12813,     0.12913,     0.13013,     0.13113,     0.13213,     0.13313,     0.13413,     0.13514,     0.13614,     0.13714,     0.13814,     0.13914,     0.14014,     0.14114,     0.14214,     0.14314,\n",
       "           0.14414,     0.14515,     0.14615,     0.14715,     0.14815,     0.14915,     0.15015,     0.15115,     0.15215,     0.15315,     0.15415,     0.15516,     0.15616,     0.15716,     0.15816,     0.15916,     0.16016,     0.16116,     0.16216,     0.16316,     0.16416,     0.16517,     0.16617,     0.16717,\n",
       "           0.16817,     0.16917,     0.17017,     0.17117,     0.17217,     0.17317,     0.17417,     0.17518,     0.17618,     0.17718,     0.17818,     0.17918,     0.18018,     0.18118,     0.18218,     0.18318,     0.18418,     0.18519,     0.18619,     0.18719,     0.18819,     0.18919,     0.19019,     0.19119,\n",
       "           0.19219,     0.19319,     0.19419,      0.1952,      0.1962,      0.1972,      0.1982,      0.1992,      0.2002,      0.2012,      0.2022,      0.2032,      0.2042,     0.20521,     0.20621,     0.20721,     0.20821,     0.20921,     0.21021,     0.21121,     0.21221,     0.21321,     0.21421,     0.21522,\n",
       "           0.21622,     0.21722,     0.21822,     0.21922,     0.22022,     0.22122,     0.22222,     0.22322,     0.22422,     0.22523,     0.22623,     0.22723,     0.22823,     0.22923,     0.23023,     0.23123,     0.23223,     0.23323,     0.23423,     0.23524,     0.23624,     0.23724,     0.23824,     0.23924,\n",
       "           0.24024,     0.24124,     0.24224,     0.24324,     0.24424,     0.24525,     0.24625,     0.24725,     0.24825,     0.24925,     0.25025,     0.25125,     0.25225,     0.25325,     0.25425,     0.25526,     0.25626,     0.25726,     0.25826,     0.25926,     0.26026,     0.26126,     0.26226,     0.26326,\n",
       "           0.26426,     0.26527,     0.26627,     0.26727,     0.26827,     0.26927,     0.27027,     0.27127,     0.27227,     0.27327,     0.27427,     0.27528,     0.27628,     0.27728,     0.27828,     0.27928,     0.28028,     0.28128,     0.28228,     0.28328,     0.28428,     0.28529,     0.28629,     0.28729,\n",
       "           0.28829,     0.28929,     0.29029,     0.29129,     0.29229,     0.29329,     0.29429,      0.2953,      0.2963,      0.2973,      0.2983,      0.2993,      0.3003,      0.3013,      0.3023,      0.3033,      0.3043,     0.30531,     0.30631,     0.30731,     0.30831,     0.30931,     0.31031,     0.31131,\n",
       "           0.31231,     0.31331,     0.31431,     0.31532,     0.31632,     0.31732,     0.31832,     0.31932,     0.32032,     0.32132,     0.32232,     0.32332,     0.32432,     0.32533,     0.32633,     0.32733,     0.32833,     0.32933,     0.33033,     0.33133,     0.33233,     0.33333,     0.33433,     0.33534,\n",
       "           0.33634,     0.33734,     0.33834,     0.33934,     0.34034,     0.34134,     0.34234,     0.34334,     0.34434,     0.34535,     0.34635,     0.34735,     0.34835,     0.34935,     0.35035,     0.35135,     0.35235,     0.35335,     0.35435,     0.35536,     0.35636,     0.35736,     0.35836,     0.35936,\n",
       "           0.36036,     0.36136,     0.36236,     0.36336,     0.36436,     0.36537,     0.36637,     0.36737,     0.36837,     0.36937,     0.37037,     0.37137,     0.37237,     0.37337,     0.37437,     0.37538,     0.37638,     0.37738,     0.37838,     0.37938,     0.38038,     0.38138,     0.38238,     0.38338,\n",
       "           0.38438,     0.38539,     0.38639,     0.38739,     0.38839,     0.38939,     0.39039,     0.39139,     0.39239,     0.39339,     0.39439,      0.3954,      0.3964,      0.3974,      0.3984,      0.3994,      0.4004,      0.4014,      0.4024,      0.4034,      0.4044,     0.40541,     0.40641,     0.40741,\n",
       "           0.40841,     0.40941,     0.41041,     0.41141,     0.41241,     0.41341,     0.41441,     0.41542,     0.41642,     0.41742,     0.41842,     0.41942,     0.42042,     0.42142,     0.42242,     0.42342,     0.42442,     0.42543,     0.42643,     0.42743,     0.42843,     0.42943,     0.43043,     0.43143,\n",
       "           0.43243,     0.43343,     0.43443,     0.43544,     0.43644,     0.43744,     0.43844,     0.43944,     0.44044,     0.44144,     0.44244,     0.44344,     0.44444,     0.44545,     0.44645,     0.44745,     0.44845,     0.44945,     0.45045,     0.45145,     0.45245,     0.45345,     0.45445,     0.45546,\n",
       "           0.45646,     0.45746,     0.45846,     0.45946,     0.46046,     0.46146,     0.46246,     0.46346,     0.46446,     0.46547,     0.46647,     0.46747,     0.46847,     0.46947,     0.47047,     0.47147,     0.47247,     0.47347,     0.47447,     0.47548,     0.47648,     0.47748,     0.47848,     0.47948,\n",
       "           0.48048,     0.48148,     0.48248,     0.48348,     0.48448,     0.48549,     0.48649,     0.48749,     0.48849,     0.48949,     0.49049,     0.49149,     0.49249,     0.49349,     0.49449,      0.4955,      0.4965,      0.4975,      0.4985,      0.4995,      0.5005,      0.5015,      0.5025,      0.5035,\n",
       "            0.5045,     0.50551,     0.50651,     0.50751,     0.50851,     0.50951,     0.51051,     0.51151,     0.51251,     0.51351,     0.51451,     0.51552,     0.51652,     0.51752,     0.51852,     0.51952,     0.52052,     0.52152,     0.52252,     0.52352,     0.52452,     0.52553,     0.52653,     0.52753,\n",
       "           0.52853,     0.52953,     0.53053,     0.53153,     0.53253,     0.53353,     0.53453,     0.53554,     0.53654,     0.53754,     0.53854,     0.53954,     0.54054,     0.54154,     0.54254,     0.54354,     0.54454,     0.54555,     0.54655,     0.54755,     0.54855,     0.54955,     0.55055,     0.55155,\n",
       "           0.55255,     0.55355,     0.55455,     0.55556,     0.55656,     0.55756,     0.55856,     0.55956,     0.56056,     0.56156,     0.56256,     0.56356,     0.56456,     0.56557,     0.56657,     0.56757,     0.56857,     0.56957,     0.57057,     0.57157,     0.57257,     0.57357,     0.57457,     0.57558,\n",
       "           0.57658,     0.57758,     0.57858,     0.57958,     0.58058,     0.58158,     0.58258,     0.58358,     0.58458,     0.58559,     0.58659,     0.58759,     0.58859,     0.58959,     0.59059,     0.59159,     0.59259,     0.59359,     0.59459,      0.5956,      0.5966,      0.5976,      0.5986,      0.5996,\n",
       "            0.6006,      0.6016,      0.6026,      0.6036,      0.6046,     0.60561,     0.60661,     0.60761,     0.60861,     0.60961,     0.61061,     0.61161,     0.61261,     0.61361,     0.61461,     0.61562,     0.61662,     0.61762,     0.61862,     0.61962,     0.62062,     0.62162,     0.62262,     0.62362,\n",
       "           0.62462,     0.62563,     0.62663,     0.62763,     0.62863,     0.62963,     0.63063,     0.63163,     0.63263,     0.63363,     0.63463,     0.63564,     0.63664,     0.63764,     0.63864,     0.63964,     0.64064,     0.64164,     0.64264,     0.64364,     0.64464,     0.64565,     0.64665,     0.64765,\n",
       "           0.64865,     0.64965,     0.65065,     0.65165,     0.65265,     0.65365,     0.65465,     0.65566,     0.65666,     0.65766,     0.65866,     0.65966,     0.66066,     0.66166,     0.66266,     0.66366,     0.66466,     0.66567,     0.66667,     0.66767,     0.66867,     0.66967,     0.67067,     0.67167,\n",
       "           0.67267,     0.67367,     0.67467,     0.67568,     0.67668,     0.67768,     0.67868,     0.67968,     0.68068,     0.68168,     0.68268,     0.68368,     0.68468,     0.68569,     0.68669,     0.68769,     0.68869,     0.68969,     0.69069,     0.69169,     0.69269,     0.69369,     0.69469,      0.6957,\n",
       "            0.6967,      0.6977,      0.6987,      0.6997,      0.7007,      0.7017,      0.7027,      0.7037,      0.7047,     0.70571,     0.70671,     0.70771,     0.70871,     0.70971,     0.71071,     0.71171,     0.71271,     0.71371,     0.71471,     0.71572,     0.71672,     0.71772,     0.71872,     0.71972,\n",
       "           0.72072,     0.72172,     0.72272,     0.72372,     0.72472,     0.72573,     0.72673,     0.72773,     0.72873,     0.72973,     0.73073,     0.73173,     0.73273,     0.73373,     0.73473,     0.73574,     0.73674,     0.73774,     0.73874,     0.73974,     0.74074,     0.74174,     0.74274,     0.74374,\n",
       "           0.74474,     0.74575,     0.74675,     0.74775,     0.74875,     0.74975,     0.75075,     0.75175,     0.75275,     0.75375,     0.75475,     0.75576,     0.75676,     0.75776,     0.75876,     0.75976,     0.76076,     0.76176,     0.76276,     0.76376,     0.76476,     0.76577,     0.76677,     0.76777,\n",
       "           0.76877,     0.76977,     0.77077,     0.77177,     0.77277,     0.77377,     0.77477,     0.77578,     0.77678,     0.77778,     0.77878,     0.77978,     0.78078,     0.78178,     0.78278,     0.78378,     0.78478,     0.78579,     0.78679,     0.78779,     0.78879,     0.78979,     0.79079,     0.79179,\n",
       "           0.79279,     0.79379,     0.79479,      0.7958,      0.7968,      0.7978,      0.7988,      0.7998,      0.8008,      0.8018,      0.8028,      0.8038,      0.8048,     0.80581,     0.80681,     0.80781,     0.80881,     0.80981,     0.81081,     0.81181,     0.81281,     0.81381,     0.81481,     0.81582,\n",
       "           0.81682,     0.81782,     0.81882,     0.81982,     0.82082,     0.82182,     0.82282,     0.82382,     0.82482,     0.82583,     0.82683,     0.82783,     0.82883,     0.82983,     0.83083,     0.83183,     0.83283,     0.83383,     0.83483,     0.83584,     0.83684,     0.83784,     0.83884,     0.83984,\n",
       "           0.84084,     0.84184,     0.84284,     0.84384,     0.84484,     0.84585,     0.84685,     0.84785,     0.84885,     0.84985,     0.85085,     0.85185,     0.85285,     0.85385,     0.85485,     0.85586,     0.85686,     0.85786,     0.85886,     0.85986,     0.86086,     0.86186,     0.86286,     0.86386,\n",
       "           0.86486,     0.86587,     0.86687,     0.86787,     0.86887,     0.86987,     0.87087,     0.87187,     0.87287,     0.87387,     0.87487,     0.87588,     0.87688,     0.87788,     0.87888,     0.87988,     0.88088,     0.88188,     0.88288,     0.88388,     0.88488,     0.88589,     0.88689,     0.88789,\n",
       "           0.88889,     0.88989,     0.89089,     0.89189,     0.89289,     0.89389,     0.89489,      0.8959,      0.8969,      0.8979,      0.8989,      0.8999,      0.9009,      0.9019,      0.9029,      0.9039,      0.9049,     0.90591,     0.90691,     0.90791,     0.90891,     0.90991,     0.91091,     0.91191,\n",
       "           0.91291,     0.91391,     0.91491,     0.91592,     0.91692,     0.91792,     0.91892,     0.91992,     0.92092,     0.92192,     0.92292,     0.92392,     0.92492,     0.92593,     0.92693,     0.92793,     0.92893,     0.92993,     0.93093,     0.93193,     0.93293,     0.93393,     0.93493,     0.93594,\n",
       "           0.93694,     0.93794,     0.93894,     0.93994,     0.94094,     0.94194,     0.94294,     0.94394,     0.94494,     0.94595,     0.94695,     0.94795,     0.94895,     0.94995,     0.95095,     0.95195,     0.95295,     0.95395,     0.95495,     0.95596,     0.95696,     0.95796,     0.95896,     0.95996,\n",
       "           0.96096,     0.96196,     0.96296,     0.96396,     0.96496,     0.96597,     0.96697,     0.96797,     0.96897,     0.96997,     0.97097,     0.97197,     0.97297,     0.97397,     0.97497,     0.97598,     0.97698,     0.97798,     0.97898,     0.97998,     0.98098,     0.98198,     0.98298,     0.98398,\n",
       "           0.98498,     0.98599,     0.98699,     0.98799,     0.98899,     0.98999,     0.99099,     0.99199,     0.99299,     0.99399,     0.99499,       0.996,       0.997,       0.998,       0.999,           1]), array([[          1,           1,           1, ...,    0.030065,    0.015032,           0],\n",
       "       [          1,           1,           1, ...,    0.016667,   0.0083337,           0],\n",
       "       [          1,           1,           1, ...,    0.005617,   0.0028085,           0]]), 'Recall', 'Precision'], [array([          0,    0.001001,    0.002002,    0.003003,    0.004004,    0.005005,    0.006006,    0.007007,    0.008008,    0.009009,     0.01001,    0.011011,    0.012012,    0.013013,    0.014014,    0.015015,    0.016016,    0.017017,    0.018018,    0.019019,     0.02002,    0.021021,    0.022022,    0.023023,\n",
       "          0.024024,    0.025025,    0.026026,    0.027027,    0.028028,    0.029029,     0.03003,    0.031031,    0.032032,    0.033033,    0.034034,    0.035035,    0.036036,    0.037037,    0.038038,    0.039039,     0.04004,    0.041041,    0.042042,    0.043043,    0.044044,    0.045045,    0.046046,    0.047047,\n",
       "          0.048048,    0.049049,     0.05005,    0.051051,    0.052052,    0.053053,    0.054054,    0.055055,    0.056056,    0.057057,    0.058058,    0.059059,     0.06006,    0.061061,    0.062062,    0.063063,    0.064064,    0.065065,    0.066066,    0.067067,    0.068068,    0.069069,     0.07007,    0.071071,\n",
       "          0.072072,    0.073073,    0.074074,    0.075075,    0.076076,    0.077077,    0.078078,    0.079079,     0.08008,    0.081081,    0.082082,    0.083083,    0.084084,    0.085085,    0.086086,    0.087087,    0.088088,    0.089089,     0.09009,    0.091091,    0.092092,    0.093093,    0.094094,    0.095095,\n",
       "          0.096096,    0.097097,    0.098098,    0.099099,      0.1001,      0.1011,      0.1021,      0.1031,      0.1041,     0.10511,     0.10611,     0.10711,     0.10811,     0.10911,     0.11011,     0.11111,     0.11211,     0.11311,     0.11411,     0.11512,     0.11612,     0.11712,     0.11812,     0.11912,\n",
       "           0.12012,     0.12112,     0.12212,     0.12312,     0.12412,     0.12513,     0.12613,     0.12713,     0.12813,     0.12913,     0.13013,     0.13113,     0.13213,     0.13313,     0.13413,     0.13514,     0.13614,     0.13714,     0.13814,     0.13914,     0.14014,     0.14114,     0.14214,     0.14314,\n",
       "           0.14414,     0.14515,     0.14615,     0.14715,     0.14815,     0.14915,     0.15015,     0.15115,     0.15215,     0.15315,     0.15415,     0.15516,     0.15616,     0.15716,     0.15816,     0.15916,     0.16016,     0.16116,     0.16216,     0.16316,     0.16416,     0.16517,     0.16617,     0.16717,\n",
       "           0.16817,     0.16917,     0.17017,     0.17117,     0.17217,     0.17317,     0.17417,     0.17518,     0.17618,     0.17718,     0.17818,     0.17918,     0.18018,     0.18118,     0.18218,     0.18318,     0.18418,     0.18519,     0.18619,     0.18719,     0.18819,     0.18919,     0.19019,     0.19119,\n",
       "           0.19219,     0.19319,     0.19419,      0.1952,      0.1962,      0.1972,      0.1982,      0.1992,      0.2002,      0.2012,      0.2022,      0.2032,      0.2042,     0.20521,     0.20621,     0.20721,     0.20821,     0.20921,     0.21021,     0.21121,     0.21221,     0.21321,     0.21421,     0.21522,\n",
       "           0.21622,     0.21722,     0.21822,     0.21922,     0.22022,     0.22122,     0.22222,     0.22322,     0.22422,     0.22523,     0.22623,     0.22723,     0.22823,     0.22923,     0.23023,     0.23123,     0.23223,     0.23323,     0.23423,     0.23524,     0.23624,     0.23724,     0.23824,     0.23924,\n",
       "           0.24024,     0.24124,     0.24224,     0.24324,     0.24424,     0.24525,     0.24625,     0.24725,     0.24825,     0.24925,     0.25025,     0.25125,     0.25225,     0.25325,     0.25425,     0.25526,     0.25626,     0.25726,     0.25826,     0.25926,     0.26026,     0.26126,     0.26226,     0.26326,\n",
       "           0.26426,     0.26527,     0.26627,     0.26727,     0.26827,     0.26927,     0.27027,     0.27127,     0.27227,     0.27327,     0.27427,     0.27528,     0.27628,     0.27728,     0.27828,     0.27928,     0.28028,     0.28128,     0.28228,     0.28328,     0.28428,     0.28529,     0.28629,     0.28729,\n",
       "           0.28829,     0.28929,     0.29029,     0.29129,     0.29229,     0.29329,     0.29429,      0.2953,      0.2963,      0.2973,      0.2983,      0.2993,      0.3003,      0.3013,      0.3023,      0.3033,      0.3043,     0.30531,     0.30631,     0.30731,     0.30831,     0.30931,     0.31031,     0.31131,\n",
       "           0.31231,     0.31331,     0.31431,     0.31532,     0.31632,     0.31732,     0.31832,     0.31932,     0.32032,     0.32132,     0.32232,     0.32332,     0.32432,     0.32533,     0.32633,     0.32733,     0.32833,     0.32933,     0.33033,     0.33133,     0.33233,     0.33333,     0.33433,     0.33534,\n",
       "           0.33634,     0.33734,     0.33834,     0.33934,     0.34034,     0.34134,     0.34234,     0.34334,     0.34434,     0.34535,     0.34635,     0.34735,     0.34835,     0.34935,     0.35035,     0.35135,     0.35235,     0.35335,     0.35435,     0.35536,     0.35636,     0.35736,     0.35836,     0.35936,\n",
       "           0.36036,     0.36136,     0.36236,     0.36336,     0.36436,     0.36537,     0.36637,     0.36737,     0.36837,     0.36937,     0.37037,     0.37137,     0.37237,     0.37337,     0.37437,     0.37538,     0.37638,     0.37738,     0.37838,     0.37938,     0.38038,     0.38138,     0.38238,     0.38338,\n",
       "           0.38438,     0.38539,     0.38639,     0.38739,     0.38839,     0.38939,     0.39039,     0.39139,     0.39239,     0.39339,     0.39439,      0.3954,      0.3964,      0.3974,      0.3984,      0.3994,      0.4004,      0.4014,      0.4024,      0.4034,      0.4044,     0.40541,     0.40641,     0.40741,\n",
       "           0.40841,     0.40941,     0.41041,     0.41141,     0.41241,     0.41341,     0.41441,     0.41542,     0.41642,     0.41742,     0.41842,     0.41942,     0.42042,     0.42142,     0.42242,     0.42342,     0.42442,     0.42543,     0.42643,     0.42743,     0.42843,     0.42943,     0.43043,     0.43143,\n",
       "           0.43243,     0.43343,     0.43443,     0.43544,     0.43644,     0.43744,     0.43844,     0.43944,     0.44044,     0.44144,     0.44244,     0.44344,     0.44444,     0.44545,     0.44645,     0.44745,     0.44845,     0.44945,     0.45045,     0.45145,     0.45245,     0.45345,     0.45445,     0.45546,\n",
       "           0.45646,     0.45746,     0.45846,     0.45946,     0.46046,     0.46146,     0.46246,     0.46346,     0.46446,     0.46547,     0.46647,     0.46747,     0.46847,     0.46947,     0.47047,     0.47147,     0.47247,     0.47347,     0.47447,     0.47548,     0.47648,     0.47748,     0.47848,     0.47948,\n",
       "           0.48048,     0.48148,     0.48248,     0.48348,     0.48448,     0.48549,     0.48649,     0.48749,     0.48849,     0.48949,     0.49049,     0.49149,     0.49249,     0.49349,     0.49449,      0.4955,      0.4965,      0.4975,      0.4985,      0.4995,      0.5005,      0.5015,      0.5025,      0.5035,\n",
       "            0.5045,     0.50551,     0.50651,     0.50751,     0.50851,     0.50951,     0.51051,     0.51151,     0.51251,     0.51351,     0.51451,     0.51552,     0.51652,     0.51752,     0.51852,     0.51952,     0.52052,     0.52152,     0.52252,     0.52352,     0.52452,     0.52553,     0.52653,     0.52753,\n",
       "           0.52853,     0.52953,     0.53053,     0.53153,     0.53253,     0.53353,     0.53453,     0.53554,     0.53654,     0.53754,     0.53854,     0.53954,     0.54054,     0.54154,     0.54254,     0.54354,     0.54454,     0.54555,     0.54655,     0.54755,     0.54855,     0.54955,     0.55055,     0.55155,\n",
       "           0.55255,     0.55355,     0.55455,     0.55556,     0.55656,     0.55756,     0.55856,     0.55956,     0.56056,     0.56156,     0.56256,     0.56356,     0.56456,     0.56557,     0.56657,     0.56757,     0.56857,     0.56957,     0.57057,     0.57157,     0.57257,     0.57357,     0.57457,     0.57558,\n",
       "           0.57658,     0.57758,     0.57858,     0.57958,     0.58058,     0.58158,     0.58258,     0.58358,     0.58458,     0.58559,     0.58659,     0.58759,     0.58859,     0.58959,     0.59059,     0.59159,     0.59259,     0.59359,     0.59459,      0.5956,      0.5966,      0.5976,      0.5986,      0.5996,\n",
       "            0.6006,      0.6016,      0.6026,      0.6036,      0.6046,     0.60561,     0.60661,     0.60761,     0.60861,     0.60961,     0.61061,     0.61161,     0.61261,     0.61361,     0.61461,     0.61562,     0.61662,     0.61762,     0.61862,     0.61962,     0.62062,     0.62162,     0.62262,     0.62362,\n",
       "           0.62462,     0.62563,     0.62663,     0.62763,     0.62863,     0.62963,     0.63063,     0.63163,     0.63263,     0.63363,     0.63463,     0.63564,     0.63664,     0.63764,     0.63864,     0.63964,     0.64064,     0.64164,     0.64264,     0.64364,     0.64464,     0.64565,     0.64665,     0.64765,\n",
       "           0.64865,     0.64965,     0.65065,     0.65165,     0.65265,     0.65365,     0.65465,     0.65566,     0.65666,     0.65766,     0.65866,     0.65966,     0.66066,     0.66166,     0.66266,     0.66366,     0.66466,     0.66567,     0.66667,     0.66767,     0.66867,     0.66967,     0.67067,     0.67167,\n",
       "           0.67267,     0.67367,     0.67467,     0.67568,     0.67668,     0.67768,     0.67868,     0.67968,     0.68068,     0.68168,     0.68268,     0.68368,     0.68468,     0.68569,     0.68669,     0.68769,     0.68869,     0.68969,     0.69069,     0.69169,     0.69269,     0.69369,     0.69469,      0.6957,\n",
       "            0.6967,      0.6977,      0.6987,      0.6997,      0.7007,      0.7017,      0.7027,      0.7037,      0.7047,     0.70571,     0.70671,     0.70771,     0.70871,     0.70971,     0.71071,     0.71171,     0.71271,     0.71371,     0.71471,     0.71572,     0.71672,     0.71772,     0.71872,     0.71972,\n",
       "           0.72072,     0.72172,     0.72272,     0.72372,     0.72472,     0.72573,     0.72673,     0.72773,     0.72873,     0.72973,     0.73073,     0.73173,     0.73273,     0.73373,     0.73473,     0.73574,     0.73674,     0.73774,     0.73874,     0.73974,     0.74074,     0.74174,     0.74274,     0.74374,\n",
       "           0.74474,     0.74575,     0.74675,     0.74775,     0.74875,     0.74975,     0.75075,     0.75175,     0.75275,     0.75375,     0.75475,     0.75576,     0.75676,     0.75776,     0.75876,     0.75976,     0.76076,     0.76176,     0.76276,     0.76376,     0.76476,     0.76577,     0.76677,     0.76777,\n",
       "           0.76877,     0.76977,     0.77077,     0.77177,     0.77277,     0.77377,     0.77477,     0.77578,     0.77678,     0.77778,     0.77878,     0.77978,     0.78078,     0.78178,     0.78278,     0.78378,     0.78478,     0.78579,     0.78679,     0.78779,     0.78879,     0.78979,     0.79079,     0.79179,\n",
       "           0.79279,     0.79379,     0.79479,      0.7958,      0.7968,      0.7978,      0.7988,      0.7998,      0.8008,      0.8018,      0.8028,      0.8038,      0.8048,     0.80581,     0.80681,     0.80781,     0.80881,     0.80981,     0.81081,     0.81181,     0.81281,     0.81381,     0.81481,     0.81582,\n",
       "           0.81682,     0.81782,     0.81882,     0.81982,     0.82082,     0.82182,     0.82282,     0.82382,     0.82482,     0.82583,     0.82683,     0.82783,     0.82883,     0.82983,     0.83083,     0.83183,     0.83283,     0.83383,     0.83483,     0.83584,     0.83684,     0.83784,     0.83884,     0.83984,\n",
       "           0.84084,     0.84184,     0.84284,     0.84384,     0.84484,     0.84585,     0.84685,     0.84785,     0.84885,     0.84985,     0.85085,     0.85185,     0.85285,     0.85385,     0.85485,     0.85586,     0.85686,     0.85786,     0.85886,     0.85986,     0.86086,     0.86186,     0.86286,     0.86386,\n",
       "           0.86486,     0.86587,     0.86687,     0.86787,     0.86887,     0.86987,     0.87087,     0.87187,     0.87287,     0.87387,     0.87487,     0.87588,     0.87688,     0.87788,     0.87888,     0.87988,     0.88088,     0.88188,     0.88288,     0.88388,     0.88488,     0.88589,     0.88689,     0.88789,\n",
       "           0.88889,     0.88989,     0.89089,     0.89189,     0.89289,     0.89389,     0.89489,      0.8959,      0.8969,      0.8979,      0.8989,      0.8999,      0.9009,      0.9019,      0.9029,      0.9039,      0.9049,     0.90591,     0.90691,     0.90791,     0.90891,     0.90991,     0.91091,     0.91191,\n",
       "           0.91291,     0.91391,     0.91491,     0.91592,     0.91692,     0.91792,     0.91892,     0.91992,     0.92092,     0.92192,     0.92292,     0.92392,     0.92492,     0.92593,     0.92693,     0.92793,     0.92893,     0.92993,     0.93093,     0.93193,     0.93293,     0.93393,     0.93493,     0.93594,\n",
       "           0.93694,     0.93794,     0.93894,     0.93994,     0.94094,     0.94194,     0.94294,     0.94394,     0.94494,     0.94595,     0.94695,     0.94795,     0.94895,     0.94995,     0.95095,     0.95195,     0.95295,     0.95395,     0.95495,     0.95596,     0.95696,     0.95796,     0.95896,     0.95996,\n",
       "           0.96096,     0.96196,     0.96296,     0.96396,     0.96496,     0.96597,     0.96697,     0.96797,     0.96897,     0.96997,     0.97097,     0.97197,     0.97297,     0.97397,     0.97497,     0.97598,     0.97698,     0.97798,     0.97898,     0.97998,     0.98098,     0.98198,     0.98298,     0.98398,\n",
       "           0.98498,     0.98599,     0.98699,     0.98799,     0.98899,     0.98999,     0.99099,     0.99199,     0.99299,     0.99399,     0.99499,       0.996,       0.997,       0.998,       0.999,           1]), array([[    0.61321,     0.61321,     0.69035, ...,           0,           0,           0],\n",
       "       [    0.43123,     0.43123,     0.57635, ...,           0,           0,           0],\n",
       "       [     0.4698,      0.4698,     0.58443, ...,           0,           0,           0]]), 'Confidence', 'F1'], [array([          0,    0.001001,    0.002002,    0.003003,    0.004004,    0.005005,    0.006006,    0.007007,    0.008008,    0.009009,     0.01001,    0.011011,    0.012012,    0.013013,    0.014014,    0.015015,    0.016016,    0.017017,    0.018018,    0.019019,     0.02002,    0.021021,    0.022022,    0.023023,\n",
       "          0.024024,    0.025025,    0.026026,    0.027027,    0.028028,    0.029029,     0.03003,    0.031031,    0.032032,    0.033033,    0.034034,    0.035035,    0.036036,    0.037037,    0.038038,    0.039039,     0.04004,    0.041041,    0.042042,    0.043043,    0.044044,    0.045045,    0.046046,    0.047047,\n",
       "          0.048048,    0.049049,     0.05005,    0.051051,    0.052052,    0.053053,    0.054054,    0.055055,    0.056056,    0.057057,    0.058058,    0.059059,     0.06006,    0.061061,    0.062062,    0.063063,    0.064064,    0.065065,    0.066066,    0.067067,    0.068068,    0.069069,     0.07007,    0.071071,\n",
       "          0.072072,    0.073073,    0.074074,    0.075075,    0.076076,    0.077077,    0.078078,    0.079079,     0.08008,    0.081081,    0.082082,    0.083083,    0.084084,    0.085085,    0.086086,    0.087087,    0.088088,    0.089089,     0.09009,    0.091091,    0.092092,    0.093093,    0.094094,    0.095095,\n",
       "          0.096096,    0.097097,    0.098098,    0.099099,      0.1001,      0.1011,      0.1021,      0.1031,      0.1041,     0.10511,     0.10611,     0.10711,     0.10811,     0.10911,     0.11011,     0.11111,     0.11211,     0.11311,     0.11411,     0.11512,     0.11612,     0.11712,     0.11812,     0.11912,\n",
       "           0.12012,     0.12112,     0.12212,     0.12312,     0.12412,     0.12513,     0.12613,     0.12713,     0.12813,     0.12913,     0.13013,     0.13113,     0.13213,     0.13313,     0.13413,     0.13514,     0.13614,     0.13714,     0.13814,     0.13914,     0.14014,     0.14114,     0.14214,     0.14314,\n",
       "           0.14414,     0.14515,     0.14615,     0.14715,     0.14815,     0.14915,     0.15015,     0.15115,     0.15215,     0.15315,     0.15415,     0.15516,     0.15616,     0.15716,     0.15816,     0.15916,     0.16016,     0.16116,     0.16216,     0.16316,     0.16416,     0.16517,     0.16617,     0.16717,\n",
       "           0.16817,     0.16917,     0.17017,     0.17117,     0.17217,     0.17317,     0.17417,     0.17518,     0.17618,     0.17718,     0.17818,     0.17918,     0.18018,     0.18118,     0.18218,     0.18318,     0.18418,     0.18519,     0.18619,     0.18719,     0.18819,     0.18919,     0.19019,     0.19119,\n",
       "           0.19219,     0.19319,     0.19419,      0.1952,      0.1962,      0.1972,      0.1982,      0.1992,      0.2002,      0.2012,      0.2022,      0.2032,      0.2042,     0.20521,     0.20621,     0.20721,     0.20821,     0.20921,     0.21021,     0.21121,     0.21221,     0.21321,     0.21421,     0.21522,\n",
       "           0.21622,     0.21722,     0.21822,     0.21922,     0.22022,     0.22122,     0.22222,     0.22322,     0.22422,     0.22523,     0.22623,     0.22723,     0.22823,     0.22923,     0.23023,     0.23123,     0.23223,     0.23323,     0.23423,     0.23524,     0.23624,     0.23724,     0.23824,     0.23924,\n",
       "           0.24024,     0.24124,     0.24224,     0.24324,     0.24424,     0.24525,     0.24625,     0.24725,     0.24825,     0.24925,     0.25025,     0.25125,     0.25225,     0.25325,     0.25425,     0.25526,     0.25626,     0.25726,     0.25826,     0.25926,     0.26026,     0.26126,     0.26226,     0.26326,\n",
       "           0.26426,     0.26527,     0.26627,     0.26727,     0.26827,     0.26927,     0.27027,     0.27127,     0.27227,     0.27327,     0.27427,     0.27528,     0.27628,     0.27728,     0.27828,     0.27928,     0.28028,     0.28128,     0.28228,     0.28328,     0.28428,     0.28529,     0.28629,     0.28729,\n",
       "           0.28829,     0.28929,     0.29029,     0.29129,     0.29229,     0.29329,     0.29429,      0.2953,      0.2963,      0.2973,      0.2983,      0.2993,      0.3003,      0.3013,      0.3023,      0.3033,      0.3043,     0.30531,     0.30631,     0.30731,     0.30831,     0.30931,     0.31031,     0.31131,\n",
       "           0.31231,     0.31331,     0.31431,     0.31532,     0.31632,     0.31732,     0.31832,     0.31932,     0.32032,     0.32132,     0.32232,     0.32332,     0.32432,     0.32533,     0.32633,     0.32733,     0.32833,     0.32933,     0.33033,     0.33133,     0.33233,     0.33333,     0.33433,     0.33534,\n",
       "           0.33634,     0.33734,     0.33834,     0.33934,     0.34034,     0.34134,     0.34234,     0.34334,     0.34434,     0.34535,     0.34635,     0.34735,     0.34835,     0.34935,     0.35035,     0.35135,     0.35235,     0.35335,     0.35435,     0.35536,     0.35636,     0.35736,     0.35836,     0.35936,\n",
       "           0.36036,     0.36136,     0.36236,     0.36336,     0.36436,     0.36537,     0.36637,     0.36737,     0.36837,     0.36937,     0.37037,     0.37137,     0.37237,     0.37337,     0.37437,     0.37538,     0.37638,     0.37738,     0.37838,     0.37938,     0.38038,     0.38138,     0.38238,     0.38338,\n",
       "           0.38438,     0.38539,     0.38639,     0.38739,     0.38839,     0.38939,     0.39039,     0.39139,     0.39239,     0.39339,     0.39439,      0.3954,      0.3964,      0.3974,      0.3984,      0.3994,      0.4004,      0.4014,      0.4024,      0.4034,      0.4044,     0.40541,     0.40641,     0.40741,\n",
       "           0.40841,     0.40941,     0.41041,     0.41141,     0.41241,     0.41341,     0.41441,     0.41542,     0.41642,     0.41742,     0.41842,     0.41942,     0.42042,     0.42142,     0.42242,     0.42342,     0.42442,     0.42543,     0.42643,     0.42743,     0.42843,     0.42943,     0.43043,     0.43143,\n",
       "           0.43243,     0.43343,     0.43443,     0.43544,     0.43644,     0.43744,     0.43844,     0.43944,     0.44044,     0.44144,     0.44244,     0.44344,     0.44444,     0.44545,     0.44645,     0.44745,     0.44845,     0.44945,     0.45045,     0.45145,     0.45245,     0.45345,     0.45445,     0.45546,\n",
       "           0.45646,     0.45746,     0.45846,     0.45946,     0.46046,     0.46146,     0.46246,     0.46346,     0.46446,     0.46547,     0.46647,     0.46747,     0.46847,     0.46947,     0.47047,     0.47147,     0.47247,     0.47347,     0.47447,     0.47548,     0.47648,     0.47748,     0.47848,     0.47948,\n",
       "           0.48048,     0.48148,     0.48248,     0.48348,     0.48448,     0.48549,     0.48649,     0.48749,     0.48849,     0.48949,     0.49049,     0.49149,     0.49249,     0.49349,     0.49449,      0.4955,      0.4965,      0.4975,      0.4985,      0.4995,      0.5005,      0.5015,      0.5025,      0.5035,\n",
       "            0.5045,     0.50551,     0.50651,     0.50751,     0.50851,     0.50951,     0.51051,     0.51151,     0.51251,     0.51351,     0.51451,     0.51552,     0.51652,     0.51752,     0.51852,     0.51952,     0.52052,     0.52152,     0.52252,     0.52352,     0.52452,     0.52553,     0.52653,     0.52753,\n",
       "           0.52853,     0.52953,     0.53053,     0.53153,     0.53253,     0.53353,     0.53453,     0.53554,     0.53654,     0.53754,     0.53854,     0.53954,     0.54054,     0.54154,     0.54254,     0.54354,     0.54454,     0.54555,     0.54655,     0.54755,     0.54855,     0.54955,     0.55055,     0.55155,\n",
       "           0.55255,     0.55355,     0.55455,     0.55556,     0.55656,     0.55756,     0.55856,     0.55956,     0.56056,     0.56156,     0.56256,     0.56356,     0.56456,     0.56557,     0.56657,     0.56757,     0.56857,     0.56957,     0.57057,     0.57157,     0.57257,     0.57357,     0.57457,     0.57558,\n",
       "           0.57658,     0.57758,     0.57858,     0.57958,     0.58058,     0.58158,     0.58258,     0.58358,     0.58458,     0.58559,     0.58659,     0.58759,     0.58859,     0.58959,     0.59059,     0.59159,     0.59259,     0.59359,     0.59459,      0.5956,      0.5966,      0.5976,      0.5986,      0.5996,\n",
       "            0.6006,      0.6016,      0.6026,      0.6036,      0.6046,     0.60561,     0.60661,     0.60761,     0.60861,     0.60961,     0.61061,     0.61161,     0.61261,     0.61361,     0.61461,     0.61562,     0.61662,     0.61762,     0.61862,     0.61962,     0.62062,     0.62162,     0.62262,     0.62362,\n",
       "           0.62462,     0.62563,     0.62663,     0.62763,     0.62863,     0.62963,     0.63063,     0.63163,     0.63263,     0.63363,     0.63463,     0.63564,     0.63664,     0.63764,     0.63864,     0.63964,     0.64064,     0.64164,     0.64264,     0.64364,     0.64464,     0.64565,     0.64665,     0.64765,\n",
       "           0.64865,     0.64965,     0.65065,     0.65165,     0.65265,     0.65365,     0.65465,     0.65566,     0.65666,     0.65766,     0.65866,     0.65966,     0.66066,     0.66166,     0.66266,     0.66366,     0.66466,     0.66567,     0.66667,     0.66767,     0.66867,     0.66967,     0.67067,     0.67167,\n",
       "           0.67267,     0.67367,     0.67467,     0.67568,     0.67668,     0.67768,     0.67868,     0.67968,     0.68068,     0.68168,     0.68268,     0.68368,     0.68468,     0.68569,     0.68669,     0.68769,     0.68869,     0.68969,     0.69069,     0.69169,     0.69269,     0.69369,     0.69469,      0.6957,\n",
       "            0.6967,      0.6977,      0.6987,      0.6997,      0.7007,      0.7017,      0.7027,      0.7037,      0.7047,     0.70571,     0.70671,     0.70771,     0.70871,     0.70971,     0.71071,     0.71171,     0.71271,     0.71371,     0.71471,     0.71572,     0.71672,     0.71772,     0.71872,     0.71972,\n",
       "           0.72072,     0.72172,     0.72272,     0.72372,     0.72472,     0.72573,     0.72673,     0.72773,     0.72873,     0.72973,     0.73073,     0.73173,     0.73273,     0.73373,     0.73473,     0.73574,     0.73674,     0.73774,     0.73874,     0.73974,     0.74074,     0.74174,     0.74274,     0.74374,\n",
       "           0.74474,     0.74575,     0.74675,     0.74775,     0.74875,     0.74975,     0.75075,     0.75175,     0.75275,     0.75375,     0.75475,     0.75576,     0.75676,     0.75776,     0.75876,     0.75976,     0.76076,     0.76176,     0.76276,     0.76376,     0.76476,     0.76577,     0.76677,     0.76777,\n",
       "           0.76877,     0.76977,     0.77077,     0.77177,     0.77277,     0.77377,     0.77477,     0.77578,     0.77678,     0.77778,     0.77878,     0.77978,     0.78078,     0.78178,     0.78278,     0.78378,     0.78478,     0.78579,     0.78679,     0.78779,     0.78879,     0.78979,     0.79079,     0.79179,\n",
       "           0.79279,     0.79379,     0.79479,      0.7958,      0.7968,      0.7978,      0.7988,      0.7998,      0.8008,      0.8018,      0.8028,      0.8038,      0.8048,     0.80581,     0.80681,     0.80781,     0.80881,     0.80981,     0.81081,     0.81181,     0.81281,     0.81381,     0.81481,     0.81582,\n",
       "           0.81682,     0.81782,     0.81882,     0.81982,     0.82082,     0.82182,     0.82282,     0.82382,     0.82482,     0.82583,     0.82683,     0.82783,     0.82883,     0.82983,     0.83083,     0.83183,     0.83283,     0.83383,     0.83483,     0.83584,     0.83684,     0.83784,     0.83884,     0.83984,\n",
       "           0.84084,     0.84184,     0.84284,     0.84384,     0.84484,     0.84585,     0.84685,     0.84785,     0.84885,     0.84985,     0.85085,     0.85185,     0.85285,     0.85385,     0.85485,     0.85586,     0.85686,     0.85786,     0.85886,     0.85986,     0.86086,     0.86186,     0.86286,     0.86386,\n",
       "           0.86486,     0.86587,     0.86687,     0.86787,     0.86887,     0.86987,     0.87087,     0.87187,     0.87287,     0.87387,     0.87487,     0.87588,     0.87688,     0.87788,     0.87888,     0.87988,     0.88088,     0.88188,     0.88288,     0.88388,     0.88488,     0.88589,     0.88689,     0.88789,\n",
       "           0.88889,     0.88989,     0.89089,     0.89189,     0.89289,     0.89389,     0.89489,      0.8959,      0.8969,      0.8979,      0.8989,      0.8999,      0.9009,      0.9019,      0.9029,      0.9039,      0.9049,     0.90591,     0.90691,     0.90791,     0.90891,     0.90991,     0.91091,     0.91191,\n",
       "           0.91291,     0.91391,     0.91491,     0.91592,     0.91692,     0.91792,     0.91892,     0.91992,     0.92092,     0.92192,     0.92292,     0.92392,     0.92492,     0.92593,     0.92693,     0.92793,     0.92893,     0.92993,     0.93093,     0.93193,     0.93293,     0.93393,     0.93493,     0.93594,\n",
       "           0.93694,     0.93794,     0.93894,     0.93994,     0.94094,     0.94194,     0.94294,     0.94394,     0.94494,     0.94595,     0.94695,     0.94795,     0.94895,     0.94995,     0.95095,     0.95195,     0.95295,     0.95395,     0.95495,     0.95596,     0.95696,     0.95796,     0.95896,     0.95996,\n",
       "           0.96096,     0.96196,     0.96296,     0.96396,     0.96496,     0.96597,     0.96697,     0.96797,     0.96897,     0.96997,     0.97097,     0.97197,     0.97297,     0.97397,     0.97497,     0.97598,     0.97698,     0.97798,     0.97898,     0.97998,     0.98098,     0.98198,     0.98298,     0.98398,\n",
       "           0.98498,     0.98599,     0.98699,     0.98799,     0.98899,     0.98999,     0.99099,     0.99199,     0.99299,     0.99399,     0.99499,       0.996,       0.997,       0.998,       0.999,           1]), array([[    0.44828,     0.44828,     0.53582, ...,           1,           1,           1],\n",
       "       [    0.27751,     0.27751,     0.41057, ...,           1,           1,           1],\n",
       "       [    0.31963,     0.31963,       0.436, ...,           1,           1,           1]]), 'Confidence', 'Precision'], [array([          0,    0.001001,    0.002002,    0.003003,    0.004004,    0.005005,    0.006006,    0.007007,    0.008008,    0.009009,     0.01001,    0.011011,    0.012012,    0.013013,    0.014014,    0.015015,    0.016016,    0.017017,    0.018018,    0.019019,     0.02002,    0.021021,    0.022022,    0.023023,\n",
       "          0.024024,    0.025025,    0.026026,    0.027027,    0.028028,    0.029029,     0.03003,    0.031031,    0.032032,    0.033033,    0.034034,    0.035035,    0.036036,    0.037037,    0.038038,    0.039039,     0.04004,    0.041041,    0.042042,    0.043043,    0.044044,    0.045045,    0.046046,    0.047047,\n",
       "          0.048048,    0.049049,     0.05005,    0.051051,    0.052052,    0.053053,    0.054054,    0.055055,    0.056056,    0.057057,    0.058058,    0.059059,     0.06006,    0.061061,    0.062062,    0.063063,    0.064064,    0.065065,    0.066066,    0.067067,    0.068068,    0.069069,     0.07007,    0.071071,\n",
       "          0.072072,    0.073073,    0.074074,    0.075075,    0.076076,    0.077077,    0.078078,    0.079079,     0.08008,    0.081081,    0.082082,    0.083083,    0.084084,    0.085085,    0.086086,    0.087087,    0.088088,    0.089089,     0.09009,    0.091091,    0.092092,    0.093093,    0.094094,    0.095095,\n",
       "          0.096096,    0.097097,    0.098098,    0.099099,      0.1001,      0.1011,      0.1021,      0.1031,      0.1041,     0.10511,     0.10611,     0.10711,     0.10811,     0.10911,     0.11011,     0.11111,     0.11211,     0.11311,     0.11411,     0.11512,     0.11612,     0.11712,     0.11812,     0.11912,\n",
       "           0.12012,     0.12112,     0.12212,     0.12312,     0.12412,     0.12513,     0.12613,     0.12713,     0.12813,     0.12913,     0.13013,     0.13113,     0.13213,     0.13313,     0.13413,     0.13514,     0.13614,     0.13714,     0.13814,     0.13914,     0.14014,     0.14114,     0.14214,     0.14314,\n",
       "           0.14414,     0.14515,     0.14615,     0.14715,     0.14815,     0.14915,     0.15015,     0.15115,     0.15215,     0.15315,     0.15415,     0.15516,     0.15616,     0.15716,     0.15816,     0.15916,     0.16016,     0.16116,     0.16216,     0.16316,     0.16416,     0.16517,     0.16617,     0.16717,\n",
       "           0.16817,     0.16917,     0.17017,     0.17117,     0.17217,     0.17317,     0.17417,     0.17518,     0.17618,     0.17718,     0.17818,     0.17918,     0.18018,     0.18118,     0.18218,     0.18318,     0.18418,     0.18519,     0.18619,     0.18719,     0.18819,     0.18919,     0.19019,     0.19119,\n",
       "           0.19219,     0.19319,     0.19419,      0.1952,      0.1962,      0.1972,      0.1982,      0.1992,      0.2002,      0.2012,      0.2022,      0.2032,      0.2042,     0.20521,     0.20621,     0.20721,     0.20821,     0.20921,     0.21021,     0.21121,     0.21221,     0.21321,     0.21421,     0.21522,\n",
       "           0.21622,     0.21722,     0.21822,     0.21922,     0.22022,     0.22122,     0.22222,     0.22322,     0.22422,     0.22523,     0.22623,     0.22723,     0.22823,     0.22923,     0.23023,     0.23123,     0.23223,     0.23323,     0.23423,     0.23524,     0.23624,     0.23724,     0.23824,     0.23924,\n",
       "           0.24024,     0.24124,     0.24224,     0.24324,     0.24424,     0.24525,     0.24625,     0.24725,     0.24825,     0.24925,     0.25025,     0.25125,     0.25225,     0.25325,     0.25425,     0.25526,     0.25626,     0.25726,     0.25826,     0.25926,     0.26026,     0.26126,     0.26226,     0.26326,\n",
       "           0.26426,     0.26527,     0.26627,     0.26727,     0.26827,     0.26927,     0.27027,     0.27127,     0.27227,     0.27327,     0.27427,     0.27528,     0.27628,     0.27728,     0.27828,     0.27928,     0.28028,     0.28128,     0.28228,     0.28328,     0.28428,     0.28529,     0.28629,     0.28729,\n",
       "           0.28829,     0.28929,     0.29029,     0.29129,     0.29229,     0.29329,     0.29429,      0.2953,      0.2963,      0.2973,      0.2983,      0.2993,      0.3003,      0.3013,      0.3023,      0.3033,      0.3043,     0.30531,     0.30631,     0.30731,     0.30831,     0.30931,     0.31031,     0.31131,\n",
       "           0.31231,     0.31331,     0.31431,     0.31532,     0.31632,     0.31732,     0.31832,     0.31932,     0.32032,     0.32132,     0.32232,     0.32332,     0.32432,     0.32533,     0.32633,     0.32733,     0.32833,     0.32933,     0.33033,     0.33133,     0.33233,     0.33333,     0.33433,     0.33534,\n",
       "           0.33634,     0.33734,     0.33834,     0.33934,     0.34034,     0.34134,     0.34234,     0.34334,     0.34434,     0.34535,     0.34635,     0.34735,     0.34835,     0.34935,     0.35035,     0.35135,     0.35235,     0.35335,     0.35435,     0.35536,     0.35636,     0.35736,     0.35836,     0.35936,\n",
       "           0.36036,     0.36136,     0.36236,     0.36336,     0.36436,     0.36537,     0.36637,     0.36737,     0.36837,     0.36937,     0.37037,     0.37137,     0.37237,     0.37337,     0.37437,     0.37538,     0.37638,     0.37738,     0.37838,     0.37938,     0.38038,     0.38138,     0.38238,     0.38338,\n",
       "           0.38438,     0.38539,     0.38639,     0.38739,     0.38839,     0.38939,     0.39039,     0.39139,     0.39239,     0.39339,     0.39439,      0.3954,      0.3964,      0.3974,      0.3984,      0.3994,      0.4004,      0.4014,      0.4024,      0.4034,      0.4044,     0.40541,     0.40641,     0.40741,\n",
       "           0.40841,     0.40941,     0.41041,     0.41141,     0.41241,     0.41341,     0.41441,     0.41542,     0.41642,     0.41742,     0.41842,     0.41942,     0.42042,     0.42142,     0.42242,     0.42342,     0.42442,     0.42543,     0.42643,     0.42743,     0.42843,     0.42943,     0.43043,     0.43143,\n",
       "           0.43243,     0.43343,     0.43443,     0.43544,     0.43644,     0.43744,     0.43844,     0.43944,     0.44044,     0.44144,     0.44244,     0.44344,     0.44444,     0.44545,     0.44645,     0.44745,     0.44845,     0.44945,     0.45045,     0.45145,     0.45245,     0.45345,     0.45445,     0.45546,\n",
       "           0.45646,     0.45746,     0.45846,     0.45946,     0.46046,     0.46146,     0.46246,     0.46346,     0.46446,     0.46547,     0.46647,     0.46747,     0.46847,     0.46947,     0.47047,     0.47147,     0.47247,     0.47347,     0.47447,     0.47548,     0.47648,     0.47748,     0.47848,     0.47948,\n",
       "           0.48048,     0.48148,     0.48248,     0.48348,     0.48448,     0.48549,     0.48649,     0.48749,     0.48849,     0.48949,     0.49049,     0.49149,     0.49249,     0.49349,     0.49449,      0.4955,      0.4965,      0.4975,      0.4985,      0.4995,      0.5005,      0.5015,      0.5025,      0.5035,\n",
       "            0.5045,     0.50551,     0.50651,     0.50751,     0.50851,     0.50951,     0.51051,     0.51151,     0.51251,     0.51351,     0.51451,     0.51552,     0.51652,     0.51752,     0.51852,     0.51952,     0.52052,     0.52152,     0.52252,     0.52352,     0.52452,     0.52553,     0.52653,     0.52753,\n",
       "           0.52853,     0.52953,     0.53053,     0.53153,     0.53253,     0.53353,     0.53453,     0.53554,     0.53654,     0.53754,     0.53854,     0.53954,     0.54054,     0.54154,     0.54254,     0.54354,     0.54454,     0.54555,     0.54655,     0.54755,     0.54855,     0.54955,     0.55055,     0.55155,\n",
       "           0.55255,     0.55355,     0.55455,     0.55556,     0.55656,     0.55756,     0.55856,     0.55956,     0.56056,     0.56156,     0.56256,     0.56356,     0.56456,     0.56557,     0.56657,     0.56757,     0.56857,     0.56957,     0.57057,     0.57157,     0.57257,     0.57357,     0.57457,     0.57558,\n",
       "           0.57658,     0.57758,     0.57858,     0.57958,     0.58058,     0.58158,     0.58258,     0.58358,     0.58458,     0.58559,     0.58659,     0.58759,     0.58859,     0.58959,     0.59059,     0.59159,     0.59259,     0.59359,     0.59459,      0.5956,      0.5966,      0.5976,      0.5986,      0.5996,\n",
       "            0.6006,      0.6016,      0.6026,      0.6036,      0.6046,     0.60561,     0.60661,     0.60761,     0.60861,     0.60961,     0.61061,     0.61161,     0.61261,     0.61361,     0.61461,     0.61562,     0.61662,     0.61762,     0.61862,     0.61962,     0.62062,     0.62162,     0.62262,     0.62362,\n",
       "           0.62462,     0.62563,     0.62663,     0.62763,     0.62863,     0.62963,     0.63063,     0.63163,     0.63263,     0.63363,     0.63463,     0.63564,     0.63664,     0.63764,     0.63864,     0.63964,     0.64064,     0.64164,     0.64264,     0.64364,     0.64464,     0.64565,     0.64665,     0.64765,\n",
       "           0.64865,     0.64965,     0.65065,     0.65165,     0.65265,     0.65365,     0.65465,     0.65566,     0.65666,     0.65766,     0.65866,     0.65966,     0.66066,     0.66166,     0.66266,     0.66366,     0.66466,     0.66567,     0.66667,     0.66767,     0.66867,     0.66967,     0.67067,     0.67167,\n",
       "           0.67267,     0.67367,     0.67467,     0.67568,     0.67668,     0.67768,     0.67868,     0.67968,     0.68068,     0.68168,     0.68268,     0.68368,     0.68468,     0.68569,     0.68669,     0.68769,     0.68869,     0.68969,     0.69069,     0.69169,     0.69269,     0.69369,     0.69469,      0.6957,\n",
       "            0.6967,      0.6977,      0.6987,      0.6997,      0.7007,      0.7017,      0.7027,      0.7037,      0.7047,     0.70571,     0.70671,     0.70771,     0.70871,     0.70971,     0.71071,     0.71171,     0.71271,     0.71371,     0.71471,     0.71572,     0.71672,     0.71772,     0.71872,     0.71972,\n",
       "           0.72072,     0.72172,     0.72272,     0.72372,     0.72472,     0.72573,     0.72673,     0.72773,     0.72873,     0.72973,     0.73073,     0.73173,     0.73273,     0.73373,     0.73473,     0.73574,     0.73674,     0.73774,     0.73874,     0.73974,     0.74074,     0.74174,     0.74274,     0.74374,\n",
       "           0.74474,     0.74575,     0.74675,     0.74775,     0.74875,     0.74975,     0.75075,     0.75175,     0.75275,     0.75375,     0.75475,     0.75576,     0.75676,     0.75776,     0.75876,     0.75976,     0.76076,     0.76176,     0.76276,     0.76376,     0.76476,     0.76577,     0.76677,     0.76777,\n",
       "           0.76877,     0.76977,     0.77077,     0.77177,     0.77277,     0.77377,     0.77477,     0.77578,     0.77678,     0.77778,     0.77878,     0.77978,     0.78078,     0.78178,     0.78278,     0.78378,     0.78478,     0.78579,     0.78679,     0.78779,     0.78879,     0.78979,     0.79079,     0.79179,\n",
       "           0.79279,     0.79379,     0.79479,      0.7958,      0.7968,      0.7978,      0.7988,      0.7998,      0.8008,      0.8018,      0.8028,      0.8038,      0.8048,     0.80581,     0.80681,     0.80781,     0.80881,     0.80981,     0.81081,     0.81181,     0.81281,     0.81381,     0.81481,     0.81582,\n",
       "           0.81682,     0.81782,     0.81882,     0.81982,     0.82082,     0.82182,     0.82282,     0.82382,     0.82482,     0.82583,     0.82683,     0.82783,     0.82883,     0.82983,     0.83083,     0.83183,     0.83283,     0.83383,     0.83483,     0.83584,     0.83684,     0.83784,     0.83884,     0.83984,\n",
       "           0.84084,     0.84184,     0.84284,     0.84384,     0.84484,     0.84585,     0.84685,     0.84785,     0.84885,     0.84985,     0.85085,     0.85185,     0.85285,     0.85385,     0.85485,     0.85586,     0.85686,     0.85786,     0.85886,     0.85986,     0.86086,     0.86186,     0.86286,     0.86386,\n",
       "           0.86486,     0.86587,     0.86687,     0.86787,     0.86887,     0.86987,     0.87087,     0.87187,     0.87287,     0.87387,     0.87487,     0.87588,     0.87688,     0.87788,     0.87888,     0.87988,     0.88088,     0.88188,     0.88288,     0.88388,     0.88488,     0.88589,     0.88689,     0.88789,\n",
       "           0.88889,     0.88989,     0.89089,     0.89189,     0.89289,     0.89389,     0.89489,      0.8959,      0.8969,      0.8979,      0.8989,      0.8999,      0.9009,      0.9019,      0.9029,      0.9039,      0.9049,     0.90591,     0.90691,     0.90791,     0.90891,     0.90991,     0.91091,     0.91191,\n",
       "           0.91291,     0.91391,     0.91491,     0.91592,     0.91692,     0.91792,     0.91892,     0.91992,     0.92092,     0.92192,     0.92292,     0.92392,     0.92492,     0.92593,     0.92693,     0.92793,     0.92893,     0.92993,     0.93093,     0.93193,     0.93293,     0.93393,     0.93493,     0.93594,\n",
       "           0.93694,     0.93794,     0.93894,     0.93994,     0.94094,     0.94194,     0.94294,     0.94394,     0.94494,     0.94595,     0.94695,     0.94795,     0.94895,     0.94995,     0.95095,     0.95195,     0.95295,     0.95395,     0.95495,     0.95596,     0.95696,     0.95796,     0.95896,     0.95996,\n",
       "           0.96096,     0.96196,     0.96296,     0.96396,     0.96496,     0.96597,     0.96697,     0.96797,     0.96897,     0.96997,     0.97097,     0.97197,     0.97297,     0.97397,     0.97497,     0.97598,     0.97698,     0.97798,     0.97898,     0.97998,     0.98098,     0.98198,     0.98298,     0.98398,\n",
       "           0.98498,     0.98599,     0.98699,     0.98799,     0.98899,     0.98999,     0.99099,     0.99199,     0.99299,     0.99399,     0.99499,       0.996,       0.997,       0.998,       0.999,           1]), array([[    0.97015,     0.97015,     0.97015, ...,           0,           0,           0],\n",
       "       [    0.96667,     0.96667,     0.96667, ...,           0,           0,           0],\n",
       "       [    0.88608,     0.88608,     0.88608, ...,           0,           0,           0]]), 'Confidence', 'Recall']]\n",
       "fitness: np.float64(0.8897296485078232)\n",
       "keys: ['metrics/precision(B)', 'metrics/recall(B)', 'metrics/mAP50(B)', 'metrics/mAP50-95(B)']\n",
       "maps: array([    0.91398,     0.91586,     0.82199])\n",
       "names: {0: 'FireExtinguisher', 1: 'ToolBox', 2: 'OxygenTank'}\n",
       "nt_per_class: array([67, 60, 79])\n",
       "nt_per_image: array([67, 60, 79])\n",
       "results_dict: {'metrics/precision(B)': np.float64(0.9858178652111064), 'metrics/recall(B)': np.float64(0.8975895436795396), 'metrics/mAP50(B)': np.float64(0.9418052113468846), 'metrics/mAP50-95(B)': np.float64(0.8839434748590386), 'fitness': np.float64(0.8897296485078232)}\n",
       "save_dir: WindowsPath('runs/detect/train')\n",
       "speed: {'preprocess': 0.42552272728468554, 'inference': 6.403607142837918, 'loss': 0.0004551948104681169, 'postprocess': 1.7218746753232235}\n",
       "stats: {'tp': [], 'conf': [], 'pred_cls': [], 'target_cls': [], 'target_img': []}\n",
       "task: 'detect'"
      ]
     },
     "execution_count": 5,
     "metadata": {},
     "output_type": "execute_result"
    }
   ],
   "source": [
    "#STARTING TRAINING\n",
    "from ultralytics import YOLO\n",
    "\n",
    "# Load base model\n",
    "model = YOLO(\"yolov8m.pt\")  # or yolov8s.pt for small, yolov8m.pt for medium, etc.\n",
    "\n",
    "# Train on your dataset\n",
    "model.train(\n",
    "    data=\"yolo_params.yaml\",  # Your YAML file\n",
    "    epochs=50,                # Set how many epochs you want\n",
    "    imgsz=640,                # Image size (you can change)\n",
    "    batch=16,                 # Adjust based on your GPU's VRAM\n",
    "    device=0                  # Use GPU (if available)\n",
    ")"
   ]
  },
  {
   "cell_type": "code",
   "execution_count": 6,
   "id": "1d123fa8-da4e-4f51-8343-1970d45064a5",
   "metadata": {},
   "outputs": [
    {
     "name": "stdout",
     "output_type": "stream",
     "text": [
      "\n",
      "image 1/400 C:\\Users\\Vaibhav\\Downloads\\HackWithDelhi2.0\\data\\test\\images\\000000000.png: 384x640 1 OxygenTank, 55.6ms\n",
      "image 2/400 C:\\Users\\Vaibhav\\Downloads\\HackWithDelhi2.0\\data\\test\\images\\000000001.png: 384x640 1 ToolBox, 39.9ms\n",
      "image 3/400 C:\\Users\\Vaibhav\\Downloads\\HackWithDelhi2.0\\data\\test\\images\\000000002.png: 384x640 1 FireExtinguisher, 1 ToolBox, 39.9ms\n",
      "image 4/400 C:\\Users\\Vaibhav\\Downloads\\HackWithDelhi2.0\\data\\test\\images\\000000003.png: 384x640 1 ToolBox, 39.9ms\n",
      "image 5/400 C:\\Users\\Vaibhav\\Downloads\\HackWithDelhi2.0\\data\\test\\images\\000000004.png: 384x640 1 OxygenTank, 39.8ms\n",
      "image 6/400 C:\\Users\\Vaibhav\\Downloads\\HackWithDelhi2.0\\data\\test\\images\\000000005.png: 384x640 1 ToolBox, 39.1ms\n",
      "image 7/400 C:\\Users\\Vaibhav\\Downloads\\HackWithDelhi2.0\\data\\test\\images\\000000006.png: 384x640 1 ToolBox, 39.2ms\n",
      "image 8/400 C:\\Users\\Vaibhav\\Downloads\\HackWithDelhi2.0\\data\\test\\images\\000000007.png: 384x640 1 FireExtinguisher, 1 ToolBox, 1 OxygenTank, 39.2ms\n",
      "image 9/400 C:\\Users\\Vaibhav\\Downloads\\HackWithDelhi2.0\\data\\test\\images\\000000008.png: 384x640 1 OxygenTank, 39.1ms\n",
      "image 10/400 C:\\Users\\Vaibhav\\Downloads\\HackWithDelhi2.0\\data\\test\\images\\000000009.png: 384x640 1 ToolBox, 39.2ms\n",
      "image 11/400 C:\\Users\\Vaibhav\\Downloads\\HackWithDelhi2.0\\data\\test\\images\\000000010.png: 384x640 (no detections), 39.0ms\n",
      "image 12/400 C:\\Users\\Vaibhav\\Downloads\\HackWithDelhi2.0\\data\\test\\images\\000000011.png: 384x640 1 OxygenTank, 38.9ms\n",
      "image 13/400 C:\\Users\\Vaibhav\\Downloads\\HackWithDelhi2.0\\data\\test\\images\\000000012.png: 384x640 1 FireExtinguisher, 38.7ms\n",
      "image 14/400 C:\\Users\\Vaibhav\\Downloads\\HackWithDelhi2.0\\data\\test\\images\\000000013.png: 384x640 1 FireExtinguisher, 38.8ms\n",
      "image 15/400 C:\\Users\\Vaibhav\\Downloads\\HackWithDelhi2.0\\data\\test\\images\\000000014.png: 384x640 1 OxygenTank, 38.9ms\n",
      "image 16/400 C:\\Users\\Vaibhav\\Downloads\\HackWithDelhi2.0\\data\\test\\images\\000000015.png: 384x640 1 FireExtinguisher, 38.4ms\n",
      "image 17/400 C:\\Users\\Vaibhav\\Downloads\\HackWithDelhi2.0\\data\\test\\images\\000000016.png: 384x640 1 ToolBox, 38.6ms\n",
      "image 18/400 C:\\Users\\Vaibhav\\Downloads\\HackWithDelhi2.0\\data\\test\\images\\000000017.png: 384x640 1 FireExtinguisher, 38.5ms\n",
      "image 19/400 C:\\Users\\Vaibhav\\Downloads\\HackWithDelhi2.0\\data\\test\\images\\000000018.png: 384x640 1 OxygenTank, 38.7ms\n",
      "image 20/400 C:\\Users\\Vaibhav\\Downloads\\HackWithDelhi2.0\\data\\test\\images\\000000019.png: 384x640 1 FireExtinguisher, 38.4ms\n",
      "image 21/400 C:\\Users\\Vaibhav\\Downloads\\HackWithDelhi2.0\\data\\test\\images\\000000020.png: 384x640 1 ToolBox, 1 OxygenTank, 38.5ms\n",
      "image 22/400 C:\\Users\\Vaibhav\\Downloads\\HackWithDelhi2.0\\data\\test\\images\\000000021.png: 384x640 1 FireExtinguisher, 2 ToolBoxs, 2 OxygenTanks, 38.5ms\n",
      "image 23/400 C:\\Users\\Vaibhav\\Downloads\\HackWithDelhi2.0\\data\\test\\images\\000000022.png: 384x640 1 FireExtinguisher, 38.6ms\n",
      "image 24/400 C:\\Users\\Vaibhav\\Downloads\\HackWithDelhi2.0\\data\\test\\images\\000000023.png: 384x640 1 FireExtinguisher, 39.0ms\n",
      "image 25/400 C:\\Users\\Vaibhav\\Downloads\\HackWithDelhi2.0\\data\\test\\images\\000000024.png: 384x640 1 OxygenTank, 38.5ms\n",
      "image 26/400 C:\\Users\\Vaibhav\\Downloads\\HackWithDelhi2.0\\data\\test\\images\\000000025.png: 384x640 1 ToolBox, 38.6ms\n",
      "image 27/400 C:\\Users\\Vaibhav\\Downloads\\HackWithDelhi2.0\\data\\test\\images\\000000026.png: 384x640 1 ToolBox, 38.4ms\n",
      "image 28/400 C:\\Users\\Vaibhav\\Downloads\\HackWithDelhi2.0\\data\\test\\images\\000000027.png: 384x640 1 FireExtinguisher, 38.5ms\n",
      "image 29/400 C:\\Users\\Vaibhav\\Downloads\\HackWithDelhi2.0\\data\\test\\images\\000000028.png: 384x640 1 ToolBox, 38.6ms\n",
      "image 30/400 C:\\Users\\Vaibhav\\Downloads\\HackWithDelhi2.0\\data\\test\\images\\000000029.png: 384x640 1 ToolBox, 38.5ms\n",
      "image 31/400 C:\\Users\\Vaibhav\\Downloads\\HackWithDelhi2.0\\data\\test\\images\\000000030.png: 384x640 1 FireExtinguisher, 38.8ms\n",
      "image 32/400 C:\\Users\\Vaibhav\\Downloads\\HackWithDelhi2.0\\data\\test\\images\\000000031.png: 384x640 1 ToolBox, 38.5ms\n",
      "image 33/400 C:\\Users\\Vaibhav\\Downloads\\HackWithDelhi2.0\\data\\test\\images\\000000032.png: 384x640 (no detections), 38.8ms\n",
      "image 34/400 C:\\Users\\Vaibhav\\Downloads\\HackWithDelhi2.0\\data\\test\\images\\000000033.png: 384x640 1 FireExtinguisher, 39.2ms\n",
      "image 35/400 C:\\Users\\Vaibhav\\Downloads\\HackWithDelhi2.0\\data\\test\\images\\000000034.png: 384x640 1 ToolBox, 39.1ms\n",
      "image 36/400 C:\\Users\\Vaibhav\\Downloads\\HackWithDelhi2.0\\data\\test\\images\\000000035.png: 384x640 1 FireExtinguisher, 39.0ms\n",
      "image 37/400 C:\\Users\\Vaibhav\\Downloads\\HackWithDelhi2.0\\data\\test\\images\\000000036.png: 384x640 1 OxygenTank, 38.8ms\n",
      "image 38/400 C:\\Users\\Vaibhav\\Downloads\\HackWithDelhi2.0\\data\\test\\images\\000000037.png: 384x640 1 OxygenTank, 38.9ms\n",
      "image 39/400 C:\\Users\\Vaibhav\\Downloads\\HackWithDelhi2.0\\data\\test\\images\\000000038.png: 384x640 1 FireExtinguisher, 38.5ms\n",
      "image 40/400 C:\\Users\\Vaibhav\\Downloads\\HackWithDelhi2.0\\data\\test\\images\\000000039.png: 384x640 1 FireExtinguisher, 38.4ms\n",
      "image 41/400 C:\\Users\\Vaibhav\\Downloads\\HackWithDelhi2.0\\data\\test\\images\\000000040.png: 384x640 1 ToolBox, 1 OxygenTank, 38.4ms\n",
      "image 42/400 C:\\Users\\Vaibhav\\Downloads\\HackWithDelhi2.0\\data\\test\\images\\000000041.png: 384x640 1 FireExtinguisher, 1 ToolBox, 1 OxygenTank, 38.5ms\n",
      "image 43/400 C:\\Users\\Vaibhav\\Downloads\\HackWithDelhi2.0\\data\\test\\images\\000000042.png: 384x640 1 OxygenTank, 38.7ms\n",
      "image 44/400 C:\\Users\\Vaibhav\\Downloads\\HackWithDelhi2.0\\data\\test\\images\\000000043.png: 384x640 1 OxygenTank, 38.5ms\n",
      "image 45/400 C:\\Users\\Vaibhav\\Downloads\\HackWithDelhi2.0\\data\\test\\images\\000000044.png: 384x640 1 FireExtinguisher, 1 OxygenTank, 38.4ms\n",
      "image 46/400 C:\\Users\\Vaibhav\\Downloads\\HackWithDelhi2.0\\data\\test\\images\\000000045.png: 384x640 1 FireExtinguisher, 1 OxygenTank, 38.5ms\n",
      "image 47/400 C:\\Users\\Vaibhav\\Downloads\\HackWithDelhi2.0\\data\\test\\images\\000000046.png: 384x640 2 ToolBoxs, 38.4ms\n",
      "image 48/400 C:\\Users\\Vaibhav\\Downloads\\HackWithDelhi2.0\\data\\test\\images\\000000047.png: 384x640 1 FireExtinguisher, 1 OxygenTank, 38.6ms\n",
      "image 49/400 C:\\Users\\Vaibhav\\Downloads\\HackWithDelhi2.0\\data\\test\\images\\000000048.png: 384x640 1 ToolBox, 38.4ms\n",
      "image 50/400 C:\\Users\\Vaibhav\\Downloads\\HackWithDelhi2.0\\data\\test\\images\\000000049.png: 384x640 1 FireExtinguisher, 1 ToolBox, 1 OxygenTank, 38.4ms\n",
      "image 51/400 C:\\Users\\Vaibhav\\Downloads\\HackWithDelhi2.0\\data\\test\\images\\000000050.png: 384x640 1 FireExtinguisher, 38.5ms\n",
      "image 52/400 C:\\Users\\Vaibhav\\Downloads\\HackWithDelhi2.0\\data\\test\\images\\000000051.png: 384x640 1 FireExtinguisher, 38.5ms\n",
      "image 53/400 C:\\Users\\Vaibhav\\Downloads\\HackWithDelhi2.0\\data\\test\\images\\000000052.png: 384x640 1 OxygenTank, 38.5ms\n",
      "image 54/400 C:\\Users\\Vaibhav\\Downloads\\HackWithDelhi2.0\\data\\test\\images\\000000053.png: 384x640 1 FireExtinguisher, 1 ToolBox, 38.3ms\n",
      "image 55/400 C:\\Users\\Vaibhav\\Downloads\\HackWithDelhi2.0\\data\\test\\images\\000000054.png: 384x640 1 ToolBox, 38.4ms\n",
      "image 56/400 C:\\Users\\Vaibhav\\Downloads\\HackWithDelhi2.0\\data\\test\\images\\000000055.png: 384x640 1 FireExtinguisher, 38.5ms\n",
      "image 57/400 C:\\Users\\Vaibhav\\Downloads\\HackWithDelhi2.0\\data\\test\\images\\000000056.png: 384x640 1 OxygenTank, 38.4ms\n",
      "image 58/400 C:\\Users\\Vaibhav\\Downloads\\HackWithDelhi2.0\\data\\test\\images\\000000057.png: 384x640 1 FireExtinguisher, 38.7ms\n",
      "image 59/400 C:\\Users\\Vaibhav\\Downloads\\HackWithDelhi2.0\\data\\test\\images\\000000058.png: 384x640 1 ToolBox, 38.7ms\n",
      "image 60/400 C:\\Users\\Vaibhav\\Downloads\\HackWithDelhi2.0\\data\\test\\images\\000000059.png: 384x640 1 FireExtinguisher, 1 ToolBox, 39.1ms\n",
      "image 61/400 C:\\Users\\Vaibhav\\Downloads\\HackWithDelhi2.0\\data\\test\\images\\000000060.png: 384x640 2 OxygenTanks, 39.0ms\n",
      "image 62/400 C:\\Users\\Vaibhav\\Downloads\\HackWithDelhi2.0\\data\\test\\images\\000000061.png: 384x640 1 OxygenTank, 38.8ms\n",
      "image 63/400 C:\\Users\\Vaibhav\\Downloads\\HackWithDelhi2.0\\data\\test\\images\\000000062.png: 384x640 1 OxygenTank, 39.0ms\n",
      "image 64/400 C:\\Users\\Vaibhav\\Downloads\\HackWithDelhi2.0\\data\\test\\images\\000000063.png: 384x640 1 OxygenTank, 38.7ms\n",
      "image 65/400 C:\\Users\\Vaibhav\\Downloads\\HackWithDelhi2.0\\data\\test\\images\\000000064.png: 384x640 1 OxygenTank, 38.8ms\n",
      "image 66/400 C:\\Users\\Vaibhav\\Downloads\\HackWithDelhi2.0\\data\\test\\images\\000000065.png: 384x640 1 OxygenTank, 38.7ms\n",
      "image 67/400 C:\\Users\\Vaibhav\\Downloads\\HackWithDelhi2.0\\data\\test\\images\\000000066.png: 384x640 1 OxygenTank, 38.8ms\n",
      "image 68/400 C:\\Users\\Vaibhav\\Downloads\\HackWithDelhi2.0\\data\\test\\images\\000000067.png: 384x640 1 ToolBox, 39.0ms\n",
      "image 69/400 C:\\Users\\Vaibhav\\Downloads\\HackWithDelhi2.0\\data\\test\\images\\000000068.png: 384x640 1 ToolBox, 1 OxygenTank, 38.8ms\n",
      "image 70/400 C:\\Users\\Vaibhav\\Downloads\\HackWithDelhi2.0\\data\\test\\images\\000000069.png: 384x640 1 OxygenTank, 38.7ms\n",
      "image 71/400 C:\\Users\\Vaibhav\\Downloads\\HackWithDelhi2.0\\data\\test\\images\\000000070.png: 384x640 1 FireExtinguisher, 38.9ms\n",
      "image 72/400 C:\\Users\\Vaibhav\\Downloads\\HackWithDelhi2.0\\data\\test\\images\\000000071.png: 384x640 1 FireExtinguisher, 39.2ms\n",
      "image 73/400 C:\\Users\\Vaibhav\\Downloads\\HackWithDelhi2.0\\data\\test\\images\\000000072.png: 384x640 1 OxygenTank, 38.9ms\n",
      "image 74/400 C:\\Users\\Vaibhav\\Downloads\\HackWithDelhi2.0\\data\\test\\images\\000000073.png: 384x640 1 FireExtinguisher, 38.8ms\n",
      "image 75/400 C:\\Users\\Vaibhav\\Downloads\\HackWithDelhi2.0\\data\\test\\images\\000000074.png: 384x640 1 FireExtinguisher, 38.8ms\n",
      "image 76/400 C:\\Users\\Vaibhav\\Downloads\\HackWithDelhi2.0\\data\\test\\images\\000000075.png: 384x640 1 OxygenTank, 39.0ms\n",
      "image 77/400 C:\\Users\\Vaibhav\\Downloads\\HackWithDelhi2.0\\data\\test\\images\\000000076.png: 384x640 1 ToolBox, 39.0ms\n",
      "image 78/400 C:\\Users\\Vaibhav\\Downloads\\HackWithDelhi2.0\\data\\test\\images\\000000077.png: 384x640 1 FireExtinguisher, 38.8ms\n",
      "image 79/400 C:\\Users\\Vaibhav\\Downloads\\HackWithDelhi2.0\\data\\test\\images\\000000078.png: 384x640 1 FireExtinguisher, 1 OxygenTank, 39.5ms\n",
      "image 80/400 C:\\Users\\Vaibhav\\Downloads\\HackWithDelhi2.0\\data\\test\\images\\000000079.png: 384x640 1 FireExtinguisher, 1 OxygenTank, 39.8ms\n",
      "image 81/400 C:\\Users\\Vaibhav\\Downloads\\HackWithDelhi2.0\\data\\test\\images\\000000080.png: 384x640 1 FireExtinguisher, 40.3ms\n",
      "image 82/400 C:\\Users\\Vaibhav\\Downloads\\HackWithDelhi2.0\\data\\test\\images\\000000081.png: 384x640 1 ToolBox, 40.2ms\n",
      "image 83/400 C:\\Users\\Vaibhav\\Downloads\\HackWithDelhi2.0\\data\\test\\images\\000000082.png: 384x640 1 OxygenTank, 40.3ms\n",
      "image 84/400 C:\\Users\\Vaibhav\\Downloads\\HackWithDelhi2.0\\data\\test\\images\\000000083.png: 384x640 1 ToolBox, 39.6ms\n",
      "image 85/400 C:\\Users\\Vaibhav\\Downloads\\HackWithDelhi2.0\\data\\test\\images\\000000084.png: 384x640 1 ToolBox, 39.4ms\n",
      "image 86/400 C:\\Users\\Vaibhav\\Downloads\\HackWithDelhi2.0\\data\\test\\images\\000000085.png: 384x640 1 FireExtinguisher, 1 ToolBox, 39.5ms\n",
      "image 87/400 C:\\Users\\Vaibhav\\Downloads\\HackWithDelhi2.0\\data\\test\\images\\000000086.png: 384x640 1 ToolBox, 39.7ms\n",
      "image 88/400 C:\\Users\\Vaibhav\\Downloads\\HackWithDelhi2.0\\data\\test\\images\\000000087.png: 384x640 1 FireExtinguisher, 2 ToolBoxs, 1 OxygenTank, 39.4ms\n",
      "image 89/400 C:\\Users\\Vaibhav\\Downloads\\HackWithDelhi2.0\\data\\test\\images\\000000088.png: 384x640 1 FireExtinguisher, 39.5ms\n",
      "image 90/400 C:\\Users\\Vaibhav\\Downloads\\HackWithDelhi2.0\\data\\test\\images\\000000089.png: 384x640 2 FireExtinguishers, 1 ToolBox, 39.4ms\n",
      "image 91/400 C:\\Users\\Vaibhav\\Downloads\\HackWithDelhi2.0\\data\\test\\images\\000000090.png: 384x640 1 ToolBox, 39.4ms\n",
      "image 92/400 C:\\Users\\Vaibhav\\Downloads\\HackWithDelhi2.0\\data\\test\\images\\000000091.png: 384x640 1 FireExtinguisher, 39.1ms\n",
      "image 93/400 C:\\Users\\Vaibhav\\Downloads\\HackWithDelhi2.0\\data\\test\\images\\000000092.png: 384x640 1 FireExtinguisher, 39.1ms\n",
      "image 94/400 C:\\Users\\Vaibhav\\Downloads\\HackWithDelhi2.0\\data\\test\\images\\000000093.png: 384x640 1 ToolBox, 38.8ms\n",
      "image 95/400 C:\\Users\\Vaibhav\\Downloads\\HackWithDelhi2.0\\data\\test\\images\\000000094.png: 384x640 1 FireExtinguisher, 38.8ms\n",
      "image 96/400 C:\\Users\\Vaibhav\\Downloads\\HackWithDelhi2.0\\data\\test\\images\\000000095.png: 384x640 1 OxygenTank, 38.9ms\n",
      "image 97/400 C:\\Users\\Vaibhav\\Downloads\\HackWithDelhi2.0\\data\\test\\images\\000000096.png: 384x640 1 OxygenTank, 38.7ms\n",
      "image 98/400 C:\\Users\\Vaibhav\\Downloads\\HackWithDelhi2.0\\data\\test\\images\\000000097.png: 384x640 1 ToolBox, 38.8ms\n",
      "image 99/400 C:\\Users\\Vaibhav\\Downloads\\HackWithDelhi2.0\\data\\test\\images\\000000098.png: 384x640 1 FireExtinguisher, 38.8ms\n",
      "image 100/400 C:\\Users\\Vaibhav\\Downloads\\HackWithDelhi2.0\\data\\test\\images\\000000099.png: 384x640 1 FireExtinguisher, 1 ToolBox, 38.8ms\n",
      "image 101/400 C:\\Users\\Vaibhav\\Downloads\\HackWithDelhi2.0\\data\\test\\images\\000000100.png: 384x640 1 OxygenTank, 38.5ms\n",
      "image 102/400 C:\\Users\\Vaibhav\\Downloads\\HackWithDelhi2.0\\data\\test\\images\\000000101.png: 384x640 1 FireExtinguisher, 1 ToolBox, 38.5ms\n",
      "image 103/400 C:\\Users\\Vaibhav\\Downloads\\HackWithDelhi2.0\\data\\test\\images\\000000102.png: 384x640 1 FireExtinguisher, 38.4ms\n",
      "image 104/400 C:\\Users\\Vaibhav\\Downloads\\HackWithDelhi2.0\\data\\test\\images\\000000103.png: 384x640 1 ToolBox, 38.4ms\n",
      "image 105/400 C:\\Users\\Vaibhav\\Downloads\\HackWithDelhi2.0\\data\\test\\images\\000000104.png: 384x640 1 FireExtinguisher, 38.5ms\n",
      "image 106/400 C:\\Users\\Vaibhav\\Downloads\\HackWithDelhi2.0\\data\\test\\images\\000000105.png: 384x640 1 ToolBox, 38.5ms\n",
      "image 107/400 C:\\Users\\Vaibhav\\Downloads\\HackWithDelhi2.0\\data\\test\\images\\000000106.png: 384x640 1 ToolBox, 38.4ms\n",
      "image 108/400 C:\\Users\\Vaibhav\\Downloads\\HackWithDelhi2.0\\data\\test\\images\\000000107.png: 384x640 1 OxygenTank, 38.5ms\n",
      "image 109/400 C:\\Users\\Vaibhav\\Downloads\\HackWithDelhi2.0\\data\\test\\images\\000000108.png: 384x640 1 ToolBox, 38.5ms\n",
      "image 110/400 C:\\Users\\Vaibhav\\Downloads\\HackWithDelhi2.0\\data\\test\\images\\000000109.png: 384x640 1 FireExtinguisher, 38.5ms\n",
      "image 111/400 C:\\Users\\Vaibhav\\Downloads\\HackWithDelhi2.0\\data\\test\\images\\000000110.png: 384x640 1 OxygenTank, 38.5ms\n",
      "image 112/400 C:\\Users\\Vaibhav\\Downloads\\HackWithDelhi2.0\\data\\test\\images\\000000111.png: 384x640 1 OxygenTank, 38.7ms\n",
      "image 113/400 C:\\Users\\Vaibhav\\Downloads\\HackWithDelhi2.0\\data\\test\\images\\000000112.png: 384x640 (no detections), 38.5ms\n",
      "image 114/400 C:\\Users\\Vaibhav\\Downloads\\HackWithDelhi2.0\\data\\test\\images\\000000113.png: 384x640 1 FireExtinguisher, 38.4ms\n",
      "image 115/400 C:\\Users\\Vaibhav\\Downloads\\HackWithDelhi2.0\\data\\test\\images\\000000114.png: 384x640 1 ToolBox, 38.5ms\n",
      "image 116/400 C:\\Users\\Vaibhav\\Downloads\\HackWithDelhi2.0\\data\\test\\images\\000000115.png: 384x640 1 ToolBox, 39.5ms\n",
      "image 117/400 C:\\Users\\Vaibhav\\Downloads\\HackWithDelhi2.0\\data\\test\\images\\000000116.png: 384x640 1 OxygenTank, 40.1ms\n",
      "image 118/400 C:\\Users\\Vaibhav\\Downloads\\HackWithDelhi2.0\\data\\test\\images\\000000117.png: 384x640 1 ToolBox, 40.2ms\n",
      "image 119/400 C:\\Users\\Vaibhav\\Downloads\\HackWithDelhi2.0\\data\\test\\images\\000000118.png: 384x640 1 OxygenTank, 39.4ms\n",
      "image 120/400 C:\\Users\\Vaibhav\\Downloads\\HackWithDelhi2.0\\data\\test\\images\\000000119.png: 384x640 1 ToolBox, 39.5ms\n",
      "image 121/400 C:\\Users\\Vaibhav\\Downloads\\HackWithDelhi2.0\\data\\test\\images\\000000120.png: 384x640 1 ToolBox, 1 OxygenTank, 39.5ms\n",
      "image 122/400 C:\\Users\\Vaibhav\\Downloads\\HackWithDelhi2.0\\data\\test\\images\\000000121.png: 384x640 1 FireExtinguisher, 39.4ms\n",
      "image 123/400 C:\\Users\\Vaibhav\\Downloads\\HackWithDelhi2.0\\data\\test\\images\\000000122.png: 384x640 1 FireExtinguisher, 1 ToolBox, 39.5ms\n",
      "image 124/400 C:\\Users\\Vaibhav\\Downloads\\HackWithDelhi2.0\\data\\test\\images\\000000123.png: 384x640 1 OxygenTank, 39.5ms\n",
      "image 125/400 C:\\Users\\Vaibhav\\Downloads\\HackWithDelhi2.0\\data\\test\\images\\000000124.png: 384x640 1 FireExtinguisher, 1 ToolBox, 39.7ms\n",
      "image 126/400 C:\\Users\\Vaibhav\\Downloads\\HackWithDelhi2.0\\data\\test\\images\\000000125.png: 384x640 1 OxygenTank, 39.6ms\n",
      "image 127/400 C:\\Users\\Vaibhav\\Downloads\\HackWithDelhi2.0\\data\\test\\images\\000000126.png: 384x640 1 ToolBox, 39.5ms\n",
      "image 128/400 C:\\Users\\Vaibhav\\Downloads\\HackWithDelhi2.0\\data\\test\\images\\000000127.png: 384x640 1 FireExtinguisher, 1 OxygenTank, 39.5ms\n",
      "image 129/400 C:\\Users\\Vaibhav\\Downloads\\HackWithDelhi2.0\\data\\test\\images\\000000128.png: 384x640 1 FireExtinguisher, 1 ToolBox, 1 OxygenTank, 39.1ms\n",
      "image 130/400 C:\\Users\\Vaibhav\\Downloads\\HackWithDelhi2.0\\data\\test\\images\\000000129.png: 384x640 1 FireExtinguisher, 39.2ms\n",
      "image 131/400 C:\\Users\\Vaibhav\\Downloads\\HackWithDelhi2.0\\data\\test\\images\\000000130.png: 384x640 1 FireExtinguisher, 1 OxygenTank, 39.3ms\n",
      "image 132/400 C:\\Users\\Vaibhav\\Downloads\\HackWithDelhi2.0\\data\\test\\images\\000000131.png: 384x640 1 FireExtinguisher, 39.1ms\n",
      "image 133/400 C:\\Users\\Vaibhav\\Downloads\\HackWithDelhi2.0\\data\\test\\images\\000000132.png: 384x640 1 ToolBox, 39.2ms\n",
      "image 134/400 C:\\Users\\Vaibhav\\Downloads\\HackWithDelhi2.0\\data\\test\\images\\000000133.png: 384x640 1 FireExtinguisher, 1 OxygenTank, 39.2ms\n",
      "image 135/400 C:\\Users\\Vaibhav\\Downloads\\HackWithDelhi2.0\\data\\test\\images\\000000134.png: 384x640 1 ToolBox, 39.1ms\n",
      "image 136/400 C:\\Users\\Vaibhav\\Downloads\\HackWithDelhi2.0\\data\\test\\images\\000000135.png: 384x640 1 FireExtinguisher, 1 ToolBox, 39.2ms\n",
      "image 137/400 C:\\Users\\Vaibhav\\Downloads\\HackWithDelhi2.0\\data\\test\\images\\000000136.png: 384x640 1 ToolBox, 1 OxygenTank, 39.1ms\n",
      "image 138/400 C:\\Users\\Vaibhav\\Downloads\\HackWithDelhi2.0\\data\\test\\images\\000000137.png: 384x640 1 OxygenTank, 39.3ms\n",
      "image 139/400 C:\\Users\\Vaibhav\\Downloads\\HackWithDelhi2.0\\data\\test\\images\\000000138.png: 384x640 1 ToolBox, 39.1ms\n",
      "image 140/400 C:\\Users\\Vaibhav\\Downloads\\HackWithDelhi2.0\\data\\test\\images\\000000139.png: 384x640 1 FireExtinguisher, 1 ToolBox, 1 OxygenTank, 38.9ms\n",
      "image 141/400 C:\\Users\\Vaibhav\\Downloads\\HackWithDelhi2.0\\data\\test\\images\\000000140.png: 384x640 1 ToolBox, 38.7ms\n",
      "image 142/400 C:\\Users\\Vaibhav\\Downloads\\HackWithDelhi2.0\\data\\test\\images\\000000141.png: 384x640 1 FireExtinguisher, 1 OxygenTank, 38.9ms\n",
      "image 143/400 C:\\Users\\Vaibhav\\Downloads\\HackWithDelhi2.0\\data\\test\\images\\000000142.png: 384x640 1 ToolBox, 1 OxygenTank, 38.4ms\n",
      "image 144/400 C:\\Users\\Vaibhav\\Downloads\\HackWithDelhi2.0\\data\\test\\images\\000000143.png: 384x640 1 FireExtinguisher, 38.4ms\n",
      "image 145/400 C:\\Users\\Vaibhav\\Downloads\\HackWithDelhi2.0\\data\\test\\images\\000000144.png: 384x640 1 FireExtinguisher, 38.5ms\n",
      "image 146/400 C:\\Users\\Vaibhav\\Downloads\\HackWithDelhi2.0\\data\\test\\images\\000000145.png: 384x640 1 FireExtinguisher, 38.5ms\n",
      "image 147/400 C:\\Users\\Vaibhav\\Downloads\\HackWithDelhi2.0\\data\\test\\images\\000000146.png: 384x640 1 ToolBox, 38.6ms\n",
      "image 148/400 C:\\Users\\Vaibhav\\Downloads\\HackWithDelhi2.0\\data\\test\\images\\000000147.png: 384x640 1 OxygenTank, 38.5ms\n",
      "image 149/400 C:\\Users\\Vaibhav\\Downloads\\HackWithDelhi2.0\\data\\test\\images\\000000148.png: 384x640 1 ToolBox, 1 OxygenTank, 38.5ms\n",
      "image 150/400 C:\\Users\\Vaibhav\\Downloads\\HackWithDelhi2.0\\data\\test\\images\\000000149.png: 384x640 1 FireExtinguisher, 38.5ms\n",
      "image 151/400 C:\\Users\\Vaibhav\\Downloads\\HackWithDelhi2.0\\data\\test\\images\\000000150.png: 384x640 1 FireExtinguisher, 1 OxygenTank, 38.6ms\n",
      "image 152/400 C:\\Users\\Vaibhav\\Downloads\\HackWithDelhi2.0\\data\\test\\images\\000000151.png: 384x640 1 OxygenTank, 38.6ms\n",
      "image 153/400 C:\\Users\\Vaibhav\\Downloads\\HackWithDelhi2.0\\data\\test\\images\\000000152.png: 384x640 1 FireExtinguisher, 38.6ms\n",
      "image 154/400 C:\\Users\\Vaibhav\\Downloads\\HackWithDelhi2.0\\data\\test\\images\\000000153.png: 384x640 1 OxygenTank, 38.4ms\n",
      "image 155/400 C:\\Users\\Vaibhav\\Downloads\\HackWithDelhi2.0\\data\\test\\images\\000000154.png: 384x640 1 ToolBox, 38.6ms\n",
      "image 156/400 C:\\Users\\Vaibhav\\Downloads\\HackWithDelhi2.0\\data\\test\\images\\000000155.png: 384x640 1 OxygenTank, 38.3ms\n",
      "image 157/400 C:\\Users\\Vaibhav\\Downloads\\HackWithDelhi2.0\\data\\test\\images\\000000156.png: 384x640 1 ToolBox, 38.8ms\n",
      "image 158/400 C:\\Users\\Vaibhav\\Downloads\\HackWithDelhi2.0\\data\\test\\images\\000000157.png: 384x640 1 FireExtinguisher, 39.2ms\n",
      "image 159/400 C:\\Users\\Vaibhav\\Downloads\\HackWithDelhi2.0\\data\\test\\images\\000000158.png: 384x640 1 OxygenTank, 39.1ms\n",
      "image 160/400 C:\\Users\\Vaibhav\\Downloads\\HackWithDelhi2.0\\data\\test\\images\\000000159.png: 384x640 1 FireExtinguisher, 38.8ms\n",
      "image 161/400 C:\\Users\\Vaibhav\\Downloads\\HackWithDelhi2.0\\data\\test\\images\\000000160.png: 384x640 2 OxygenTanks, 38.7ms\n",
      "image 162/400 C:\\Users\\Vaibhav\\Downloads\\HackWithDelhi2.0\\data\\test\\images\\000000161.png: 384x640 1 FireExtinguisher, 38.7ms\n",
      "image 163/400 C:\\Users\\Vaibhav\\Downloads\\HackWithDelhi2.0\\data\\test\\images\\000000162.png: 384x640 1 ToolBox, 38.8ms\n",
      "image 164/400 C:\\Users\\Vaibhav\\Downloads\\HackWithDelhi2.0\\data\\test\\images\\000000163.png: 384x640 1 FireExtinguisher, 38.7ms\n",
      "image 165/400 C:\\Users\\Vaibhav\\Downloads\\HackWithDelhi2.0\\data\\test\\images\\000000164.png: 384x640 1 FireExtinguisher, 1 OxygenTank, 39.0ms\n",
      "image 166/400 C:\\Users\\Vaibhav\\Downloads\\HackWithDelhi2.0\\data\\test\\images\\000000165.png: 384x640 1 FireExtinguisher, 1 OxygenTank, 38.8ms\n",
      "image 167/400 C:\\Users\\Vaibhav\\Downloads\\HackWithDelhi2.0\\data\\test\\images\\000000166.png: 384x640 1 ToolBox, 38.9ms\n",
      "image 168/400 C:\\Users\\Vaibhav\\Downloads\\HackWithDelhi2.0\\data\\test\\images\\000000167.png: 384x640 1 OxygenTank, 38.8ms\n",
      "image 169/400 C:\\Users\\Vaibhav\\Downloads\\HackWithDelhi2.0\\data\\test\\images\\000000168.png: 384x640 1 ToolBox, 39.0ms\n",
      "image 170/400 C:\\Users\\Vaibhav\\Downloads\\HackWithDelhi2.0\\data\\test\\images\\000000169.png: 384x640 1 ToolBox, 38.5ms\n",
      "image 171/400 C:\\Users\\Vaibhav\\Downloads\\HackWithDelhi2.0\\data\\test\\images\\000000170.png: 384x640 1 FireExtinguisher, 38.5ms\n",
      "image 172/400 C:\\Users\\Vaibhav\\Downloads\\HackWithDelhi2.0\\data\\test\\images\\000000171.png: 384x640 1 ToolBox, 38.5ms\n",
      "image 173/400 C:\\Users\\Vaibhav\\Downloads\\HackWithDelhi2.0\\data\\test\\images\\000000172.png: 384x640 1 FireExtinguisher, 38.6ms\n",
      "image 174/400 C:\\Users\\Vaibhav\\Downloads\\HackWithDelhi2.0\\data\\test\\images\\000000173.png: 384x640 1 ToolBox, 38.5ms\n",
      "image 175/400 C:\\Users\\Vaibhav\\Downloads\\HackWithDelhi2.0\\data\\test\\images\\000000174.png: 384x640 1 ToolBox, 38.4ms\n",
      "image 176/400 C:\\Users\\Vaibhav\\Downloads\\HackWithDelhi2.0\\data\\test\\images\\000000175.png: 384x640 1 ToolBox, 38.5ms\n",
      "image 177/400 C:\\Users\\Vaibhav\\Downloads\\HackWithDelhi2.0\\data\\test\\images\\000000176.png: 384x640 1 OxygenTank, 38.5ms\n",
      "image 178/400 C:\\Users\\Vaibhav\\Downloads\\HackWithDelhi2.0\\data\\test\\images\\000000177.png: 384x640 1 FireExtinguisher, 38.5ms\n",
      "image 179/400 C:\\Users\\Vaibhav\\Downloads\\HackWithDelhi2.0\\data\\test\\images\\000000178.png: 384x640 1 ToolBox, 38.3ms\n",
      "image 180/400 C:\\Users\\Vaibhav\\Downloads\\HackWithDelhi2.0\\data\\test\\images\\000000179.png: 384x640 1 FireExtinguisher, 38.5ms\n",
      "image 181/400 C:\\Users\\Vaibhav\\Downloads\\HackWithDelhi2.0\\data\\test\\images\\000000180.png: 384x640 1 ToolBox, 1 OxygenTank, 38.5ms\n",
      "image 182/400 C:\\Users\\Vaibhav\\Downloads\\HackWithDelhi2.0\\data\\test\\images\\000000181.png: 384x640 1 FireExtinguisher, 38.5ms\n",
      "image 183/400 C:\\Users\\Vaibhav\\Downloads\\HackWithDelhi2.0\\data\\test\\images\\000000182.png: 384x640 1 OxygenTank, 38.5ms\n",
      "image 184/400 C:\\Users\\Vaibhav\\Downloads\\HackWithDelhi2.0\\data\\test\\images\\000000183.png: 384x640 1 FireExtinguisher, 38.4ms\n",
      "image 185/400 C:\\Users\\Vaibhav\\Downloads\\HackWithDelhi2.0\\data\\test\\images\\000000184.png: 384x640 1 OxygenTank, 38.5ms\n",
      "image 186/400 C:\\Users\\Vaibhav\\Downloads\\HackWithDelhi2.0\\data\\test\\images\\000000185.png: 384x640 1 OxygenTank, 38.5ms\n",
      "image 187/400 C:\\Users\\Vaibhav\\Downloads\\HackWithDelhi2.0\\data\\test\\images\\000000186.png: 384x640 1 FireExtinguisher, 1 ToolBox, 38.4ms\n",
      "image 188/400 C:\\Users\\Vaibhav\\Downloads\\HackWithDelhi2.0\\data\\test\\images\\000000187.png: 384x640 1 FireExtinguisher, 1 ToolBox, 38.7ms\n",
      "image 189/400 C:\\Users\\Vaibhav\\Downloads\\HackWithDelhi2.0\\data\\test\\images\\000000188.png: 384x640 1 FireExtinguisher, 1 ToolBox, 39.2ms\n",
      "image 190/400 C:\\Users\\Vaibhav\\Downloads\\HackWithDelhi2.0\\data\\test\\images\\000000189.png: 384x640 1 FireExtinguisher, 39.1ms\n",
      "image 191/400 C:\\Users\\Vaibhav\\Downloads\\HackWithDelhi2.0\\data\\test\\images\\000000190.png: 384x640 1 ToolBox, 39.1ms\n",
      "image 192/400 C:\\Users\\Vaibhav\\Downloads\\HackWithDelhi2.0\\data\\test\\images\\000000191.png: 384x640 1 ToolBox, 1 OxygenTank, 38.7ms\n",
      "image 193/400 C:\\Users\\Vaibhav\\Downloads\\HackWithDelhi2.0\\data\\test\\images\\000000192.png: 384x640 1 ToolBox, 38.7ms\n",
      "image 194/400 C:\\Users\\Vaibhav\\Downloads\\HackWithDelhi2.0\\data\\test\\images\\000000193.png: 384x640 1 ToolBox, 1 OxygenTank, 38.7ms\n",
      "image 195/400 C:\\Users\\Vaibhav\\Downloads\\HackWithDelhi2.0\\data\\test\\images\\000000194.png: 384x640 1 FireExtinguisher, 1 ToolBox, 1 OxygenTank, 38.9ms\n",
      "image 196/400 C:\\Users\\Vaibhav\\Downloads\\HackWithDelhi2.0\\data\\test\\images\\000000195.png: 384x640 1 ToolBox, 38.8ms\n",
      "image 197/400 C:\\Users\\Vaibhav\\Downloads\\HackWithDelhi2.0\\data\\test\\images\\000000196.png: 384x640 1 FireExtinguisher, 38.7ms\n",
      "image 198/400 C:\\Users\\Vaibhav\\Downloads\\HackWithDelhi2.0\\data\\test\\images\\000000197.png: 384x640 1 FireExtinguisher, 38.8ms\n",
      "image 199/400 C:\\Users\\Vaibhav\\Downloads\\HackWithDelhi2.0\\data\\test\\images\\000000198.png: 384x640 1 OxygenTank, 38.9ms\n",
      "image 200/400 C:\\Users\\Vaibhav\\Downloads\\HackWithDelhi2.0\\data\\test\\images\\000000199.png: 384x640 1 ToolBox, 38.9ms\n",
      "image 201/400 C:\\Users\\Vaibhav\\Downloads\\HackWithDelhi2.0\\data\\test\\images\\000000200.png: 384x640 1 FireExtinguisher, 38.9ms\n",
      "image 202/400 C:\\Users\\Vaibhav\\Downloads\\HackWithDelhi2.0\\data\\test\\images\\000000201.png: 384x640 1 ToolBox, 39.0ms\n",
      "image 203/400 C:\\Users\\Vaibhav\\Downloads\\HackWithDelhi2.0\\data\\test\\images\\000000202.png: 384x640 1 ToolBox, 1 OxygenTank, 38.8ms\n",
      "image 204/400 C:\\Users\\Vaibhav\\Downloads\\HackWithDelhi2.0\\data\\test\\images\\000000203.png: 384x640 1 FireExtinguisher, 38.4ms\n",
      "image 205/400 C:\\Users\\Vaibhav\\Downloads\\HackWithDelhi2.0\\data\\test\\images\\000000204.png: 384x640 1 FireExtinguisher, 1 ToolBox, 38.6ms\n",
      "image 206/400 C:\\Users\\Vaibhav\\Downloads\\HackWithDelhi2.0\\data\\test\\images\\000000205.png: 384x640 1 ToolBox, 1 OxygenTank, 38.5ms\n",
      "image 207/400 C:\\Users\\Vaibhav\\Downloads\\HackWithDelhi2.0\\data\\test\\images\\000000206.png: 384x640 1 FireExtinguisher, 38.3ms\n",
      "image 208/400 C:\\Users\\Vaibhav\\Downloads\\HackWithDelhi2.0\\data\\test\\images\\000000207.png: 384x640 1 FireExtinguisher, 38.1ms\n",
      "image 209/400 C:\\Users\\Vaibhav\\Downloads\\HackWithDelhi2.0\\data\\test\\images\\000000208.png: 384x640 1 ToolBox, 1 OxygenTank, 38.2ms\n",
      "image 210/400 C:\\Users\\Vaibhav\\Downloads\\HackWithDelhi2.0\\data\\test\\images\\000000209.png: 384x640 1 FireExtinguisher, 38.2ms\n",
      "image 211/400 C:\\Users\\Vaibhav\\Downloads\\HackWithDelhi2.0\\data\\test\\images\\000000210.png: 384x640 1 FireExtinguisher, 38.3ms\n",
      "image 212/400 C:\\Users\\Vaibhav\\Downloads\\HackWithDelhi2.0\\data\\test\\images\\000000211.png: 384x640 1 FireExtinguisher, 38.1ms\n",
      "image 213/400 C:\\Users\\Vaibhav\\Downloads\\HackWithDelhi2.0\\data\\test\\images\\000000212.png: 384x640 1 FireExtinguisher, 38.1ms\n",
      "image 214/400 C:\\Users\\Vaibhav\\Downloads\\HackWithDelhi2.0\\data\\test\\images\\000000213.png: 384x640 1 ToolBox, 38.0ms\n",
      "image 215/400 C:\\Users\\Vaibhav\\Downloads\\HackWithDelhi2.0\\data\\test\\images\\1000000000.png: 384x640 1 FireExtinguisher, 1 ToolBox, 1 OxygenTank, 38.1ms\n",
      "image 216/400 C:\\Users\\Vaibhav\\Downloads\\HackWithDelhi2.0\\data\\test\\images\\1000000001.png: 384x640 1 FireExtinguisher, 1 ToolBox, 38.2ms\n",
      "image 217/400 C:\\Users\\Vaibhav\\Downloads\\HackWithDelhi2.0\\data\\test\\images\\1000000002.png: 384x640 1 FireExtinguisher, 1 ToolBox, 38.4ms\n",
      "image 218/400 C:\\Users\\Vaibhav\\Downloads\\HackWithDelhi2.0\\data\\test\\images\\1000000003.png: 384x640 1 FireExtinguisher, 1 OxygenTank, 38.1ms\n",
      "image 219/400 C:\\Users\\Vaibhav\\Downloads\\HackWithDelhi2.0\\data\\test\\images\\1000000004.png: 384x640 1 ToolBox, 38.2ms\n",
      "image 220/400 C:\\Users\\Vaibhav\\Downloads\\HackWithDelhi2.0\\data\\test\\images\\1000000005.png: 384x640 1 FireExtinguisher, 38.2ms\n",
      "image 221/400 C:\\Users\\Vaibhav\\Downloads\\HackWithDelhi2.0\\data\\test\\images\\1000000006.png: 384x640 1 FireExtinguisher, 1 ToolBox, 38.4ms\n",
      "image 222/400 C:\\Users\\Vaibhav\\Downloads\\HackWithDelhi2.0\\data\\test\\images\\1000000007.png: 384x640 1 ToolBox, 1 OxygenTank, 38.0ms\n",
      "image 223/400 C:\\Users\\Vaibhav\\Downloads\\HackWithDelhi2.0\\data\\test\\images\\1000000008.png: 384x640 1 ToolBox, 1 OxygenTank, 38.1ms\n",
      "image 224/400 C:\\Users\\Vaibhav\\Downloads\\HackWithDelhi2.0\\data\\test\\images\\1000000009.png: 384x640 1 FireExtinguisher, 2 OxygenTanks, 38.2ms\n",
      "image 225/400 C:\\Users\\Vaibhav\\Downloads\\HackWithDelhi2.0\\data\\test\\images\\1000000010.png: 384x640 (no detections), 39.2ms\n",
      "image 226/400 C:\\Users\\Vaibhav\\Downloads\\HackWithDelhi2.0\\data\\test\\images\\1000000011.png: 384x640 (no detections), 39.0ms\n",
      "image 227/400 C:\\Users\\Vaibhav\\Downloads\\HackWithDelhi2.0\\data\\test\\images\\1000000012.png: 384x640 1 FireExtinguisher, 1 OxygenTank, 39.4ms\n",
      "image 228/400 C:\\Users\\Vaibhav\\Downloads\\HackWithDelhi2.0\\data\\test\\images\\1000000013.png: 384x640 1 FireExtinguisher, 39.1ms\n",
      "image 229/400 C:\\Users\\Vaibhav\\Downloads\\HackWithDelhi2.0\\data\\test\\images\\1000000014.png: 384x640 1 ToolBox, 38.9ms\n",
      "image 230/400 C:\\Users\\Vaibhav\\Downloads\\HackWithDelhi2.0\\data\\test\\images\\1000000015.png: 384x640 1 FireExtinguisher, 39.0ms\n",
      "image 231/400 C:\\Users\\Vaibhav\\Downloads\\HackWithDelhi2.0\\data\\test\\images\\1000000016.png: 384x640 1 OxygenTank, 38.8ms\n",
      "image 232/400 C:\\Users\\Vaibhav\\Downloads\\HackWithDelhi2.0\\data\\test\\images\\1000000017.png: 384x640 1 FireExtinguisher, 1 OxygenTank, 38.9ms\n",
      "image 233/400 C:\\Users\\Vaibhav\\Downloads\\HackWithDelhi2.0\\data\\test\\images\\1000000018.png: 384x640 1 FireExtinguisher, 1 OxygenTank, 38.9ms\n",
      "image 234/400 C:\\Users\\Vaibhav\\Downloads\\HackWithDelhi2.0\\data\\test\\images\\1000000019.png: 384x640 1 ToolBox, 38.8ms\n",
      "image 235/400 C:\\Users\\Vaibhav\\Downloads\\HackWithDelhi2.0\\data\\test\\images\\1000000020.png: 384x640 2 FireExtinguishers, 1 OxygenTank, 38.7ms\n",
      "image 236/400 C:\\Users\\Vaibhav\\Downloads\\HackWithDelhi2.0\\data\\test\\images\\1000000021.png: 384x640 2 FireExtinguishers, 38.8ms\n",
      "image 237/400 C:\\Users\\Vaibhav\\Downloads\\HackWithDelhi2.0\\data\\test\\images\\1000000022.png: 384x640 1 ToolBox, 1 OxygenTank, 38.5ms\n",
      "image 238/400 C:\\Users\\Vaibhav\\Downloads\\HackWithDelhi2.0\\data\\test\\images\\1000000023.png: 384x640 1 FireExtinguisher, 1 ToolBox, 38.6ms\n",
      "image 239/400 C:\\Users\\Vaibhav\\Downloads\\HackWithDelhi2.0\\data\\test\\images\\1000000024.png: 384x640 1 ToolBox, 1 OxygenTank, 38.4ms\n",
      "image 240/400 C:\\Users\\Vaibhav\\Downloads\\HackWithDelhi2.0\\data\\test\\images\\1000000025.png: 384x640 1 FireExtinguisher, 1 ToolBox, 38.6ms\n",
      "image 241/400 C:\\Users\\Vaibhav\\Downloads\\HackWithDelhi2.0\\data\\test\\images\\1000000026.png: 384x640 1 FireExtinguisher, 38.5ms\n",
      "image 242/400 C:\\Users\\Vaibhav\\Downloads\\HackWithDelhi2.0\\data\\test\\images\\1000000027.png: 384x640 1 FireExtinguisher, 38.4ms\n",
      "image 243/400 C:\\Users\\Vaibhav\\Downloads\\HackWithDelhi2.0\\data\\test\\images\\1000000028.png: 384x640 1 ToolBox, 38.4ms\n",
      "image 244/400 C:\\Users\\Vaibhav\\Downloads\\HackWithDelhi2.0\\data\\test\\images\\1000000029.png: 384x640 1 FireExtinguisher, 1 OxygenTank, 38.5ms\n",
      "image 245/400 C:\\Users\\Vaibhav\\Downloads\\HackWithDelhi2.0\\data\\test\\images\\1000000030.png: 384x640 1 OxygenTank, 38.4ms\n",
      "image 246/400 C:\\Users\\Vaibhav\\Downloads\\HackWithDelhi2.0\\data\\test\\images\\1000000031.png: 384x640 (no detections), 38.4ms\n",
      "image 247/400 C:\\Users\\Vaibhav\\Downloads\\HackWithDelhi2.0\\data\\test\\images\\1000000032.png: 384x640 1 OxygenTank, 38.4ms\n",
      "image 248/400 C:\\Users\\Vaibhav\\Downloads\\HackWithDelhi2.0\\data\\test\\images\\1000000033.png: 384x640 2 FireExtinguishers, 38.5ms\n",
      "image 249/400 C:\\Users\\Vaibhav\\Downloads\\HackWithDelhi2.0\\data\\test\\images\\1000000034.png: 384x640 1 OxygenTank, 38.6ms\n",
      "image 250/400 C:\\Users\\Vaibhav\\Downloads\\HackWithDelhi2.0\\data\\test\\images\\1000000035.png: 384x640 2 FireExtinguishers, 38.6ms\n",
      "image 251/400 C:\\Users\\Vaibhav\\Downloads\\HackWithDelhi2.0\\data\\test\\images\\1000000036.png: 384x640 1 OxygenTank, 39.4ms\n",
      "image 252/400 C:\\Users\\Vaibhav\\Downloads\\HackWithDelhi2.0\\data\\test\\images\\1000000037.png: 384x640 (no detections), 39.4ms\n",
      "image 253/400 C:\\Users\\Vaibhav\\Downloads\\HackWithDelhi2.0\\data\\test\\images\\1000000038.png: 384x640 2 FireExtinguishers, 1 ToolBox, 1 OxygenTank, 39.1ms\n",
      "image 254/400 C:\\Users\\Vaibhav\\Downloads\\HackWithDelhi2.0\\data\\test\\images\\1000000039.png: 384x640 1 FireExtinguisher, 39.2ms\n",
      "image 255/400 C:\\Users\\Vaibhav\\Downloads\\HackWithDelhi2.0\\data\\test\\images\\1000000040.png: 384x640 1 ToolBox, 39.1ms\n",
      "image 256/400 C:\\Users\\Vaibhav\\Downloads\\HackWithDelhi2.0\\data\\test\\images\\1000000041.png: 384x640 1 ToolBox, 2 OxygenTanks, 39.1ms\n",
      "image 257/400 C:\\Users\\Vaibhav\\Downloads\\HackWithDelhi2.0\\data\\test\\images\\1000000042.png: 384x640 2 FireExtinguishers, 1 ToolBox, 3 OxygenTanks, 39.2ms\n",
      "image 258/400 C:\\Users\\Vaibhav\\Downloads\\HackWithDelhi2.0\\data\\test\\images\\1000000043.png: 384x640 1 FireExtinguisher, 39.1ms\n",
      "image 259/400 C:\\Users\\Vaibhav\\Downloads\\HackWithDelhi2.0\\data\\test\\images\\1000000044.png: 384x640 1 FireExtinguisher, 1 OxygenTank, 39.1ms\n",
      "image 260/400 C:\\Users\\Vaibhav\\Downloads\\HackWithDelhi2.0\\data\\test\\images\\1000000045.png: 384x640 2 FireExtinguishers, 2 OxygenTanks, 39.2ms\n",
      "image 261/400 C:\\Users\\Vaibhav\\Downloads\\HackWithDelhi2.0\\data\\test\\images\\1000000046.png: 384x640 1 FireExtinguisher, 1 ToolBox, 38.8ms\n",
      "image 262/400 C:\\Users\\Vaibhav\\Downloads\\HackWithDelhi2.0\\data\\test\\images\\1000000047.png: 384x640 1 ToolBox, 38.8ms\n",
      "image 263/400 C:\\Users\\Vaibhav\\Downloads\\HackWithDelhi2.0\\data\\test\\images\\1000000048.png: 384x640 2 ToolBoxs, 38.8ms\n",
      "image 264/400 C:\\Users\\Vaibhav\\Downloads\\HackWithDelhi2.0\\data\\test\\images\\1000000049.png: 384x640 1 ToolBox, 38.4ms\n",
      "image 265/400 C:\\Users\\Vaibhav\\Downloads\\HackWithDelhi2.0\\data\\test\\images\\1000000050.png: 384x640 1 ToolBox, 38.8ms\n",
      "image 266/400 C:\\Users\\Vaibhav\\Downloads\\HackWithDelhi2.0\\data\\test\\images\\1000000051.png: 384x640 1 OxygenTank, 38.5ms\n",
      "image 267/400 C:\\Users\\Vaibhav\\Downloads\\HackWithDelhi2.0\\data\\test\\images\\1000000053.png: 384x640 1 OxygenTank, 38.5ms\n",
      "image 268/400 C:\\Users\\Vaibhav\\Downloads\\HackWithDelhi2.0\\data\\test\\images\\1000000054.png: 384x640 (no detections), 38.5ms\n",
      "image 269/400 C:\\Users\\Vaibhav\\Downloads\\HackWithDelhi2.0\\data\\test\\images\\1000000055.png: 384x640 1 FireExtinguisher, 1 ToolBox, 38.6ms\n",
      "image 270/400 C:\\Users\\Vaibhav\\Downloads\\HackWithDelhi2.0\\data\\test\\images\\1000000056.png: 384x640 1 OxygenTank, 38.5ms\n",
      "image 271/400 C:\\Users\\Vaibhav\\Downloads\\HackWithDelhi2.0\\data\\test\\images\\1000000057.png: 384x640 1 FireExtinguisher, 1 ToolBox, 38.4ms\n",
      "image 272/400 C:\\Users\\Vaibhav\\Downloads\\HackWithDelhi2.0\\data\\test\\images\\1000000058.png: 384x640 1 FireExtinguisher, 1 ToolBox, 38.4ms\n",
      "image 273/400 C:\\Users\\Vaibhav\\Downloads\\HackWithDelhi2.0\\data\\test\\images\\1000000059.png: 384x640 1 FireExtinguisher, 1 ToolBox, 1 OxygenTank, 38.4ms\n",
      "image 274/400 C:\\Users\\Vaibhav\\Downloads\\HackWithDelhi2.0\\data\\test\\images\\1000000060.png: 384x640 1 FireExtinguisher, 1 ToolBox, 1 OxygenTank, 38.4ms\n",
      "image 275/400 C:\\Users\\Vaibhav\\Downloads\\HackWithDelhi2.0\\data\\test\\images\\1000000061.png: 384x640 1 ToolBox, 38.4ms\n",
      "image 276/400 C:\\Users\\Vaibhav\\Downloads\\HackWithDelhi2.0\\data\\test\\images\\1000000062.png: 384x640 2 FireExtinguishers, 1 ToolBox, 38.4ms\n",
      "image 277/400 C:\\Users\\Vaibhav\\Downloads\\HackWithDelhi2.0\\data\\test\\images\\1000000063.png: 384x640 1 ToolBox, 1 OxygenTank, 38.3ms\n",
      "image 278/400 C:\\Users\\Vaibhav\\Downloads\\HackWithDelhi2.0\\data\\test\\images\\1000000064.png: 384x640 1 FireExtinguisher, 38.2ms\n",
      "image 279/400 C:\\Users\\Vaibhav\\Downloads\\HackWithDelhi2.0\\data\\test\\images\\1000000065.png: 384x640 1 FireExtinguisher, 38.2ms\n",
      "image 280/400 C:\\Users\\Vaibhav\\Downloads\\HackWithDelhi2.0\\data\\test\\images\\1000000066.png: 384x640 2 FireExtinguishers, 1 ToolBox, 38.5ms\n",
      "image 281/400 C:\\Users\\Vaibhav\\Downloads\\HackWithDelhi2.0\\data\\test\\images\\1000000067.png: 384x640 1 OxygenTank, 38.2ms\n",
      "image 282/400 C:\\Users\\Vaibhav\\Downloads\\HackWithDelhi2.0\\data\\test\\images\\1000000068.png: 384x640 1 FireExtinguisher, 1 ToolBox, 1 OxygenTank, 38.2ms\n",
      "image 283/400 C:\\Users\\Vaibhav\\Downloads\\HackWithDelhi2.0\\data\\test\\images\\1000000069.png: 384x640 1 FireExtinguisher, 1 ToolBox, 38.2ms\n",
      "image 284/400 C:\\Users\\Vaibhav\\Downloads\\HackWithDelhi2.0\\data\\test\\images\\1000000070.png: 384x640 1 ToolBox, 45.0ms\n",
      "image 285/400 C:\\Users\\Vaibhav\\Downloads\\HackWithDelhi2.0\\data\\test\\images\\1000000071.png: 384x640 1 FireExtinguisher, 1 OxygenTank, 38.2ms\n",
      "image 286/400 C:\\Users\\Vaibhav\\Downloads\\HackWithDelhi2.0\\data\\test\\images\\1000000073.png: 384x640 1 FireExtinguisher, 1 OxygenTank, 38.2ms\n",
      "image 287/400 C:\\Users\\Vaibhav\\Downloads\\HackWithDelhi2.0\\data\\test\\images\\1000000074.png: 384x640 1 ToolBox, 38.2ms\n",
      "image 288/400 C:\\Users\\Vaibhav\\Downloads\\HackWithDelhi2.0\\data\\test\\images\\1000000075.png: 384x640 1 OxygenTank, 38.1ms\n",
      "image 289/400 C:\\Users\\Vaibhav\\Downloads\\HackWithDelhi2.0\\data\\test\\images\\1000000076.png: 384x640 1 FireExtinguisher, 40.1ms\n",
      "image 290/400 C:\\Users\\Vaibhav\\Downloads\\HackWithDelhi2.0\\data\\test\\images\\1000000077.png: 384x640 1 OxygenTank, 40.5ms\n",
      "image 291/400 C:\\Users\\Vaibhav\\Downloads\\HackWithDelhi2.0\\data\\test\\images\\1000000078.png: 384x640 1 FireExtinguisher, 1 ToolBox, 40.7ms\n",
      "image 292/400 C:\\Users\\Vaibhav\\Downloads\\HackWithDelhi2.0\\data\\test\\images\\1000000079.png: 384x640 1 ToolBox, 1 OxygenTank, 41.0ms\n",
      "image 293/400 C:\\Users\\Vaibhav\\Downloads\\HackWithDelhi2.0\\data\\test\\images\\1000000080.png: 384x640 1 FireExtinguisher, 41.3ms\n",
      "image 294/400 C:\\Users\\Vaibhav\\Downloads\\HackWithDelhi2.0\\data\\test\\images\\1000000081.png: 384x640 1 OxygenTank, 41.4ms\n",
      "image 295/400 C:\\Users\\Vaibhav\\Downloads\\HackWithDelhi2.0\\data\\test\\images\\1000000082.png: 384x640 2 FireExtinguishers, 1 ToolBox, 41.4ms\n",
      "image 296/400 C:\\Users\\Vaibhav\\Downloads\\HackWithDelhi2.0\\data\\test\\images\\2000000000.png: 384x640 1 FireExtinguisher, 41.6ms\n",
      "image 297/400 C:\\Users\\Vaibhav\\Downloads\\HackWithDelhi2.0\\data\\test\\images\\2000000001.png: 384x640 1 FireExtinguisher, 41.9ms\n",
      "image 298/400 C:\\Users\\Vaibhav\\Downloads\\HackWithDelhi2.0\\data\\test\\images\\2000000002.png: 384x640 1 FireExtinguisher, 42.4ms\n",
      "image 299/400 C:\\Users\\Vaibhav\\Downloads\\HackWithDelhi2.0\\data\\test\\images\\2000000003.png: 384x640 1 FireExtinguisher, 1 ToolBox, 42.6ms\n",
      "image 300/400 C:\\Users\\Vaibhav\\Downloads\\HackWithDelhi2.0\\data\\test\\images\\2000000004.png: 384x640 1 ToolBox, 43.0ms\n",
      "image 301/400 C:\\Users\\Vaibhav\\Downloads\\HackWithDelhi2.0\\data\\test\\images\\2000000005.png: 384x640 1 FireExtinguisher, 42.9ms\n",
      "image 302/400 C:\\Users\\Vaibhav\\Downloads\\HackWithDelhi2.0\\data\\test\\images\\2000000006.png: 384x640 1 FireExtinguisher, 42.8ms\n",
      "image 303/400 C:\\Users\\Vaibhav\\Downloads\\HackWithDelhi2.0\\data\\test\\images\\2000000007.png: 384x640 (no detections), 40.9ms\n",
      "image 304/400 C:\\Users\\Vaibhav\\Downloads\\HackWithDelhi2.0\\data\\test\\images\\2000000008.png: 384x640 1 ToolBox, 1 OxygenTank, 40.8ms\n",
      "image 305/400 C:\\Users\\Vaibhav\\Downloads\\HackWithDelhi2.0\\data\\test\\images\\2000000009.png: 384x640 2 OxygenTanks, 40.0ms\n",
      "image 306/400 C:\\Users\\Vaibhav\\Downloads\\HackWithDelhi2.0\\data\\test\\images\\2000000010.png: 384x640 1 FireExtinguisher, 2 OxygenTanks, 39.8ms\n",
      "image 307/400 C:\\Users\\Vaibhav\\Downloads\\HackWithDelhi2.0\\data\\test\\images\\2000000011.png: 384x640 1 ToolBox, 1 OxygenTank, 39.1ms\n",
      "image 308/400 C:\\Users\\Vaibhav\\Downloads\\HackWithDelhi2.0\\data\\test\\images\\2000000012.png: 384x640 1 FireExtinguisher, 3 OxygenTanks, 39.2ms\n",
      "image 309/400 C:\\Users\\Vaibhav\\Downloads\\HackWithDelhi2.0\\data\\test\\images\\2000000013.png: 384x640 (no detections), 39.1ms\n",
      "image 310/400 C:\\Users\\Vaibhav\\Downloads\\HackWithDelhi2.0\\data\\test\\images\\2000000014.png: 384x640 1 FireExtinguisher, 1 ToolBox, 1 OxygenTank, 39.3ms\n",
      "image 311/400 C:\\Users\\Vaibhav\\Downloads\\HackWithDelhi2.0\\data\\test\\images\\2000000015.png: 384x640 1 ToolBox, 39.1ms\n",
      "image 312/400 C:\\Users\\Vaibhav\\Downloads\\HackWithDelhi2.0\\data\\test\\images\\2000000016.png: 384x640 1 OxygenTank, 38.9ms\n",
      "image 313/400 C:\\Users\\Vaibhav\\Downloads\\HackWithDelhi2.0\\data\\test\\images\\2000000017.png: 384x640 (no detections), 38.8ms\n",
      "image 314/400 C:\\Users\\Vaibhav\\Downloads\\HackWithDelhi2.0\\data\\test\\images\\2000000018.png: 384x640 1 FireExtinguisher, 1 ToolBox, 1 OxygenTank, 38.7ms\n",
      "image 315/400 C:\\Users\\Vaibhav\\Downloads\\HackWithDelhi2.0\\data\\test\\images\\2000000019.png: 384x640 1 FireExtinguisher, 2 OxygenTanks, 38.8ms\n",
      "image 316/400 C:\\Users\\Vaibhav\\Downloads\\HackWithDelhi2.0\\data\\test\\images\\2000000020.png: 384x640 1 FireExtinguisher, 1 ToolBox, 1 OxygenTank, 38.7ms\n",
      "image 317/400 C:\\Users\\Vaibhav\\Downloads\\HackWithDelhi2.0\\data\\test\\images\\2000000021.png: 384x640 1 ToolBox, 1 OxygenTank, 38.9ms\n",
      "image 318/400 C:\\Users\\Vaibhav\\Downloads\\HackWithDelhi2.0\\data\\test\\images\\2000000022.png: 384x640 1 ToolBox, 1 OxygenTank, 38.8ms\n",
      "image 319/400 C:\\Users\\Vaibhav\\Downloads\\HackWithDelhi2.0\\data\\test\\images\\2000000023.png: 384x640 2 OxygenTanks, 38.6ms\n",
      "image 320/400 C:\\Users\\Vaibhav\\Downloads\\HackWithDelhi2.0\\data\\test\\images\\2000000024.png: 384x640 1 OxygenTank, 38.6ms\n",
      "image 321/400 C:\\Users\\Vaibhav\\Downloads\\HackWithDelhi2.0\\data\\test\\images\\2000000025.png: 384x640 1 ToolBox, 38.5ms\n",
      "image 322/400 C:\\Users\\Vaibhav\\Downloads\\HackWithDelhi2.0\\data\\test\\images\\2000000026.png: 384x640 1 ToolBox, 1 OxygenTank, 38.5ms\n",
      "image 323/400 C:\\Users\\Vaibhav\\Downloads\\HackWithDelhi2.0\\data\\test\\images\\2000000027.png: 384x640 1 FireExtinguisher, 38.6ms\n",
      "image 324/400 C:\\Users\\Vaibhav\\Downloads\\HackWithDelhi2.0\\data\\test\\images\\2000000028.png: 384x640 1 ToolBox, 38.5ms\n",
      "image 325/400 C:\\Users\\Vaibhav\\Downloads\\HackWithDelhi2.0\\data\\test\\images\\2000000029.png: 384x640 1 FireExtinguisher, 38.4ms\n",
      "image 326/400 C:\\Users\\Vaibhav\\Downloads\\HackWithDelhi2.0\\data\\test\\images\\2000000030.png: 384x640 1 FireExtinguisher, 38.5ms\n",
      "image 327/400 C:\\Users\\Vaibhav\\Downloads\\HackWithDelhi2.0\\data\\test\\images\\2000000031.png: 384x640 1 OxygenTank, 38.5ms\n",
      "image 328/400 C:\\Users\\Vaibhav\\Downloads\\HackWithDelhi2.0\\data\\test\\images\\2000000032.png: 384x640 1 OxygenTank, 38.4ms\n",
      "image 329/400 C:\\Users\\Vaibhav\\Downloads\\HackWithDelhi2.0\\data\\test\\images\\2000000033.png: 384x640 1 OxygenTank, 38.6ms\n",
      "image 330/400 C:\\Users\\Vaibhav\\Downloads\\HackWithDelhi2.0\\data\\test\\images\\2000000034.png: 384x640 1 ToolBox, 38.5ms\n",
      "image 331/400 C:\\Users\\Vaibhav\\Downloads\\HackWithDelhi2.0\\data\\test\\images\\2000000035.png: 384x640 1 FireExtinguisher, 38.6ms\n",
      "image 332/400 C:\\Users\\Vaibhav\\Downloads\\HackWithDelhi2.0\\data\\test\\images\\2000000036.png: 384x640 2 FireExtinguishers, 38.4ms\n",
      "image 333/400 C:\\Users\\Vaibhav\\Downloads\\HackWithDelhi2.0\\data\\test\\images\\2000000037.png: 384x640 1 FireExtinguisher, 38.7ms\n",
      "image 334/400 C:\\Users\\Vaibhav\\Downloads\\HackWithDelhi2.0\\data\\test\\images\\2000000038.png: 384x640 1 ToolBox, 1 OxygenTank, 39.1ms\n",
      "image 335/400 C:\\Users\\Vaibhav\\Downloads\\HackWithDelhi2.0\\data\\test\\images\\2000000040.png: 384x640 1 OxygenTank, 38.7ms\n",
      "image 336/400 C:\\Users\\Vaibhav\\Downloads\\HackWithDelhi2.0\\data\\test\\images\\2000000041.png: 384x640 1 ToolBox, 1 OxygenTank, 38.4ms\n",
      "image 337/400 C:\\Users\\Vaibhav\\Downloads\\HackWithDelhi2.0\\data\\test\\images\\2000000042.png: 384x640 1 FireExtinguisher, 2 OxygenTanks, 38.4ms\n",
      "image 338/400 C:\\Users\\Vaibhav\\Downloads\\HackWithDelhi2.0\\data\\test\\images\\2000000043.png: 384x640 1 FireExtinguisher, 1 ToolBox, 38.5ms\n",
      "image 339/400 C:\\Users\\Vaibhav\\Downloads\\HackWithDelhi2.0\\data\\test\\images\\2000000044.png: 384x640 1 FireExtinguisher, 2 OxygenTanks, 38.4ms\n",
      "image 340/400 C:\\Users\\Vaibhav\\Downloads\\HackWithDelhi2.0\\data\\test\\images\\2000000045.png: 384x640 1 OxygenTank, 38.5ms\n",
      "image 341/400 C:\\Users\\Vaibhav\\Downloads\\HackWithDelhi2.0\\data\\test\\images\\2000000046.png: 384x640 1 FireExtinguisher, 2 OxygenTanks, 38.6ms\n",
      "image 342/400 C:\\Users\\Vaibhav\\Downloads\\HackWithDelhi2.0\\data\\test\\images\\2000000047.png: 384x640 1 FireExtinguisher, 38.4ms\n",
      "image 343/400 C:\\Users\\Vaibhav\\Downloads\\HackWithDelhi2.0\\data\\test\\images\\2000000048.png: 384x640 1 FireExtinguisher, 3 OxygenTanks, 38.5ms\n",
      "image 344/400 C:\\Users\\Vaibhav\\Downloads\\HackWithDelhi2.0\\data\\test\\images\\2000000049.png: 384x640 1 FireExtinguisher, 38.5ms\n",
      "image 345/400 C:\\Users\\Vaibhav\\Downloads\\HackWithDelhi2.0\\data\\test\\images\\2000000050.png: 384x640 1 OxygenTank, 38.6ms\n",
      "image 346/400 C:\\Users\\Vaibhav\\Downloads\\HackWithDelhi2.0\\data\\test\\images\\2000000051.png: 384x640 1 OxygenTank, 38.4ms\n",
      "image 347/400 C:\\Users\\Vaibhav\\Downloads\\HackWithDelhi2.0\\data\\test\\images\\2000000052.png: 384x640 1 ToolBox, 38.6ms\n",
      "image 348/400 C:\\Users\\Vaibhav\\Downloads\\HackWithDelhi2.0\\data\\test\\images\\2000000053.png: 384x640 1 OxygenTank, 38.5ms\n",
      "image 349/400 C:\\Users\\Vaibhav\\Downloads\\HackWithDelhi2.0\\data\\test\\images\\2000000054.png: 384x640 1 ToolBox, 38.5ms\n",
      "image 350/400 C:\\Users\\Vaibhav\\Downloads\\HackWithDelhi2.0\\data\\test\\images\\2000000055.png: 384x640 1 ToolBox, 38.5ms\n",
      "image 351/400 C:\\Users\\Vaibhav\\Downloads\\HackWithDelhi2.0\\data\\test\\images\\2000000056.png: 384x640 1 ToolBox, 38.4ms\n",
      "image 352/400 C:\\Users\\Vaibhav\\Downloads\\HackWithDelhi2.0\\data\\test\\images\\2000000057.png: 384x640 1 ToolBox, 38.4ms\n",
      "image 353/400 C:\\Users\\Vaibhav\\Downloads\\HackWithDelhi2.0\\data\\test\\images\\2000000058.png: 384x640 (no detections), 38.6ms\n",
      "image 354/400 C:\\Users\\Vaibhav\\Downloads\\HackWithDelhi2.0\\data\\test\\images\\2000000059.png: 384x640 3 ToolBoxs, 38.5ms\n",
      "image 355/400 C:\\Users\\Vaibhav\\Downloads\\HackWithDelhi2.0\\data\\test\\images\\2000000060.png: 384x640 1 OxygenTank, 39.4ms\n",
      "image 356/400 C:\\Users\\Vaibhav\\Downloads\\HackWithDelhi2.0\\data\\test\\images\\2000000061.png: 384x640 1 ToolBox, 39.4ms\n",
      "image 357/400 C:\\Users\\Vaibhav\\Downloads\\HackWithDelhi2.0\\data\\test\\images\\2000000062.png: 384x640 (no detections), 38.8ms\n",
      "image 358/400 C:\\Users\\Vaibhav\\Downloads\\HackWithDelhi2.0\\data\\test\\images\\2000000063.png: 384x640 1 ToolBox, 2 OxygenTanks, 38.7ms\n",
      "image 359/400 C:\\Users\\Vaibhav\\Downloads\\HackWithDelhi2.0\\data\\test\\images\\2000000064.png: 384x640 1 FireExtinguisher, 38.9ms\n",
      "image 360/400 C:\\Users\\Vaibhav\\Downloads\\HackWithDelhi2.0\\data\\test\\images\\2000000065.png: 384x640 1 OxygenTank, 38.8ms\n",
      "image 361/400 C:\\Users\\Vaibhav\\Downloads\\HackWithDelhi2.0\\data\\test\\images\\2000000066.png: 384x640 1 FireExtinguisher, 38.8ms\n",
      "image 362/400 C:\\Users\\Vaibhav\\Downloads\\HackWithDelhi2.0\\data\\test\\images\\2000000067.png: 384x640 1 ToolBox, 38.4ms\n",
      "image 363/400 C:\\Users\\Vaibhav\\Downloads\\HackWithDelhi2.0\\data\\test\\images\\2000000068.png: 384x640 1 FireExtinguisher, 1 ToolBox, 2 OxygenTanks, 38.4ms\n",
      "image 364/400 C:\\Users\\Vaibhav\\Downloads\\HackWithDelhi2.0\\data\\test\\images\\2000000069.png: 384x640 1 FireExtinguisher, 38.5ms\n",
      "image 365/400 C:\\Users\\Vaibhav\\Downloads\\HackWithDelhi2.0\\data\\test\\images\\2000000070.png: 384x640 1 ToolBox, 38.7ms\n",
      "image 366/400 C:\\Users\\Vaibhav\\Downloads\\HackWithDelhi2.0\\data\\test\\images\\2000000071.png: 384x640 1 OxygenTank, 38.7ms\n",
      "image 367/400 C:\\Users\\Vaibhav\\Downloads\\HackWithDelhi2.0\\data\\test\\images\\2000000072.png: 384x640 1 ToolBox, 1 OxygenTank, 38.5ms\n",
      "image 368/400 C:\\Users\\Vaibhav\\Downloads\\HackWithDelhi2.0\\data\\test\\images\\2000000073.png: 384x640 1 FireExtinguisher, 1 ToolBox, 38.7ms\n",
      "image 369/400 C:\\Users\\Vaibhav\\Downloads\\HackWithDelhi2.0\\data\\test\\images\\2000000074.png: 384x640 1 ToolBox, 38.6ms\n",
      "image 370/400 C:\\Users\\Vaibhav\\Downloads\\HackWithDelhi2.0\\data\\test\\images\\2000000075.png: 384x640 1 OxygenTank, 38.5ms\n",
      "image 371/400 C:\\Users\\Vaibhav\\Downloads\\HackWithDelhi2.0\\data\\test\\images\\2000000076.png: 384x640 1 FireExtinguisher, 1 OxygenTank, 38.5ms\n",
      "image 372/400 C:\\Users\\Vaibhav\\Downloads\\HackWithDelhi2.0\\data\\test\\images\\2000000077.png: 384x640 1 OxygenTank, 38.5ms\n",
      "image 373/400 C:\\Users\\Vaibhav\\Downloads\\HackWithDelhi2.0\\data\\test\\images\\2000000078.png: 384x640 1 FireExtinguisher, 38.4ms\n",
      "image 374/400 C:\\Users\\Vaibhav\\Downloads\\HackWithDelhi2.0\\data\\test\\images\\2000000079.png: 384x640 1 OxygenTank, 38.5ms\n",
      "image 375/400 C:\\Users\\Vaibhav\\Downloads\\HackWithDelhi2.0\\data\\test\\images\\2000000080.png: 384x640 1 OxygenTank, 38.6ms\n",
      "image 376/400 C:\\Users\\Vaibhav\\Downloads\\HackWithDelhi2.0\\data\\test\\images\\2000000081.png: 384x640 1 OxygenTank, 38.4ms\n",
      "image 377/400 C:\\Users\\Vaibhav\\Downloads\\HackWithDelhi2.0\\data\\test\\images\\2000000082.png: 384x640 1 FireExtinguisher, 1 OxygenTank, 39.0ms\n",
      "image 378/400 C:\\Users\\Vaibhav\\Downloads\\HackWithDelhi2.0\\data\\test\\images\\3000000000.png: 384x640 1 FireExtinguisher, 1 ToolBox, 39.3ms\n",
      "image 379/400 C:\\Users\\Vaibhav\\Downloads\\HackWithDelhi2.0\\data\\test\\images\\3000000001.png: 384x640 1 OxygenTank, 38.8ms\n",
      "image 380/400 C:\\Users\\Vaibhav\\Downloads\\HackWithDelhi2.0\\data\\test\\images\\3000000004.png: 384x640 1 FireExtinguisher, 1 OxygenTank, 38.9ms\n",
      "image 381/400 C:\\Users\\Vaibhav\\Downloads\\HackWithDelhi2.0\\data\\test\\images\\3000000015.png: 384x640 1 ToolBox, 38.8ms\n",
      "image 382/400 C:\\Users\\Vaibhav\\Downloads\\HackWithDelhi2.0\\data\\test\\images\\3000000017.png: 384x640 1 FireExtinguisher, 38.4ms\n",
      "image 383/400 C:\\Users\\Vaibhav\\Downloads\\HackWithDelhi2.0\\data\\test\\images\\3000000018.png: 384x640 1 FireExtinguisher, 1 ToolBox, 38.7ms\n",
      "image 384/400 C:\\Users\\Vaibhav\\Downloads\\HackWithDelhi2.0\\data\\test\\images\\3000000024.png: 384x640 1 ToolBox, 1 OxygenTank, 38.4ms\n",
      "image 385/400 C:\\Users\\Vaibhav\\Downloads\\HackWithDelhi2.0\\data\\test\\images\\3000000027.png: 384x640 1 FireExtinguisher, 1 ToolBox, 38.5ms\n",
      "image 386/400 C:\\Users\\Vaibhav\\Downloads\\HackWithDelhi2.0\\data\\test\\images\\3000000030.png: 384x640 1 ToolBox, 38.5ms\n",
      "image 387/400 C:\\Users\\Vaibhav\\Downloads\\HackWithDelhi2.0\\data\\test\\images\\3000000033.png: 384x640 1 ToolBox, 38.7ms\n",
      "image 388/400 C:\\Users\\Vaibhav\\Downloads\\HackWithDelhi2.0\\data\\test\\images\\3000000034.png: 384x640 1 FireExtinguisher, 38.5ms\n",
      "image 389/400 C:\\Users\\Vaibhav\\Downloads\\HackWithDelhi2.0\\data\\test\\images\\3000000036.png: 384x640 1 OxygenTank, 38.8ms\n",
      "image 390/400 C:\\Users\\Vaibhav\\Downloads\\HackWithDelhi2.0\\data\\test\\images\\3000000038.png: 384x640 2 OxygenTanks, 38.5ms\n",
      "image 391/400 C:\\Users\\Vaibhav\\Downloads\\HackWithDelhi2.0\\data\\test\\images\\3000000042.png: 384x640 1 FireExtinguisher, 1 OxygenTank, 38.5ms\n",
      "image 392/400 C:\\Users\\Vaibhav\\Downloads\\HackWithDelhi2.0\\data\\test\\images\\3000000050.png: 384x640 1 FireExtinguisher, 1 ToolBox, 38.6ms\n",
      "image 393/400 C:\\Users\\Vaibhav\\Downloads\\HackWithDelhi2.0\\data\\test\\images\\3000000054.png: 384x640 1 ToolBox, 38.5ms\n",
      "image 394/400 C:\\Users\\Vaibhav\\Downloads\\HackWithDelhi2.0\\data\\test\\images\\3000000060.png: 384x640 2 FireExtinguishers, 38.6ms\n",
      "image 395/400 C:\\Users\\Vaibhav\\Downloads\\HackWithDelhi2.0\\data\\test\\images\\3000000064.png: 384x640 (no detections), 38.5ms\n",
      "image 396/400 C:\\Users\\Vaibhav\\Downloads\\HackWithDelhi2.0\\data\\test\\images\\3000000072.png: 384x640 1 OxygenTank, 39.6ms\n",
      "image 397/400 C:\\Users\\Vaibhav\\Downloads\\HackWithDelhi2.0\\data\\test\\images\\3000000073.png: 384x640 1 FireExtinguisher, 39.5ms\n",
      "image 398/400 C:\\Users\\Vaibhav\\Downloads\\HackWithDelhi2.0\\data\\test\\images\\3000000075.png: 384x640 1 OxygenTank, 38.8ms\n",
      "image 399/400 C:\\Users\\Vaibhav\\Downloads\\HackWithDelhi2.0\\data\\test\\images\\3000000077.png: 384x640 1 FireExtinguisher, 1 ToolBox, 38.8ms\n",
      "image 400/400 C:\\Users\\Vaibhav\\Downloads\\HackWithDelhi2.0\\data\\test\\images\\3000000079.png: 384x640 2 OxygenTanks, 38.8ms\n",
      "Speed: 3.2ms preprocess, 38.9ms inference, 2.7ms postprocess per image at shape (1, 3, 384, 640)\n",
      "Results saved to \u001b[1mruns\\detect\\predict\u001b[0m\n",
      "386 labels saved to runs\\detect\\predict\\labels\n"
     ]
    }
   ],
   "source": [
    "# 🔍 Predict on test images using trained model and save results\n",
    "from ultralytics import YOLO\n",
    "\n",
    "model = YOLO(\"runs/detect/train/weights/best.pt\")\n",
    "\n",
    "results = model.predict(\n",
    "    source=\"data/test/images\",\n",
    "    conf=0.25,\n",
    "    save=True,\n",
    "    save_txt=True,\n",
    "    project=\"runs/detect\",\n",
    "    name=\"predict\",\n",
    "    exist_ok=True\n",
    ")\n"
   ]
  },
  {
   "cell_type": "code",
   "execution_count": 4,
   "id": "4b3cc869-0c08-4e7e-9f80-945425615b94",
   "metadata": {
    "scrolled": true
   },
   "outputs": [
    {
     "name": "stdout",
     "output_type": "stream",
     "text": [
      "Ultralytics 8.3.170  Python-3.10.18 torch-2.7.1+cu118 CPU (13th Gen Intel Core(TM) i5-13420H)\n",
      "Model summary (fused): 92 layers, 25,841,497 parameters, 0 gradients, 78.7 GFLOPs\n",
      "\n",
      "\u001b[34m\u001b[1mPyTorch:\u001b[0m starting from 'runs\\detect\\train\\weights\\best.pt' with input shape (1, 3, 640, 640) BCHW and output shape(s) (1, 7, 8400) (49.6 MB)\n",
      "\n",
      "\u001b[34m\u001b[1mONNX:\u001b[0m starting export with onnx 1.17.0 opset 19...\n",
      "\u001b[34m\u001b[1mONNX:\u001b[0m slimming with onnxslim 0.1.61...\n",
      "\u001b[34m\u001b[1mONNX:\u001b[0m export success  2.6s, saved as 'runs\\detect\\train\\weights\\best.onnx' (98.7 MB)\n",
      "\n",
      "Export complete (3.4s)\n",
      "Results saved to \u001b[1mC:\\Users\\Vaibhav\\Downloads\\HackWithDelhi2.0\\runs\\detect\\train\\weights\u001b[0m\n",
      "Predict:         yolo predict task=detect model=runs\\detect\\train\\weights\\best.onnx imgsz=640  \n",
      "Validate:        yolo val task=detect model=runs\\detect\\train\\weights\\best.onnx imgsz=640 data=yolo_params.yaml  \n",
      "Visualize:       https://netron.app\n"
     ]
    },
    {
     "data": {
      "text/plain": [
       "'runs\\\\detect\\\\train\\\\weights\\\\best.onnx'"
      ]
     },
     "execution_count": 4,
     "metadata": {},
     "output_type": "execute_result"
    }
   ],
   "source": [
    "# Step 1: Export YOLOv8 to ONNX\n",
    "from ultralytics import YOLO\n",
    "\n",
    "model = YOLO(\"runs/detect/train/weights/best.pt\")\n",
    "model.export(format=\"onnx\")\n",
    "\n",
    "# then run in EDU terminal in Anaconda -> pip install onnx tf2onnx tensorflow tf_keras\n",
    "pip install onnx-tf\n",
    "\n",
    "pip install tensorflow-probability\n",
    "\n",
    "# then run this EDU Terminal in Anaconda->\n",
    "# python -m tf2onnx.convert --opset 13 ^\n",
    "#   --input runs/detect/train/weights/best.onnx ^\n",
    "#   --output best_tf_model ^\n",
    "#   --fold_const ^\n",
    "#   --inputs-as-nchw \"images:0\" ^\n",
    "#   --saved-model\n"
   ]
  },
  {
   "cell_type": "code",
   "execution_count": 8,
   "id": "18b7e66a-a5fa-4341-a1a0-3d5ade83b5cf",
   "metadata": {},
   "outputs": [
    {
     "ename": "AttributeError",
     "evalue": "module 'tf2onnx.convert' has no attribute 'from_onnx'",
     "output_type": "error",
     "traceback": [
      "\u001b[1;31m---------------------------------------------------------------------------\u001b[0m",
      "\u001b[1;31mAttributeError\u001b[0m                            Traceback (most recent call last)",
      "Cell \u001b[1;32mIn[8], line 12\u001b[0m\n\u001b[0;32m     10\u001b[0m \u001b[38;5;66;03m# 2. Convert to TensorFlow SavedModel\u001b[39;00m\n\u001b[0;32m     11\u001b[0m saved_model_dir \u001b[38;5;241m=\u001b[39m \u001b[38;5;124m\"\u001b[39m\u001b[38;5;124mbest_tf_model\u001b[39m\u001b[38;5;124m\"\u001b[39m\n\u001b[1;32m---> 12\u001b[0m model_proto, _ \u001b[38;5;241m=\u001b[39m \u001b[43mtf2onnx\u001b[49m\u001b[38;5;241;43m.\u001b[39;49m\u001b[43mconvert\u001b[49m\u001b[38;5;241;43m.\u001b[39;49m\u001b[43mfrom_onnx\u001b[49m(\n\u001b[0;32m     13\u001b[0m     onnx_model,\n\u001b[0;32m     14\u001b[0m     output_path\u001b[38;5;241m=\u001b[39m\u001b[38;5;28;01mNone\u001b[39;00m,\n\u001b[0;32m     15\u001b[0m     opset\u001b[38;5;241m=\u001b[39m\u001b[38;5;241m13\u001b[39m,\n\u001b[0;32m     16\u001b[0m     output_names\u001b[38;5;241m=\u001b[39m[\u001b[38;5;124m\"\u001b[39m\u001b[38;5;124moutput\u001b[39m\u001b[38;5;124m\"\u001b[39m]\n\u001b[0;32m     17\u001b[0m )\n\u001b[0;32m     18\u001b[0m tf\u001b[38;5;241m.\u001b[39msaved_model\u001b[38;5;241m.\u001b[39msave(model_proto, saved_model_dir)\n\u001b[0;32m     19\u001b[0m \u001b[38;5;28mprint\u001b[39m(\u001b[38;5;124mf\u001b[39m\u001b[38;5;124m\"\u001b[39m\u001b[38;5;124m✅ SavedModel exported to: \u001b[39m\u001b[38;5;132;01m{\u001b[39;00msaved_model_dir\u001b[38;5;132;01m}\u001b[39;00m\u001b[38;5;124m\"\u001b[39m)\n",
      "\u001b[1;31mAttributeError\u001b[0m: module 'tf2onnx.convert' has no attribute 'from_onnx'"
     ]
    }
   ],
   "source": [
    "import onnx\n",
    "import tf2onnx\n",
    "import tensorflow as tf\n",
    "import os\n",
    "\n",
    "# 1. Load ONNX model from file\n",
    "onnx_model_path = \"runs/detect/train/weights/best.onnx\"\n",
    "onnx_model = onnx.load(onnx_model_path)\n",
    "\n",
    "# 2. Convert to TensorFlow SavedModel\n",
    "saved_model_dir = \"best_tf_model\"\n",
    "model_proto, _ = tf2onnx.convert.from_onnx(\n",
    "    onnx_model,\n",
    "    output_path=None,\n",
    "    opset=13,\n",
    "    output_names=[\"output\"]\n",
    ")\n",
    "tf.saved_model.save(model_proto, saved_model_dir)\n",
    "print(f\"✅ SavedModel exported to: {saved_model_dir}\")\n",
    "\n",
    "# 3. Convert to TFLite\n",
    "converter = tf.lite.TFLiteConverter.from_saved_model(saved_model_dir)\n",
    "converter.optimizations = [tf.lite.Optimize.DEFAULT]  # optional quantization\n",
    "tflite_model = converter.convert()\n",
    "\n",
    "# 4. Save the TFLite model\n",
    "tflite_model_path = \"best_model.tflite\"\n",
    "with open(tflite_model_path, \"wb\") as f:\n",
    "    f.write(tflite_model)\n",
    "\n",
    "print(f\"✅ TFLite model saved as: {tflite_model_path}\")\n"
   ]
  },
  {
   "cell_type": "code",
   "execution_count": null,
   "id": "6595fdc6-3743-4c22-a2f7-59568668c25b",
   "metadata": {},
   "outputs": [],
   "source": []
  }
 ],
 "metadata": {
  "kernelspec": {
   "display_name": "Python 3 (ipykernel)",
   "language": "python",
   "name": "python3"
  },
  "language_info": {
   "codemirror_mode": {
    "name": "ipython",
    "version": 3
   },
   "file_extension": ".py",
   "mimetype": "text/x-python",
   "name": "python",
   "nbconvert_exporter": "python",
   "pygments_lexer": "ipython3",
   "version": "3.10.18"
  }
 },
 "nbformat": 4,
 "nbformat_minor": 5
}
